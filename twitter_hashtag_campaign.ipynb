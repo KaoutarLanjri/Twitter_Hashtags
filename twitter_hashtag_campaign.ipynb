{
 "cells": [
  {
   "cell_type": "markdown",
   "metadata": {
    "cell_id": "00000-6938b976-1eed-4aec-8f7c-6b41836ac09d",
    "deepnote_cell_type": "markdown",
    "tags": []
   },
   "source": [
    "# Questions:\n",
    "\n",
    "1- Most influencial users in specific hashtag (#energy)\n",
    "* filter users with energy hashtag in their hashtags\n",
    "* calculate index of engagement\n",
    "* visualise the top users\n",
    "\n",
    "\n",
    "\n",
    "**Index of engagement = sum(reply+retweet/followers)*100**\n",
    "\n",
    "2 - Which are the popular devices\n",
    "\n",
    "3- Define time spread\n",
    "\n",
    "*** work in progress for text analysis using wordCloud ***"
   ]
  },
  {
   "cell_type": "markdown",
   "metadata": {
    "cell_id": "00001-657271ac-f974-4e07-9ffc-444f5aa0d968",
    "deepnote_cell_type": "markdown",
    "tags": []
   },
   "source": [
    "## Importing libraries"
   ]
  },
  {
   "cell_type": "code",
   "execution_count": 1,
   "metadata": {
    "ExecuteTime": {
     "end_time": "2021-02-04T15:00:01.603821Z",
     "start_time": "2021-02-04T14:59:59.414437Z"
    },
    "cell_id": "00000-b6e55991-a23c-4852-889e-95f96a985f00",
    "deepnote_cell_type": "code",
    "deepnote_to_be_reexecuted": false,
    "execution_millis": 2390,
    "execution_start": 1610457209135,
    "scrolled": true,
    "source_hash": "50a444fd",
    "tags": []
   },
   "outputs": [],
   "source": [
    "import numpy as np\n",
    "import pandas as pd\n",
    "from os import path\n",
    "from PIL import Image\n",
    "from wordCloud import wordCloud, STOPWORDS, ImageColorGenerator\n",
    "import matplotlib.pyplot as plt\n",
    "import matplotlib.image as mpimg\n",
    "%matplotlib inline\n",
    "import seaborn as sns\n",
    "import nltk\n",
    "nltk.download('punkt')"
   ]
  },
  {
   "cell_type": "code",
   "execution_count": 2,
   "metadata": {
    "ExecuteTime": {
     "end_time": "2021-02-04T15:00:06.067245Z",
     "start_time": "2021-02-04T15:00:02.400442Z"
    },
    "cell_id": "00001-de4de5d6-b0e5-43aa-a49c-4be22cbf347e",
    "deepnote_cell_type": "code",
    "deepnote_to_be_reexecuted": false,
    "execution_millis": 3724,
    "execution_start": 1610457211531,
    "source_hash": "32206b28",
    "tags": []
   },
   "outputs": [
    {
     "name": "stderr",
     "output_type": "stream",
     "text": [
      "/opt/anaconda3/lib/python3.7/site-packages/IPython/core/interactiveshell.py:3147: DtypeWarning: Columns (17) have mixed types.Specify dtype option on import or set low_memory=False.\n",
      "  interactivity=interactivity, compiler=compiler, result=result)\n"
     ]
    }
   ],
   "source": [
    "df = pd.read_csv('twitter_data.csv', sep=',')"
   ]
  },
  {
   "cell_type": "code",
   "execution_count": 3,
   "metadata": {
    "ExecuteTime": {
     "end_time": "2021-02-04T15:00:06.907321Z",
     "start_time": "2021-02-04T15:00:06.899566Z"
    },
    "cell_id": "00003-d18a69b3-129c-4387-83ff-0f88c15a5edc",
    "deepnote_cell_type": "code",
    "deepnote_to_be_reexecuted": false,
    "execution_millis": 0,
    "execution_start": 1610457215256,
    "source_hash": "14f60b8f",
    "tags": []
   },
   "outputs": [
    {
     "data": {
      "text/plain": [
       "(288349, 24)"
      ]
     },
     "execution_count": 3,
     "metadata": {},
     "output_type": "execute_result"
    }
   ],
   "source": [
    "df.shape"
   ]
  },
  {
   "cell_type": "code",
   "execution_count": 4,
   "metadata": {
    "ExecuteTime": {
     "end_time": "2021-02-04T15:00:09.200454Z",
     "start_time": "2021-02-04T15:00:09.161455Z"
    },
    "cell_id": "00002-31b82f81-0b4b-442c-8ea6-5aada516652e",
    "deepnote_cell_type": "code",
    "deepnote_to_be_reexecuted": false,
    "execution_millis": 81,
    "execution_start": 1610457215257,
    "source_hash": "c085b6ba",
    "tags": []
   },
   "outputs": [
    {
     "data": {
      "text/html": [
       "<div>\n",
       "<style scoped>\n",
       "    .dataframe tbody tr th:only-of-type {\n",
       "        vertical-align: middle;\n",
       "    }\n",
       "\n",
       "    .dataframe tbody tr th {\n",
       "        vertical-align: top;\n",
       "    }\n",
       "\n",
       "    .dataframe thead th {\n",
       "        text-align: right;\n",
       "    }\n",
       "</style>\n",
       "<table border=\"1\" class=\"dataframe\">\n",
       "  <thead>\n",
       "    <tr style=\"text-align: right;\">\n",
       "      <th></th>\n",
       "      <th>Unnamed: 0</th>\n",
       "      <th>index</th>\n",
       "      <th>url</th>\n",
       "      <th>created_at</th>\n",
       "      <th>text</th>\n",
       "      <th>_id</th>\n",
       "      <th>links</th>\n",
       "      <th>reply_count</th>\n",
       "      <th>retweet_count</th>\n",
       "      <th>favorite_count</th>\n",
       "      <th>...</th>\n",
       "      <th>source_name</th>\n",
       "      <th>media</th>\n",
       "      <th>collected_via</th>\n",
       "      <th>retweet</th>\n",
       "      <th>user_screen_name</th>\n",
       "      <th>quoted_id</th>\n",
       "      <th>quoted_user_id</th>\n",
       "      <th>mentions_names</th>\n",
       "      <th>mentions_ids</th>\n",
       "      <th>hashtags</th>\n",
       "    </tr>\n",
       "  </thead>\n",
       "  <tbody>\n",
       "    <tr>\n",
       "      <th>0</th>\n",
       "      <td>0</td>\n",
       "      <td>0</td>\n",
       "      <td>https://twitter.com/LeipzigSyd/status/12233949...</td>\n",
       "      <td>2020-01-31 23:57:47+00:00</td>\n",
       "      <td>#Canberra suburbs and hundreds of lives at ris...</td>\n",
       "      <td>1.223395e+18</td>\n",
       "      <td>https://www.theguardian.com/australia-news/liv...</td>\n",
       "      <td>2.0</td>\n",
       "      <td>5.0</td>\n",
       "      <td>6.0</td>\n",
       "      <td>...</td>\n",
       "      <td>Twitter for Android</td>\n",
       "      <td>NaN</td>\n",
       "      <td>scraping</td>\n",
       "      <td>False</td>\n",
       "      <td>LeipzigSyd</td>\n",
       "      <td>NaN</td>\n",
       "      <td>NaN</td>\n",
       "      <td>NaN</td>\n",
       "      <td>NaN</td>\n",
       "      <td>canberra|bushfires|nsw|act|victoria|coal|gas|a...</td>\n",
       "    </tr>\n",
       "    <tr>\n",
       "      <th>1</th>\n",
       "      <td>1</td>\n",
       "      <td>1</td>\n",
       "      <td>https://twitter.com/5minofscience/status/12233...</td>\n",
       "      <td>2020-01-31 23:55:45+00:00</td>\n",
       "      <td>Another consequence of climate change: Dozens ...</td>\n",
       "      <td>1.223394e+18</td>\n",
       "      <td>https://www.theweathernetwork.com/ca/news/arti...</td>\n",
       "      <td>0.0</td>\n",
       "      <td>1.0</td>\n",
       "      <td>0.0</td>\n",
       "      <td>...</td>\n",
       "      <td>Twitter for Android</td>\n",
       "      <td>NaN</td>\n",
       "      <td>scraping</td>\n",
       "      <td>False</td>\n",
       "      <td>5minofscience</td>\n",
       "      <td>NaN</td>\n",
       "      <td>NaN</td>\n",
       "      <td>NaN</td>\n",
       "      <td>NaN</td>\n",
       "      <td>climatechange|climate|environment|coronoraviru...</td>\n",
       "    </tr>\n",
       "    <tr>\n",
       "      <th>2</th>\n",
       "      <td>2</td>\n",
       "      <td>2</td>\n",
       "      <td>https://twitter.com/Cameron_Diver/status/12233...</td>\n",
       "      <td>2020-01-31 23:49:44+00:00</td>\n",
       "      <td>#Climate breakdown 'is increasing #ViolenceAga...</td>\n",
       "      <td>1.223393e+18</td>\n",
       "      <td>https://www.theguardian.com/environment/2020/j...</td>\n",
       "      <td>0.0</td>\n",
       "      <td>2.0</td>\n",
       "      <td>10.0</td>\n",
       "      <td>...</td>\n",
       "      <td>Twitter for iPhone</td>\n",
       "      <td>NaN</td>\n",
       "      <td>scraping</td>\n",
       "      <td>False</td>\n",
       "      <td>Cameron_Diver</td>\n",
       "      <td>NaN</td>\n",
       "      <td>NaN</td>\n",
       "      <td>NaN</td>\n",
       "      <td>NaN</td>\n",
       "      <td>climate|violenceagainstwomen|vawg|climatechang...</td>\n",
       "    </tr>\n",
       "    <tr>\n",
       "      <th>3</th>\n",
       "      <td>3</td>\n",
       "      <td>3</td>\n",
       "      <td>https://twitter.com/PlantBasedNews/status/1223...</td>\n",
       "      <td>2020-01-31 23:48:01+00:00</td>\n",
       "      <td>'If a private plane is really the most cost-ef...</td>\n",
       "      <td>1.223393e+18</td>\n",
       "      <td>https://www.plantbasednews.org/news/environmen...</td>\n",
       "      <td>2.0</td>\n",
       "      <td>5.0</td>\n",
       "      <td>22.0</td>\n",
       "      <td>...</td>\n",
       "      <td>Buffer</td>\n",
       "      <td>NaN</td>\n",
       "      <td>scraping</td>\n",
       "      <td>False</td>\n",
       "      <td>PlantBasedNews</td>\n",
       "      <td>NaN</td>\n",
       "      <td>NaN</td>\n",
       "      <td>NaN</td>\n",
       "      <td>NaN</td>\n",
       "      <td>climate</td>\n",
       "    </tr>\n",
       "    <tr>\n",
       "      <th>4</th>\n",
       "      <td>4</td>\n",
       "      <td>4</td>\n",
       "      <td>https://twitter.com/Bec_Carman/status/12233893...</td>\n",
       "      <td>2020-01-31 23:35:35+00:00</td>\n",
       "      <td>@TerrySquibb1 @marketmodel @jimcramer @Sameera...</td>\n",
       "      <td>1.223389e+18</td>\n",
       "      <td>NaN</td>\n",
       "      <td>3.0</td>\n",
       "      <td>0.0</td>\n",
       "      <td>0.0</td>\n",
       "      <td>...</td>\n",
       "      <td>Twitter Web App</td>\n",
       "      <td>[{'previewUrl': 'https://pbs.twimg.com/media/E...</td>\n",
       "      <td>scraping</td>\n",
       "      <td>False</td>\n",
       "      <td>Bec_Carman</td>\n",
       "      <td>NaN</td>\n",
       "      <td>NaN</td>\n",
       "      <td>terrysquibb1|marketmodel|jimcramer|sameerasava...</td>\n",
       "      <td>2924967512|21917683|14216123|557109347</td>\n",
       "      <td>fossilfuels|climate</td>\n",
       "    </tr>\n",
       "  </tbody>\n",
       "</table>\n",
       "<p>5 rows × 24 columns</p>\n",
       "</div>"
      ],
      "text/plain": [
       "   Unnamed: 0  index                                                url  \\\n",
       "0           0      0  https://twitter.com/LeipzigSyd/status/12233949...   \n",
       "1           1      1  https://twitter.com/5minofscience/status/12233...   \n",
       "2           2      2  https://twitter.com/Cameron_Diver/status/12233...   \n",
       "3           3      3  https://twitter.com/PlantBasedNews/status/1223...   \n",
       "4           4      4  https://twitter.com/Bec_Carman/status/12233893...   \n",
       "\n",
       "                  created_at  \\\n",
       "0  2020-01-31 23:57:47+00:00   \n",
       "1  2020-01-31 23:55:45+00:00   \n",
       "2  2020-01-31 23:49:44+00:00   \n",
       "3  2020-01-31 23:48:01+00:00   \n",
       "4  2020-01-31 23:35:35+00:00   \n",
       "\n",
       "                                                text           _id  \\\n",
       "0  #Canberra suburbs and hundreds of lives at ris...  1.223395e+18   \n",
       "1  Another consequence of climate change: Dozens ...  1.223394e+18   \n",
       "2  #Climate breakdown 'is increasing #ViolenceAga...  1.223393e+18   \n",
       "3  'If a private plane is really the most cost-ef...  1.223393e+18   \n",
       "4  @TerrySquibb1 @marketmodel @jimcramer @Sameera...  1.223389e+18   \n",
       "\n",
       "                                               links  reply_count  \\\n",
       "0  https://www.theguardian.com/australia-news/liv...          2.0   \n",
       "1  https://www.theweathernetwork.com/ca/news/arti...          0.0   \n",
       "2  https://www.theguardian.com/environment/2020/j...          0.0   \n",
       "3  https://www.plantbasednews.org/news/environmen...          2.0   \n",
       "4                                                NaN          3.0   \n",
       "\n",
       "   retweet_count  favorite_count  ...          source_name  \\\n",
       "0            5.0             6.0  ...  Twitter for Android   \n",
       "1            1.0             0.0  ...  Twitter for Android   \n",
       "2            2.0            10.0  ...   Twitter for iPhone   \n",
       "3            5.0            22.0  ...               Buffer   \n",
       "4            0.0             0.0  ...      Twitter Web App   \n",
       "\n",
       "                                               media collected_via retweet  \\\n",
       "0                                                NaN      scraping   False   \n",
       "1                                                NaN      scraping   False   \n",
       "2                                                NaN      scraping   False   \n",
       "3                                                NaN      scraping   False   \n",
       "4  [{'previewUrl': 'https://pbs.twimg.com/media/E...      scraping   False   \n",
       "\n",
       "  user_screen_name quoted_id quoted_user_id  \\\n",
       "0       LeipzigSyd       NaN            NaN   \n",
       "1    5minofscience       NaN            NaN   \n",
       "2    Cameron_Diver       NaN            NaN   \n",
       "3   PlantBasedNews       NaN            NaN   \n",
       "4       Bec_Carman       NaN            NaN   \n",
       "\n",
       "                                      mentions_names  \\\n",
       "0                                                NaN   \n",
       "1                                                NaN   \n",
       "2                                                NaN   \n",
       "3                                                NaN   \n",
       "4  terrysquibb1|marketmodel|jimcramer|sameerasava...   \n",
       "\n",
       "                             mentions_ids  \\\n",
       "0                                     NaN   \n",
       "1                                     NaN   \n",
       "2                                     NaN   \n",
       "3                                     NaN   \n",
       "4  2924967512|21917683|14216123|557109347   \n",
       "\n",
       "                                            hashtags  \n",
       "0  canberra|bushfires|nsw|act|victoria|coal|gas|a...  \n",
       "1  climatechange|climate|environment|coronoraviru...  \n",
       "2  climate|violenceagainstwomen|vawg|climatechang...  \n",
       "3                                            climate  \n",
       "4                                fossilfuels|climate  \n",
       "\n",
       "[5 rows x 24 columns]"
      ]
     },
     "execution_count": 4,
     "metadata": {},
     "output_type": "execute_result"
    }
   ],
   "source": [
    "df.head()"
   ]
  },
  {
   "cell_type": "markdown",
   "metadata": {
    "cell_id": "00005-47c6826e-72fb-4b76-9b6e-c88bee5a3738",
    "deepnote_cell_type": "markdown",
    "tags": []
   },
   "source": [
    "- we take only the columns we are interested in"
   ]
  },
  {
   "cell_type": "code",
   "execution_count": 5,
   "metadata": {
    "ExecuteTime": {
     "end_time": "2021-02-04T15:00:12.252478Z",
     "start_time": "2021-02-04T15:00:12.195613Z"
    },
    "cell_id": "00006-7d82baa6-344c-4dc8-b155-ecffade27560",
    "deepnote_cell_type": "code",
    "deepnote_to_be_reexecuted": false,
    "execution_millis": 10,
    "execution_start": 1610457215371,
    "source_hash": "d4bb488f",
    "tags": []
   },
   "outputs": [],
   "source": [
    "filtered = df[['index', 'created_at','text','user_screen_name','reply_count','retweet_count',\n",
    "'favorite_count', 'quoteCount', 'source_name','hashtags']]"
   ]
  },
  {
   "cell_type": "code",
   "execution_count": 6,
   "metadata": {
    "ExecuteTime": {
     "end_time": "2021-02-04T15:00:13.119795Z",
     "start_time": "2021-02-04T15:00:13.022358Z"
    },
    "cell_id": "00011-3f9b1c59-58cd-4b35-983e-fd1730b2e20d",
    "deepnote_cell_type": "code",
    "deepnote_to_be_reexecuted": false,
    "execution_millis": 10,
    "execution_start": 1610457215634,
    "source_hash": "375363ab",
    "tags": []
   },
   "outputs": [
    {
     "data": {
      "text/plain": [
       "index                 0\n",
       "created_at            0\n",
       "text                  0\n",
       "user_screen_name      5\n",
       "reply_count           5\n",
       "retweet_count         5\n",
       "favorite_count        5\n",
       "quoteCount            5\n",
       "source_name         233\n",
       "hashtags              8\n",
       "dtype: int64"
      ]
     },
     "execution_count": 6,
     "metadata": {},
     "output_type": "execute_result"
    }
   ],
   "source": [
    "filtered.isna().sum()"
   ]
  },
  {
   "cell_type": "code",
   "execution_count": 7,
   "metadata": {
    "ExecuteTime": {
     "end_time": "2021-02-04T15:00:15.033464Z",
     "start_time": "2021-02-04T15:00:14.857668Z"
    },
    "cell_id": "00012-e18037a7-0173-4b1b-bf10-882eb4748655",
    "deepnote_cell_type": "code",
    "deepnote_to_be_reexecuted": false,
    "execution_millis": 72,
    "execution_start": 1610457215747,
    "source_hash": "56dc9984",
    "tags": []
   },
   "outputs": [],
   "source": [
    "twitter_dataset = filtered.dropna()"
   ]
  },
  {
   "cell_type": "code",
   "execution_count": 8,
   "metadata": {
    "ExecuteTime": {
     "end_time": "2021-02-04T15:00:15.414842Z",
     "start_time": "2021-02-04T15:00:15.245622Z"
    },
    "cell_id": "00012-db223b3e-a168-45a3-9ed4-42fb923d0b8c",
    "deepnote_cell_type": "code",
    "deepnote_to_be_reexecuted": false,
    "execution_millis": 101,
    "execution_start": 1610457215826,
    "source_hash": "a4f2bd28",
    "tags": []
   },
   "outputs": [
    {
     "data": {
      "text/html": [
       "<div>\n",
       "<style scoped>\n",
       "    .dataframe tbody tr th:only-of-type {\n",
       "        vertical-align: middle;\n",
       "    }\n",
       "\n",
       "    .dataframe tbody tr th {\n",
       "        vertical-align: top;\n",
       "    }\n",
       "\n",
       "    .dataframe thead th {\n",
       "        text-align: right;\n",
       "    }\n",
       "</style>\n",
       "<table border=\"1\" class=\"dataframe\">\n",
       "  <thead>\n",
       "    <tr style=\"text-align: right;\">\n",
       "      <th></th>\n",
       "      <th>index</th>\n",
       "      <th>reply_count</th>\n",
       "      <th>retweet_count</th>\n",
       "      <th>favorite_count</th>\n",
       "      <th>quoteCount</th>\n",
       "    </tr>\n",
       "  </thead>\n",
       "  <tbody>\n",
       "    <tr>\n",
       "      <th>count</th>\n",
       "      <td>288113.000000</td>\n",
       "      <td>288113.000000</td>\n",
       "      <td>288113.000000</td>\n",
       "      <td>288113.000000</td>\n",
       "      <td>288113.000000</td>\n",
       "    </tr>\n",
       "    <tr>\n",
       "      <th>mean</th>\n",
       "      <td>12370.328878</td>\n",
       "      <td>0.370757</td>\n",
       "      <td>3.076789</td>\n",
       "      <td>6.918955</td>\n",
       "      <td>0.281928</td>\n",
       "    </tr>\n",
       "    <tr>\n",
       "      <th>std</th>\n",
       "      <td>7539.183496</td>\n",
       "      <td>7.136389</td>\n",
       "      <td>26.758996</td>\n",
       "      <td>69.110650</td>\n",
       "      <td>2.869715</td>\n",
       "    </tr>\n",
       "    <tr>\n",
       "      <th>min</th>\n",
       "      <td>0.000000</td>\n",
       "      <td>0.000000</td>\n",
       "      <td>0.000000</td>\n",
       "      <td>0.000000</td>\n",
       "      <td>0.000000</td>\n",
       "    </tr>\n",
       "    <tr>\n",
       "      <th>25%</th>\n",
       "      <td>6005.000000</td>\n",
       "      <td>0.000000</td>\n",
       "      <td>0.000000</td>\n",
       "      <td>0.000000</td>\n",
       "      <td>0.000000</td>\n",
       "    </tr>\n",
       "    <tr>\n",
       "      <th>50%</th>\n",
       "      <td>12015.000000</td>\n",
       "      <td>0.000000</td>\n",
       "      <td>0.000000</td>\n",
       "      <td>1.000000</td>\n",
       "      <td>0.000000</td>\n",
       "    </tr>\n",
       "    <tr>\n",
       "      <th>75%</th>\n",
       "      <td>18023.000000</td>\n",
       "      <td>0.000000</td>\n",
       "      <td>2.000000</td>\n",
       "      <td>3.000000</td>\n",
       "      <td>0.000000</td>\n",
       "    </tr>\n",
       "    <tr>\n",
       "      <th>max</th>\n",
       "      <td>31253.000000</td>\n",
       "      <td>2199.000000</td>\n",
       "      <td>5297.000000</td>\n",
       "      <td>9415.000000</td>\n",
       "      <td>525.000000</td>\n",
       "    </tr>\n",
       "  </tbody>\n",
       "</table>\n",
       "</div>"
      ],
      "text/plain": [
       "               index    reply_count  retweet_count  favorite_count  \\\n",
       "count  288113.000000  288113.000000  288113.000000   288113.000000   \n",
       "mean    12370.328878       0.370757       3.076789        6.918955   \n",
       "std      7539.183496       7.136389      26.758996       69.110650   \n",
       "min         0.000000       0.000000       0.000000        0.000000   \n",
       "25%      6005.000000       0.000000       0.000000        0.000000   \n",
       "50%     12015.000000       0.000000       0.000000        1.000000   \n",
       "75%     18023.000000       0.000000       2.000000        3.000000   \n",
       "max     31253.000000    2199.000000    5297.000000     9415.000000   \n",
       "\n",
       "          quoteCount  \n",
       "count  288113.000000  \n",
       "mean        0.281928  \n",
       "std         2.869715  \n",
       "min         0.000000  \n",
       "25%         0.000000  \n",
       "50%         0.000000  \n",
       "75%         0.000000  \n",
       "max       525.000000  "
      ]
     },
     "execution_count": 8,
     "metadata": {},
     "output_type": "execute_result"
    }
   ],
   "source": [
    "twitter_dataset.describe()"
   ]
  },
  {
   "cell_type": "code",
   "execution_count": 9,
   "metadata": {
    "ExecuteTime": {
     "end_time": "2021-02-04T15:00:16.668797Z",
     "start_time": "2021-02-04T15:00:16.643323Z"
    },
    "cell_id": "00012-fc2046c9-baa7-486a-b6fa-eb6b93cc6b2e",
    "deepnote_cell_type": "code",
    "deepnote_to_be_reexecuted": false,
    "execution_millis": 7,
    "execution_start": 1610457215975,
    "source_hash": "d3a4f02f",
    "tags": []
   },
   "outputs": [
    {
     "data": {
      "text/html": [
       "<div>\n",
       "<style scoped>\n",
       "    .dataframe tbody tr th:only-of-type {\n",
       "        vertical-align: middle;\n",
       "    }\n",
       "\n",
       "    .dataframe tbody tr th {\n",
       "        vertical-align: top;\n",
       "    }\n",
       "\n",
       "    .dataframe thead th {\n",
       "        text-align: right;\n",
       "    }\n",
       "</style>\n",
       "<table border=\"1\" class=\"dataframe\">\n",
       "  <thead>\n",
       "    <tr style=\"text-align: right;\">\n",
       "      <th></th>\n",
       "      <th>index</th>\n",
       "      <th>created_at</th>\n",
       "      <th>text</th>\n",
       "      <th>user_screen_name</th>\n",
       "      <th>reply_count</th>\n",
       "      <th>retweet_count</th>\n",
       "      <th>favorite_count</th>\n",
       "      <th>quoteCount</th>\n",
       "      <th>source_name</th>\n",
       "      <th>hashtags</th>\n",
       "    </tr>\n",
       "  </thead>\n",
       "  <tbody>\n",
       "    <tr>\n",
       "      <th>0</th>\n",
       "      <td>0</td>\n",
       "      <td>2020-01-31 23:57:47+00:00</td>\n",
       "      <td>#Canberra suburbs and hundreds of lives at ris...</td>\n",
       "      <td>LeipzigSyd</td>\n",
       "      <td>2.0</td>\n",
       "      <td>5.0</td>\n",
       "      <td>6.0</td>\n",
       "      <td>0.0</td>\n",
       "      <td>Twitter for Android</td>\n",
       "      <td>canberra|bushfires|nsw|act|victoria|coal|gas|a...</td>\n",
       "    </tr>\n",
       "    <tr>\n",
       "      <th>1</th>\n",
       "      <td>1</td>\n",
       "      <td>2020-01-31 23:55:45+00:00</td>\n",
       "      <td>Another consequence of climate change: Dozens ...</td>\n",
       "      <td>5minofscience</td>\n",
       "      <td>0.0</td>\n",
       "      <td>1.0</td>\n",
       "      <td>0.0</td>\n",
       "      <td>0.0</td>\n",
       "      <td>Twitter for Android</td>\n",
       "      <td>climatechange|climate|environment|coronoraviru...</td>\n",
       "    </tr>\n",
       "    <tr>\n",
       "      <th>2</th>\n",
       "      <td>2</td>\n",
       "      <td>2020-01-31 23:49:44+00:00</td>\n",
       "      <td>#Climate breakdown 'is increasing #ViolenceAga...</td>\n",
       "      <td>Cameron_Diver</td>\n",
       "      <td>0.0</td>\n",
       "      <td>2.0</td>\n",
       "      <td>10.0</td>\n",
       "      <td>0.0</td>\n",
       "      <td>Twitter for iPhone</td>\n",
       "      <td>climate|violenceagainstwomen|vawg|climatechang...</td>\n",
       "    </tr>\n",
       "    <tr>\n",
       "      <th>3</th>\n",
       "      <td>3</td>\n",
       "      <td>2020-01-31 23:48:01+00:00</td>\n",
       "      <td>'If a private plane is really the most cost-ef...</td>\n",
       "      <td>PlantBasedNews</td>\n",
       "      <td>2.0</td>\n",
       "      <td>5.0</td>\n",
       "      <td>22.0</td>\n",
       "      <td>1.0</td>\n",
       "      <td>Buffer</td>\n",
       "      <td>climate</td>\n",
       "    </tr>\n",
       "    <tr>\n",
       "      <th>4</th>\n",
       "      <td>4</td>\n",
       "      <td>2020-01-31 23:35:35+00:00</td>\n",
       "      <td>@TerrySquibb1 @marketmodel @jimcramer @Sameera...</td>\n",
       "      <td>Bec_Carman</td>\n",
       "      <td>3.0</td>\n",
       "      <td>0.0</td>\n",
       "      <td>0.0</td>\n",
       "      <td>0.0</td>\n",
       "      <td>Twitter Web App</td>\n",
       "      <td>fossilfuels|climate</td>\n",
       "    </tr>\n",
       "  </tbody>\n",
       "</table>\n",
       "</div>"
      ],
      "text/plain": [
       "   index                 created_at  \\\n",
       "0      0  2020-01-31 23:57:47+00:00   \n",
       "1      1  2020-01-31 23:55:45+00:00   \n",
       "2      2  2020-01-31 23:49:44+00:00   \n",
       "3      3  2020-01-31 23:48:01+00:00   \n",
       "4      4  2020-01-31 23:35:35+00:00   \n",
       "\n",
       "                                                text user_screen_name  \\\n",
       "0  #Canberra suburbs and hundreds of lives at ris...       LeipzigSyd   \n",
       "1  Another consequence of climate change: Dozens ...    5minofscience   \n",
       "2  #Climate breakdown 'is increasing #ViolenceAga...    Cameron_Diver   \n",
       "3  'If a private plane is really the most cost-ef...   PlantBasedNews   \n",
       "4  @TerrySquibb1 @marketmodel @jimcramer @Sameera...       Bec_Carman   \n",
       "\n",
       "   reply_count  retweet_count  favorite_count  quoteCount  \\\n",
       "0          2.0            5.0             6.0         0.0   \n",
       "1          0.0            1.0             0.0         0.0   \n",
       "2          0.0            2.0            10.0         0.0   \n",
       "3          2.0            5.0            22.0         1.0   \n",
       "4          3.0            0.0             0.0         0.0   \n",
       "\n",
       "           source_name                                           hashtags  \n",
       "0  Twitter for Android  canberra|bushfires|nsw|act|victoria|coal|gas|a...  \n",
       "1  Twitter for Android  climatechange|climate|environment|coronoraviru...  \n",
       "2   Twitter for iPhone  climate|violenceagainstwomen|vawg|climatechang...  \n",
       "3               Buffer                                            climate  \n",
       "4      Twitter Web App                                fossilfuels|climate  "
      ]
     },
     "execution_count": 9,
     "metadata": {},
     "output_type": "execute_result"
    }
   ],
   "source": [
    "twitter_dataset.head()"
   ]
  },
  {
   "cell_type": "markdown",
   "metadata": {
    "cell_id": "00013-2cb38a4a-3950-4e6a-b5df-ede7df215b17",
    "deepnote_cell_type": "markdown",
    "tags": []
   },
   "source": [
    "- since we have group of hashtags grouped by '|' we devide them to choose interesting hashtags to analyse further"
   ]
  },
  {
   "cell_type": "code",
   "execution_count": 10,
   "metadata": {
    "ExecuteTime": {
     "end_time": "2021-02-04T15:00:18.682916Z",
     "start_time": "2021-02-04T15:00:18.264383Z"
    },
    "cell_id": "00011-f282685a-8bce-4766-9b25-4c08e305be1d",
    "deepnote_cell_type": "code",
    "deepnote_to_be_reexecuted": false,
    "execution_millis": 503,
    "execution_start": 1610457215984,
    "source_hash": "2a69d725",
    "tags": []
   },
   "outputs": [
    {
     "data": {
      "text/html": [
       "<div>\n",
       "<style scoped>\n",
       "    .dataframe tbody tr th:only-of-type {\n",
       "        vertical-align: middle;\n",
       "    }\n",
       "\n",
       "    .dataframe tbody tr th {\n",
       "        vertical-align: top;\n",
       "    }\n",
       "\n",
       "    .dataframe thead th {\n",
       "        text-align: right;\n",
       "    }\n",
       "</style>\n",
       "<table border=\"1\" class=\"dataframe\">\n",
       "  <thead>\n",
       "    <tr style=\"text-align: right;\">\n",
       "      <th></th>\n",
       "      <th>hashtags</th>\n",
       "      <th>retweet_count</th>\n",
       "    </tr>\n",
       "  </thead>\n",
       "  <tbody>\n",
       "    <tr>\n",
       "      <th>0</th>\n",
       "      <td>0133075281|9780133075281|climate|environment|g...</td>\n",
       "      <td>0.0</td>\n",
       "    </tr>\n",
       "    <tr>\n",
       "      <th>1</th>\n",
       "      <td>0133075281|9780133075281|climate|green</td>\n",
       "      <td>0.0</td>\n",
       "    </tr>\n",
       "    <tr>\n",
       "      <th>2</th>\n",
       "      <td>039|039|039already|americas|change|climate|glo...</td>\n",
       "      <td>0.0</td>\n",
       "    </tr>\n",
       "    <tr>\n",
       "      <th>3</th>\n",
       "      <td>039|039|039into|blue|change|climate|europe|glo...</td>\n",
       "      <td>0.0</td>\n",
       "    </tr>\n",
       "    <tr>\n",
       "      <th>4</th>\n",
       "      <td>039|039|039|039|039|climate|globalwarming|clim...</td>\n",
       "      <td>0.0</td>\n",
       "    </tr>\n",
       "    <tr>\n",
       "      <th>...</th>\n",
       "      <td>...</td>\n",
       "      <td>...</td>\n",
       "    </tr>\n",
       "    <tr>\n",
       "      <th>144635</th>\n",
       "      <td>気候も危機|climatechange|globalwarming|地球温暖化|環境問題|c...</td>\n",
       "      <td>5.0</td>\n",
       "    </tr>\n",
       "    <tr>\n",
       "      <th>144636</th>\n",
       "      <td>気候も危機|climate|climateaction|climatecrisis|clim...</td>\n",
       "      <td>3.0</td>\n",
       "    </tr>\n",
       "    <tr>\n",
       "      <th>144637</th>\n",
       "      <td>気候危機に特効薬なし|fightclimatejustice|fridaysforfutur...</td>\n",
       "      <td>1.0</td>\n",
       "    </tr>\n",
       "    <tr>\n",
       "      <th>144638</th>\n",
       "      <td>𝗪𝗵𝗮𝘁𝗰𝗮𝗻𝗽𝗼𝘀𝘀𝗶𝗯𝗹𝘆𝗴𝗼𝘄𝗿𝗼𝗻𝗴𝗶𝗻𝗳𝗮𝗿𝗺𝗶𝗻𝗴|almosteverythi...</td>\n",
       "      <td>0.0</td>\n",
       "    </tr>\n",
       "    <tr>\n",
       "      <th>144639</th>\n",
       "      <td>𝙉𝙖𝙩𝙪𝙧𝙚𝘽𝙖𝙨𝙚𝙙𝙎𝙤𝙡𝙪𝙩𝙞𝙤𝙣𝙨|climate|cop26|forceforgoo...</td>\n",
       "      <td>3.0</td>\n",
       "    </tr>\n",
       "  </tbody>\n",
       "</table>\n",
       "<p>144640 rows × 2 columns</p>\n",
       "</div>"
      ],
      "text/plain": [
       "                                                 hashtags  retweet_count\n",
       "0       0133075281|9780133075281|climate|environment|g...            0.0\n",
       "1                  0133075281|9780133075281|climate|green            0.0\n",
       "2       039|039|039already|americas|change|climate|glo...            0.0\n",
       "3       039|039|039into|blue|change|climate|europe|glo...            0.0\n",
       "4       039|039|039|039|039|climate|globalwarming|clim...            0.0\n",
       "...                                                   ...            ...\n",
       "144635  気候も危機|climatechange|globalwarming|地球温暖化|環境問題|c...            5.0\n",
       "144636  気候も危機|climate|climateaction|climatecrisis|clim...            3.0\n",
       "144637  気候危機に特効薬なし|fightclimatejustice|fridaysforfutur...            1.0\n",
       "144638  𝗪𝗵𝗮𝘁𝗰𝗮𝗻𝗽𝗼𝘀𝘀𝗶𝗯𝗹𝘆𝗴𝗼𝘄𝗿𝗼𝗻𝗴𝗶𝗻𝗳𝗮𝗿𝗺𝗶𝗻𝗴|almosteverythi...            0.0\n",
       "144639  𝙉𝙖𝙩𝙪𝙧𝙚𝘽𝙖𝙨𝙚𝙙𝙎𝙤𝙡𝙪𝙩𝙞𝙤𝙣𝙨|climate|cop26|forceforgoo...            3.0\n",
       "\n",
       "[144640 rows x 2 columns]"
      ]
     },
     "execution_count": 10,
     "metadata": {},
     "output_type": "execute_result"
    }
   ],
   "source": [
    "twitter_dataset.groupby(['hashtags'], as_index=False)['retweet_count'].max()"
   ]
  },
  {
   "cell_type": "code",
   "execution_count": 11,
   "metadata": {
    "ExecuteTime": {
     "end_time": "2021-02-04T15:00:20.471007Z",
     "start_time": "2021-02-04T15:00:19.884034Z"
    },
    "cell_id": "00011-4580f69f-f388-4751-b397-e3236733bf15",
    "deepnote_cell_type": "code",
    "deepnote_to_be_reexecuted": false,
    "execution_millis": 656,
    "execution_start": 1610457216489,
    "source_hash": "daae404d",
    "tags": []
   },
   "outputs": [
    {
     "name": "stderr",
     "output_type": "stream",
     "text": [
      "/opt/anaconda3/lib/python3.7/site-packages/ipykernel_launcher.py:1: SettingWithCopyWarning: \n",
      "A value is trying to be set on a copy of a slice from a DataFrame.\n",
      "Try using .loc[row_indexer,col_indexer] = value instead\n",
      "\n",
      "See the caveats in the documentation: https://pandas.pydata.org/pandas-docs/stable/user_guide/indexing.html#returning-a-view-versus-a-copy\n",
      "  \"\"\"Entry point for launching an IPython kernel.\n"
     ]
    }
   ],
   "source": [
    "twitter_dataset['tokenized_text'] = twitter_dataset.hashtags.apply(lambda x : x.split('|', 100))"
   ]
  },
  {
   "cell_type": "code",
   "execution_count": 12,
   "metadata": {
    "ExecuteTime": {
     "end_time": "2021-02-04T15:00:21.015089Z",
     "start_time": "2021-02-04T15:00:20.985431Z"
    },
    "cell_id": "00014-35f1108e-0c0a-425e-9959-fec2bfcb6947",
    "deepnote_cell_type": "code",
    "deepnote_to_be_reexecuted": false,
    "execution_millis": 25,
    "execution_start": 1610457217180,
    "source_hash": "d3a4f02f",
    "tags": []
   },
   "outputs": [
    {
     "data": {
      "text/html": [
       "<div>\n",
       "<style scoped>\n",
       "    .dataframe tbody tr th:only-of-type {\n",
       "        vertical-align: middle;\n",
       "    }\n",
       "\n",
       "    .dataframe tbody tr th {\n",
       "        vertical-align: top;\n",
       "    }\n",
       "\n",
       "    .dataframe thead th {\n",
       "        text-align: right;\n",
       "    }\n",
       "</style>\n",
       "<table border=\"1\" class=\"dataframe\">\n",
       "  <thead>\n",
       "    <tr style=\"text-align: right;\">\n",
       "      <th></th>\n",
       "      <th>index</th>\n",
       "      <th>created_at</th>\n",
       "      <th>text</th>\n",
       "      <th>user_screen_name</th>\n",
       "      <th>reply_count</th>\n",
       "      <th>retweet_count</th>\n",
       "      <th>favorite_count</th>\n",
       "      <th>quoteCount</th>\n",
       "      <th>source_name</th>\n",
       "      <th>hashtags</th>\n",
       "      <th>tokenized_text</th>\n",
       "    </tr>\n",
       "  </thead>\n",
       "  <tbody>\n",
       "    <tr>\n",
       "      <th>0</th>\n",
       "      <td>0</td>\n",
       "      <td>2020-01-31 23:57:47+00:00</td>\n",
       "      <td>#Canberra suburbs and hundreds of lives at ris...</td>\n",
       "      <td>LeipzigSyd</td>\n",
       "      <td>2.0</td>\n",
       "      <td>5.0</td>\n",
       "      <td>6.0</td>\n",
       "      <td>0.0</td>\n",
       "      <td>Twitter for Android</td>\n",
       "      <td>canberra|bushfires|nsw|act|victoria|coal|gas|a...</td>\n",
       "      <td>[canberra, bushfires, nsw, act, victoria, coal...</td>\n",
       "    </tr>\n",
       "    <tr>\n",
       "      <th>1</th>\n",
       "      <td>1</td>\n",
       "      <td>2020-01-31 23:55:45+00:00</td>\n",
       "      <td>Another consequence of climate change: Dozens ...</td>\n",
       "      <td>5minofscience</td>\n",
       "      <td>0.0</td>\n",
       "      <td>1.0</td>\n",
       "      <td>0.0</td>\n",
       "      <td>0.0</td>\n",
       "      <td>Twitter for Android</td>\n",
       "      <td>climatechange|climate|environment|coronoraviru...</td>\n",
       "      <td>[climatechange, climate, environment, coronora...</td>\n",
       "    </tr>\n",
       "    <tr>\n",
       "      <th>2</th>\n",
       "      <td>2</td>\n",
       "      <td>2020-01-31 23:49:44+00:00</td>\n",
       "      <td>#Climate breakdown 'is increasing #ViolenceAga...</td>\n",
       "      <td>Cameron_Diver</td>\n",
       "      <td>0.0</td>\n",
       "      <td>2.0</td>\n",
       "      <td>10.0</td>\n",
       "      <td>0.0</td>\n",
       "      <td>Twitter for iPhone</td>\n",
       "      <td>climate|violenceagainstwomen|vawg|climatechang...</td>\n",
       "      <td>[climate, violenceagainstwomen, vawg, climatec...</td>\n",
       "    </tr>\n",
       "    <tr>\n",
       "      <th>3</th>\n",
       "      <td>3</td>\n",
       "      <td>2020-01-31 23:48:01+00:00</td>\n",
       "      <td>'If a private plane is really the most cost-ef...</td>\n",
       "      <td>PlantBasedNews</td>\n",
       "      <td>2.0</td>\n",
       "      <td>5.0</td>\n",
       "      <td>22.0</td>\n",
       "      <td>1.0</td>\n",
       "      <td>Buffer</td>\n",
       "      <td>climate</td>\n",
       "      <td>[climate]</td>\n",
       "    </tr>\n",
       "    <tr>\n",
       "      <th>4</th>\n",
       "      <td>4</td>\n",
       "      <td>2020-01-31 23:35:35+00:00</td>\n",
       "      <td>@TerrySquibb1 @marketmodel @jimcramer @Sameera...</td>\n",
       "      <td>Bec_Carman</td>\n",
       "      <td>3.0</td>\n",
       "      <td>0.0</td>\n",
       "      <td>0.0</td>\n",
       "      <td>0.0</td>\n",
       "      <td>Twitter Web App</td>\n",
       "      <td>fossilfuels|climate</td>\n",
       "      <td>[fossilfuels, climate]</td>\n",
       "    </tr>\n",
       "  </tbody>\n",
       "</table>\n",
       "</div>"
      ],
      "text/plain": [
       "   index                 created_at  \\\n",
       "0      0  2020-01-31 23:57:47+00:00   \n",
       "1      1  2020-01-31 23:55:45+00:00   \n",
       "2      2  2020-01-31 23:49:44+00:00   \n",
       "3      3  2020-01-31 23:48:01+00:00   \n",
       "4      4  2020-01-31 23:35:35+00:00   \n",
       "\n",
       "                                                text user_screen_name  \\\n",
       "0  #Canberra suburbs and hundreds of lives at ris...       LeipzigSyd   \n",
       "1  Another consequence of climate change: Dozens ...    5minofscience   \n",
       "2  #Climate breakdown 'is increasing #ViolenceAga...    Cameron_Diver   \n",
       "3  'If a private plane is really the most cost-ef...   PlantBasedNews   \n",
       "4  @TerrySquibb1 @marketmodel @jimcramer @Sameera...       Bec_Carman   \n",
       "\n",
       "   reply_count  retweet_count  favorite_count  quoteCount  \\\n",
       "0          2.0            5.0             6.0         0.0   \n",
       "1          0.0            1.0             0.0         0.0   \n",
       "2          0.0            2.0            10.0         0.0   \n",
       "3          2.0            5.0            22.0         1.0   \n",
       "4          3.0            0.0             0.0         0.0   \n",
       "\n",
       "           source_name                                           hashtags  \\\n",
       "0  Twitter for Android  canberra|bushfires|nsw|act|victoria|coal|gas|a...   \n",
       "1  Twitter for Android  climatechange|climate|environment|coronoraviru...   \n",
       "2   Twitter for iPhone  climate|violenceagainstwomen|vawg|climatechang...   \n",
       "3               Buffer                                            climate   \n",
       "4      Twitter Web App                                fossilfuels|climate   \n",
       "\n",
       "                                      tokenized_text  \n",
       "0  [canberra, bushfires, nsw, act, victoria, coal...  \n",
       "1  [climatechange, climate, environment, coronora...  \n",
       "2  [climate, violenceagainstwomen, vawg, climatec...  \n",
       "3                                          [climate]  \n",
       "4                             [fossilfuels, climate]  "
      ]
     },
     "execution_count": 12,
     "metadata": {},
     "output_type": "execute_result"
    }
   ],
   "source": [
    "twitter_dataset.head()"
   ]
  },
  {
   "cell_type": "markdown",
   "metadata": {
    "cell_id": "00017-26977ae9-2254-40e0-925e-2df4898c357b",
    "deepnote_cell_type": "markdown",
    "tags": []
   },
   "source": [
    "- we take the list of hashtag to analyse the frequency of hashtags and which one of them are used more"
   ]
  },
  {
   "cell_type": "code",
   "execution_count": 13,
   "metadata": {
    "ExecuteTime": {
     "end_time": "2021-02-04T15:00:23.377040Z",
     "start_time": "2021-02-04T15:00:23.293248Z"
    },
    "cell_id": "00013-93b886eb-5506-446e-a862-1dfabc9f4006",
    "deepnote_cell_type": "code",
    "deepnote_to_be_reexecuted": false,
    "execution_millis": 65,
    "execution_start": 1610457217269,
    "source_hash": "c4461cb4",
    "tags": []
   },
   "outputs": [],
   "source": [
    "for word in twitter_dataset.tokenized_text:\n",
    "    if '|' in word:\n",
    "        print(word)"
   ]
  },
  {
   "cell_type": "code",
   "execution_count": 14,
   "metadata": {
    "ExecuteTime": {
     "end_time": "2021-02-04T15:00:23.518356Z",
     "start_time": "2021-02-04T15:00:23.514773Z"
    },
    "cell_id": "00016-dcc56484-b164-493a-8f59-0c617e4e7b66",
    "deepnote_cell_type": "code",
    "deepnote_to_be_reexecuted": false,
    "execution_millis": 3,
    "execution_start": 1610457217336,
    "source_hash": "6fc8c113",
    "tags": []
   },
   "outputs": [],
   "source": [
    "import ast"
   ]
  },
  {
   "cell_type": "code",
   "execution_count": 17,
   "metadata": {
    "ExecuteTime": {
     "end_time": "2021-02-04T15:00:31.772486Z",
     "start_time": "2021-02-04T15:00:31.768032Z"
    },
    "cell_id": "00015-0723a4d8-2479-4bc3-bbb8-3dd8ca1b0af1",
    "deepnote_cell_type": "code",
    "deepnote_to_be_reexecuted": false,
    "execution_millis": 3,
    "execution_start": 1610457217342,
    "source_hash": "e9893212",
    "tags": []
   },
   "outputs": [],
   "source": [
    "from collections import Counter as C "
   ]
  },
  {
   "cell_type": "code",
   "execution_count": 18,
   "metadata": {
    "ExecuteTime": {
     "end_time": "2021-02-04T15:00:33.690832Z",
     "start_time": "2021-02-04T15:00:33.555337Z"
    },
    "cell_id": "00016-0d759b6a-c97c-4a12-b9f5-9cb25f3863d3",
    "deepnote_cell_type": "code",
    "deepnote_to_be_reexecuted": false,
    "execution_millis": 105,
    "execution_start": 1610457217372,
    "source_hash": "751da8ef",
    "tags": []
   },
   "outputs": [],
   "source": [
    "allhashs = []\n",
    "for l in twitter_dataset.tokenized_text:\n",
    "    allhashs.extend(l)"
   ]
  },
  {
   "cell_type": "code",
   "execution_count": 21,
   "metadata": {
    "ExecuteTime": {
     "end_time": "2021-02-04T15:01:38.005335Z",
     "start_time": "2021-02-04T15:01:38.002877Z"
    },
    "cell_id": "00020-d54f099c-2e70-401c-a9e1-702863affde9",
    "deepnote_cell_type": "code",
    "deepnote_to_be_reexecuted": false,
    "execution_millis": 38,
    "execution_start": 1610457217755,
    "source_hash": "dfed45cc",
    "tags": []
   },
   "outputs": [],
   "source": [
    "#C(allhashs)"
   ]
  },
  {
   "cell_type": "code",
   "execution_count": null,
   "metadata": {
    "cell_id": "00021-ed117c05-6042-42df-a472-e3a4a7e4e6bf",
    "deepnote_cell_type": "code",
    "deepnote_to_be_reexecuted": false,
    "execution_millis": 3,
    "execution_start": 1610457217795,
    "source_hash": "c1ce6db7",
    "tags": []
   },
   "outputs": [
    {
     "data": {
      "text/plain": [
       "1264697"
      ]
     },
     "execution_count": 19,
     "metadata": {},
     "output_type": "execute_result"
    }
   ],
   "source": [
    "len(allhashs)"
   ]
  },
  {
   "cell_type": "markdown",
   "metadata": {
    "cell_id": "00024-6e0e47ad-2451-4abe-aa8e-a403c926984d",
    "deepnote_cell_type": "markdown",
    "tags": []
   },
   "source": [
    "- top used hashtags"
   ]
  },
  {
   "cell_type": "code",
   "execution_count": null,
   "metadata": {
    "cell_id": "00021-04e6fc86-2b31-4cb1-93d4-4ed6af01d3ea",
    "deepnote_cell_type": "code",
    "deepnote_to_be_reexecuted": false,
    "execution_millis": 246,
    "execution_start": 1610457217801,
    "source_hash": "805cda20",
    "tags": []
   },
   "outputs": [
    {
     "data": {
      "text/plain": [
       "[('climate', 290259),\n",
       " ('climatechange', 39786),\n",
       " ('climateaction', 15757),\n",
       " ('environment', 14996),\n",
       " ('climatecrisis', 13425),\n",
       " ('energy', 12642),\n",
       " ('globalwarming', 11413),\n",
       " ('science', 9516),\n",
       " ('covid19', 9436),\n",
       " ('sustainability', 8942)]"
      ]
     },
     "execution_count": 20,
     "metadata": {},
     "output_type": "execute_result"
    }
   ],
   "source": [
    "c = C(allhashs)\n",
    "c.most_common(10)"
   ]
  },
  {
   "cell_type": "markdown",
   "metadata": {
    "cell_id": "00026-9e330851-3f00-4a51-984f-65618cce3ec4",
    "deepnote_cell_type": "markdown",
    "tags": []
   },
   "source": [
    "- we chose 'energy' hashtag therefore any tweet with hashtag energy we put 1 others 0"
   ]
  },
  {
   "cell_type": "code",
   "execution_count": null,
   "metadata": {
    "cell_id": "00025-20b3a0b7-8052-4fdd-8f2e-0fd8f4dbaa45",
    "deepnote_cell_type": "code",
    "deepnote_to_be_reexecuted": false,
    "execution_millis": 206,
    "execution_start": 1610457218053,
    "source_hash": "c878dd92",
    "tags": []
   },
   "outputs": [
    {
     "name": "stderr",
     "output_type": "stream",
     "text": [
      "/shared-libs/python3.7/py-core/lib/python3.7/site-packages/ipykernel_launcher.py:1: SettingWithCopyWarning: \n",
      "A value is trying to be set on a copy of a slice from a DataFrame.\n",
      "Try using .loc[row_indexer,col_indexer] = value instead\n",
      "\n",
      "See the caveats in the documentation: https://pandas.pydata.org/pandas-docs/stable/user_guide/indexing.html#returning-a-view-versus-a-copy\n",
      "  \"\"\"Entry point for launching an IPython kernel.\n"
     ]
    }
   ],
   "source": [
    "twitter_dataset['energy'] = twitter_dataset.tokenized_text.apply(lambda x :  1 if \"energy\" in x else 0)"
   ]
  },
  {
   "cell_type": "code",
   "execution_count": null,
   "metadata": {
    "cell_id": "00023-46b26bb6-4bb9-48dc-9408-9aeddc38ad8a",
    "deepnote_cell_type": "code",
    "deepnote_to_be_reexecuted": false,
    "execution_millis": 96,
    "execution_start": 1610457218263,
    "source_hash": "dd87b2b7",
    "tags": []
   },
   "outputs": [],
   "source": [
    "users_energy = twitter_dataset.loc[twitter_dataset['energy'] == 1]"
   ]
  },
  {
   "cell_type": "markdown",
   "metadata": {
    "cell_id": "00029-22ff93f5-f236-4415-aee7-f3a886db7e8e",
    "deepnote_cell_type": "markdown",
    "tags": []
   },
   "source": [
    "- to analyse the interactions with the hashtag we choose specific columns to analyse further"
   ]
  },
  {
   "cell_type": "code",
   "execution_count": null,
   "metadata": {
    "cell_id": "00024-c1130a9d-9733-43cb-ac2c-356259fbd886",
    "deepnote_cell_type": "code",
    "deepnote_to_be_reexecuted": false,
    "execution_millis": 3,
    "execution_start": 1610457218361,
    "source_hash": "b86804a9",
    "tags": []
   },
   "outputs": [],
   "source": [
    "users_energy = users_energy[['user_screen_name','reply_count', 'retweet_count', 'favorite_count', 'quoteCount', 'source_name','tokenized_text']]"
   ]
  },
  {
   "cell_type": "code",
   "execution_count": null,
   "metadata": {
    "cell_id": "00025-e98061d0-0330-4e49-86bf-b23c03afae87",
    "deepnote_cell_type": "code",
    "deepnote_to_be_reexecuted": false,
    "execution_millis": 792,
    "execution_start": 1610457218369,
    "source_hash": "bb8f5032",
    "tags": []
   },
   "outputs": [
    {
     "data": {
      "application/vnd.deepnote.dataframe.v2+json": {
       "error": "Traceback (most recent call last):\n  File \"/shared-libs/code/variable_explorer.py\", line 123, in dataframe_formatter\n    return { MIME_TYPE: describe_pd_dataframe(df) }\n  File \"/shared-libs/code/variable_explorer_helpers.py\", line 129, in describe_pd_dataframe\n    'unique_count': column.dropna().nunique(),\n  File \"/opt/venv/lib/python3.7/site-packages/pandas/core/base.py\", line 1284, in nunique\n    uniqs = self.unique()\n  File \"/opt/venv/lib/python3.7/site-packages/pandas/core/series.py\", line 1816, in unique\n    result = super().unique()\n  File \"/opt/venv/lib/python3.7/site-packages/pandas/core/base.py\", line 1246, in unique\n    result = unique1d(values)\n  File \"/opt/venv/lib/python3.7/site-packages/pandas/core/algorithms.py\", line 382, in unique\n    uniques = table.unique(values)\n  File \"pandas/_libs/hashtable_class_helper.pxi\", line 1784, in pandas._libs.hashtable.PyObjectHashTable.unique\n  File \"pandas/_libs/hashtable_class_helper.pxi\", line 1731, in pandas._libs.hashtable.PyObjectHashTable._unique\nTypeError: unhashable type: 'list'\n"
      },
      "text/html": [
       "<div>\n",
       "<style scoped>\n",
       "    .dataframe tbody tr th:only-of-type {\n",
       "        vertical-align: middle;\n",
       "    }\n",
       "\n",
       "    .dataframe tbody tr th {\n",
       "        vertical-align: top;\n",
       "    }\n",
       "\n",
       "    .dataframe thead th {\n",
       "        text-align: right;\n",
       "    }\n",
       "</style>\n",
       "<table border=\"1\" class=\"dataframe\">\n",
       "  <thead>\n",
       "    <tr style=\"text-align: right;\">\n",
       "      <th></th>\n",
       "      <th>user_screen_name</th>\n",
       "      <th>reply_count</th>\n",
       "      <th>retweet_count</th>\n",
       "      <th>favorite_count</th>\n",
       "      <th>quoteCount</th>\n",
       "      <th>source_name</th>\n",
       "      <th>tokenized_text</th>\n",
       "    </tr>\n",
       "  </thead>\n",
       "  <tbody>\n",
       "    <tr>\n",
       "      <th>5</th>\n",
       "      <td>DKaimowitz</td>\n",
       "      <td>1.0</td>\n",
       "      <td>2.0</td>\n",
       "      <td>2.0</td>\n",
       "      <td>0.0</td>\n",
       "      <td>Twitter for iPhone</td>\n",
       "      <td>[energy, climate, cop26]</td>\n",
       "    </tr>\n",
       "    <tr>\n",
       "      <th>12</th>\n",
       "      <td>StanfordEnergy</td>\n",
       "      <td>0.0</td>\n",
       "      <td>2.0</td>\n",
       "      <td>2.0</td>\n",
       "      <td>0.0</td>\n",
       "      <td>Hootsuite Inc.</td>\n",
       "      <td>[energy, superconductor, climate]</td>\n",
       "    </tr>\n",
       "    <tr>\n",
       "      <th>22</th>\n",
       "      <td>isnad_africa</td>\n",
       "      <td>1.0</td>\n",
       "      <td>0.0</td>\n",
       "      <td>1.0</td>\n",
       "      <td>0.0</td>\n",
       "      <td>Twitter Web App</td>\n",
       "      <td>[volunteer, remotely, ict, communications, pro...</td>\n",
       "    </tr>\n",
       "    <tr>\n",
       "      <th>62</th>\n",
       "      <td>FriendsofEurope</td>\n",
       "      <td>0.0</td>\n",
       "      <td>1.0</td>\n",
       "      <td>1.0</td>\n",
       "      <td>0.0</td>\n",
       "      <td>SocialPilot.co</td>\n",
       "      <td>[energy, climate, action]</td>\n",
       "    </tr>\n",
       "    <tr>\n",
       "      <th>66</th>\n",
       "      <td>SolarPlusLLC1</td>\n",
       "      <td>0.0</td>\n",
       "      <td>2.0</td>\n",
       "      <td>3.0</td>\n",
       "      <td>0.0</td>\n",
       "      <td>Twitter Web App</td>\n",
       "      <td>[nabcep, climate, green, solar, energy, solarp...</td>\n",
       "    </tr>\n",
       "    <tr>\n",
       "      <th>...</th>\n",
       "      <td>...</td>\n",
       "      <td>...</td>\n",
       "      <td>...</td>\n",
       "      <td>...</td>\n",
       "      <td>...</td>\n",
       "      <td>...</td>\n",
       "      <td>...</td>\n",
       "    </tr>\n",
       "    <tr>\n",
       "      <th>288232</th>\n",
       "      <td>sillymickel</td>\n",
       "      <td>0.0</td>\n",
       "      <td>0.0</td>\n",
       "      <td>2.0</td>\n",
       "      <td>0.0</td>\n",
       "      <td>TweetDeck</td>\n",
       "      <td>[fbr, earth, psychology, climate, ecopsycholog...</td>\n",
       "    </tr>\n",
       "    <tr>\n",
       "      <th>288252</th>\n",
       "      <td>MikeHudema</td>\n",
       "      <td>8.0</td>\n",
       "      <td>85.0</td>\n",
       "      <td>249.0</td>\n",
       "      <td>16.0</td>\n",
       "      <td>Buffer</td>\n",
       "      <td>[actonclimate, climate, energy, buildbackbetter]</td>\n",
       "    </tr>\n",
       "    <tr>\n",
       "      <th>288260</th>\n",
       "      <td>SolarPlusLLC1</td>\n",
       "      <td>0.0</td>\n",
       "      <td>0.0</td>\n",
       "      <td>0.0</td>\n",
       "      <td>0.0</td>\n",
       "      <td>Buffer</td>\n",
       "      <td>[nabcep, climate, energy]</td>\n",
       "    </tr>\n",
       "    <tr>\n",
       "      <th>288310</th>\n",
       "      <td>MrPyrometer</td>\n",
       "      <td>0.0</td>\n",
       "      <td>0.0</td>\n",
       "      <td>0.0</td>\n",
       "      <td>0.0</td>\n",
       "      <td>MrPyrometer</td>\n",
       "      <td>[climate, energy]</td>\n",
       "    </tr>\n",
       "    <tr>\n",
       "      <th>288336</th>\n",
       "      <td>MikeHudema</td>\n",
       "      <td>4.0</td>\n",
       "      <td>126.0</td>\n",
       "      <td>391.0</td>\n",
       "      <td>20.0</td>\n",
       "      <td>Buffer</td>\n",
       "      <td>[actonclimate, climate, energy, forests, natur...</td>\n",
       "    </tr>\n",
       "  </tbody>\n",
       "</table>\n",
       "<p>12485 rows × 7 columns</p>\n",
       "</div>"
      ],
      "text/plain": [
       "       user_screen_name  reply_count  retweet_count  favorite_count  \\\n",
       "5            DKaimowitz          1.0            2.0             2.0   \n",
       "12       StanfordEnergy          0.0            2.0             2.0   \n",
       "22         isnad_africa          1.0            0.0             1.0   \n",
       "62      FriendsofEurope          0.0            1.0             1.0   \n",
       "66        SolarPlusLLC1          0.0            2.0             3.0   \n",
       "...                 ...          ...            ...             ...   \n",
       "288232      sillymickel          0.0            0.0             2.0   \n",
       "288252       MikeHudema          8.0           85.0           249.0   \n",
       "288260    SolarPlusLLC1          0.0            0.0             0.0   \n",
       "288310      MrPyrometer          0.0            0.0             0.0   \n",
       "288336       MikeHudema          4.0          126.0           391.0   \n",
       "\n",
       "        quoteCount         source_name  \\\n",
       "5              0.0  Twitter for iPhone   \n",
       "12             0.0      Hootsuite Inc.   \n",
       "22             0.0     Twitter Web App   \n",
       "62             0.0      SocialPilot.co   \n",
       "66             0.0     Twitter Web App   \n",
       "...            ...                 ...   \n",
       "288232         0.0           TweetDeck   \n",
       "288252        16.0              Buffer   \n",
       "288260         0.0              Buffer   \n",
       "288310         0.0         MrPyrometer   \n",
       "288336        20.0              Buffer   \n",
       "\n",
       "                                           tokenized_text  \n",
       "5                                [energy, climate, cop26]  \n",
       "12                      [energy, superconductor, climate]  \n",
       "22      [volunteer, remotely, ict, communications, pro...  \n",
       "62                              [energy, climate, action]  \n",
       "66      [nabcep, climate, green, solar, energy, solarp...  \n",
       "...                                                   ...  \n",
       "288232  [fbr, earth, psychology, climate, ecopsycholog...  \n",
       "288252   [actonclimate, climate, energy, buildbackbetter]  \n",
       "288260                          [nabcep, climate, energy]  \n",
       "288310                                  [climate, energy]  \n",
       "288336  [actonclimate, climate, energy, forests, natur...  \n",
       "\n",
       "[12485 rows x 7 columns]"
      ]
     },
     "execution_count": 24,
     "metadata": {},
     "output_type": "execute_result"
    }
   ],
   "source": [
    "users_energy"
   ]
  },
  {
   "cell_type": "markdown",
   "metadata": {
    "cell_id": "00027-4e752f48-cd51-45a1-9d2a-6ca6059a2228",
    "deepnote_cell_type": "markdown",
    "tags": []
   },
   "source": [
    "# Analysis of Users engagement"
   ]
  },
  {
   "cell_type": "code",
   "execution_count": null,
   "metadata": {
    "cell_id": "00026-1ccdd578-6c76-43dd-a046-d06697da730f",
    "deepnote_cell_type": "code",
    "deepnote_to_be_reexecuted": false,
    "execution_millis": 10,
    "execution_start": 1610457219179,
    "source_hash": "a33287a",
    "tags": []
   },
   "outputs": [],
   "source": [
    "groupusers = users_energy.groupby('user_screen_name').sum()\n",
    "favorite_users = groupusers.sort_values('favorite_count', ascending=False)"
   ]
  },
  {
   "cell_type": "code",
   "execution_count": null,
   "metadata": {
    "cell_id": "00027-5de939f8-0527-4a05-85a2-c01199ddb87f",
    "deepnote_cell_type": "code",
    "deepnote_to_be_reexecuted": false,
    "execution_millis": 5,
    "execution_start": 1610457219220,
    "source_hash": "f2b71d52",
    "tags": []
   },
   "outputs": [
    {
     "data": {
      "application/vnd.deepnote.dataframe.v2+json": {
       "column_count": 4,
       "columns": [
        {
         "dtype": "float64",
         "name": "reply_count",
         "stats": {
          "histogram": [
           {
            "bin_end": 1170.8,
            "bin_start": 31,
            "count": 4
           },
           {
            "bin_end": 2310.6,
            "bin_start": 1170.8,
            "count": 0
           },
           {
            "bin_end": 3450.3999999999996,
            "bin_start": 2310.6,
            "count": 0
           },
           {
            "bin_end": 4590.2,
            "bin_start": 3450.3999999999996,
            "count": 0
           },
           {
            "bin_end": 5730,
            "bin_start": 4590.2,
            "count": 0
           },
           {
            "bin_end": 6869.799999999999,
            "bin_start": 5730,
            "count": 0
           },
           {
            "bin_end": 8009.599999999999,
            "bin_start": 6869.799999999999,
            "count": 0
           },
           {
            "bin_end": 9149.4,
            "bin_start": 8009.599999999999,
            "count": 0
           },
           {
            "bin_end": 10289.199999999999,
            "bin_start": 9149.4,
            "count": 0
           },
           {
            "bin_end": 11429,
            "bin_start": 10289.199999999999,
            "count": 1
           }
          ],
          "max": 11429,
          "min": 31,
          "nan_count": 0,
          "unique_count": 5
         }
        },
        {
         "dtype": "float64",
         "name": "retweet_count",
         "stats": {
          "histogram": [
           {
            "bin_end": 20929,
            "bin_start": 313,
            "count": 4
           },
           {
            "bin_end": 41545,
            "bin_start": 20929,
            "count": 0
           },
           {
            "bin_end": 62161,
            "bin_start": 41545,
            "count": 0
           },
           {
            "bin_end": 82777,
            "bin_start": 62161,
            "count": 0
           },
           {
            "bin_end": 103393,
            "bin_start": 82777,
            "count": 0
           },
           {
            "bin_end": 124009,
            "bin_start": 103393,
            "count": 0
           },
           {
            "bin_end": 144625,
            "bin_start": 124009,
            "count": 0
           },
           {
            "bin_end": 165241,
            "bin_start": 144625,
            "count": 0
           },
           {
            "bin_end": 185857,
            "bin_start": 165241,
            "count": 0
           },
           {
            "bin_end": 206473,
            "bin_start": 185857,
            "count": 1
           }
          ],
          "max": 206473,
          "min": 313,
          "nan_count": 0,
          "unique_count": 5
         }
        },
        {
         "dtype": "float64",
         "name": "favorite_count",
         "stats": {
          "histogram": [
           {
            "bin_end": 41455,
            "bin_start": 858,
            "count": 4
           },
           {
            "bin_end": 82052,
            "bin_start": 41455,
            "count": 0
           },
           {
            "bin_end": 122649,
            "bin_start": 82052,
            "count": 0
           },
           {
            "bin_end": 163246,
            "bin_start": 122649,
            "count": 0
           },
           {
            "bin_end": 203843,
            "bin_start": 163246,
            "count": 0
           },
           {
            "bin_end": 244440,
            "bin_start": 203843,
            "count": 0
           },
           {
            "bin_end": 285037,
            "bin_start": 244440,
            "count": 0
           },
           {
            "bin_end": 325634,
            "bin_start": 285037,
            "count": 0
           },
           {
            "bin_end": 366231,
            "bin_start": 325634,
            "count": 0
           },
           {
            "bin_end": 406828,
            "bin_start": 366231,
            "count": 1
           }
          ],
          "max": 406828,
          "min": 858,
          "nan_count": 0,
          "unique_count": 5
         }
        },
        {
         "dtype": "float64",
         "name": "quoteCount",
         "stats": {
          "histogram": [
           {
            "bin_end": 1582.9,
            "bin_start": 25,
            "count": 4
           },
           {
            "bin_end": 3140.8,
            "bin_start": 1582.9,
            "count": 0
           },
           {
            "bin_end": 4698.700000000001,
            "bin_start": 3140.8,
            "count": 0
           },
           {
            "bin_end": 6256.6,
            "bin_start": 4698.700000000001,
            "count": 0
           },
           {
            "bin_end": 7814.5,
            "bin_start": 6256.6,
            "count": 0
           },
           {
            "bin_end": 9372.400000000001,
            "bin_start": 7814.5,
            "count": 0
           },
           {
            "bin_end": 10930.300000000001,
            "bin_start": 9372.400000000001,
            "count": 0
           },
           {
            "bin_end": 12488.2,
            "bin_start": 10930.300000000001,
            "count": 0
           },
           {
            "bin_end": 14046.1,
            "bin_start": 12488.2,
            "count": 0
           },
           {
            "bin_end": 15604,
            "bin_start": 14046.1,
            "count": 1
           }
          ],
          "max": 15604,
          "min": 25,
          "nan_count": 0,
          "unique_count": 5
         }
        },
        {
         "dtype": "object",
         "name": "_deepnote_index_column"
        }
       ],
       "row_count": 5,
       "rows_bottom": null,
       "rows_top": [
        {
         "_deepnote_index_column": "MikeHudema",
         "favorite_count": 406828,
         "quoteCount": 15604,
         "reply_count": 11429,
         "retweet_count": 206473
        },
        {
         "_deepnote_index_column": "mvollmer1",
         "favorite_count": 4530,
         "quoteCount": 196,
         "reply_count": 146,
         "retweet_count": 2840
        },
        {
         "_deepnote_index_column": "SolarPlusLLC1",
         "favorite_count": 1240,
         "quoteCount": 25,
         "reply_count": 31,
         "retweet_count": 1093
        },
        {
         "_deepnote_index_column": "DarMo68",
         "favorite_count": 1121,
         "quoteCount": 38,
         "reply_count": 56,
         "retweet_count": 336
        },
        {
         "_deepnote_index_column": "mwt2008",
         "favorite_count": 858,
         "quoteCount": 85,
         "reply_count": 109,
         "retweet_count": 313
        }
       ]
      },
      "text/html": [
       "<div>\n",
       "<style scoped>\n",
       "    .dataframe tbody tr th:only-of-type {\n",
       "        vertical-align: middle;\n",
       "    }\n",
       "\n",
       "    .dataframe tbody tr th {\n",
       "        vertical-align: top;\n",
       "    }\n",
       "\n",
       "    .dataframe thead th {\n",
       "        text-align: right;\n",
       "    }\n",
       "</style>\n",
       "<table border=\"1\" class=\"dataframe\">\n",
       "  <thead>\n",
       "    <tr style=\"text-align: right;\">\n",
       "      <th></th>\n",
       "      <th>reply_count</th>\n",
       "      <th>retweet_count</th>\n",
       "      <th>favorite_count</th>\n",
       "      <th>quoteCount</th>\n",
       "    </tr>\n",
       "    <tr>\n",
       "      <th>user_screen_name</th>\n",
       "      <th></th>\n",
       "      <th></th>\n",
       "      <th></th>\n",
       "      <th></th>\n",
       "    </tr>\n",
       "  </thead>\n",
       "  <tbody>\n",
       "    <tr>\n",
       "      <th>MikeHudema</th>\n",
       "      <td>11429.0</td>\n",
       "      <td>206473.0</td>\n",
       "      <td>406828.0</td>\n",
       "      <td>15604.0</td>\n",
       "    </tr>\n",
       "    <tr>\n",
       "      <th>mvollmer1</th>\n",
       "      <td>146.0</td>\n",
       "      <td>2840.0</td>\n",
       "      <td>4530.0</td>\n",
       "      <td>196.0</td>\n",
       "    </tr>\n",
       "    <tr>\n",
       "      <th>SolarPlusLLC1</th>\n",
       "      <td>31.0</td>\n",
       "      <td>1093.0</td>\n",
       "      <td>1240.0</td>\n",
       "      <td>25.0</td>\n",
       "    </tr>\n",
       "    <tr>\n",
       "      <th>DarMo68</th>\n",
       "      <td>56.0</td>\n",
       "      <td>336.0</td>\n",
       "      <td>1121.0</td>\n",
       "      <td>38.0</td>\n",
       "    </tr>\n",
       "    <tr>\n",
       "      <th>mwt2008</th>\n",
       "      <td>109.0</td>\n",
       "      <td>313.0</td>\n",
       "      <td>858.0</td>\n",
       "      <td>85.0</td>\n",
       "    </tr>\n",
       "  </tbody>\n",
       "</table>\n",
       "</div>"
      ],
      "text/plain": [
       "                  reply_count  retweet_count  favorite_count  quoteCount\n",
       "user_screen_name                                                        \n",
       "MikeHudema            11429.0       206473.0        406828.0     15604.0\n",
       "mvollmer1               146.0         2840.0          4530.0       196.0\n",
       "SolarPlusLLC1            31.0         1093.0          1240.0        25.0\n",
       "DarMo68                  56.0          336.0          1121.0        38.0\n",
       "mwt2008                 109.0          313.0           858.0        85.0"
      ]
     },
     "execution_count": 26,
     "metadata": {},
     "output_type": "execute_result"
    }
   ],
   "source": [
    "favorite_users.head()"
   ]
  },
  {
   "cell_type": "markdown",
   "metadata": {
    "cell_id": "00035-f54c9955-992d-4617-ae77-72bdf068d4dc",
    "deepnote_cell_type": "markdown",
    "tags": []
   },
   "source": [
    "## Users with the highest favourites count"
   ]
  },
  {
   "cell_type": "code",
   "execution_count": null,
   "metadata": {
    "cell_id": "00028-c791310a-53b2-460e-acb5-4e1d83f200ee",
    "deepnote_cell_type": "code",
    "deepnote_to_be_reexecuted": false,
    "execution_millis": 362,
    "execution_start": 1610457219233,
    "source_hash": "43b6f0c3",
    "tags": []
   },
   "outputs": [
    {
     "data": {
      "image/png": "[encoded data removed]",
      "text/plain": [
       "<Figure size 720x576 with 1 Axes>"
      ]
     },
     "metadata": {
      "needs_background": "light"
     },
     "output_type": "display_data"
    }
   ],
   "source": [
    "# Barplot of users with the most favorites\n",
    "graph1 = favorite_users.head(20)\n",
    "\n",
    "plt.figure(figsize=(10,8))\n",
    "_=plt.bar(graph1.index,graph1.favorite_count, color='darkmagenta')\n",
    "plt.xlabel('Active energy users')\n",
    "plt.ylabel('Number of favorite')\n",
    "_=plt.xticks(graph1.index, rotation=90)"
   ]
  },
  {
   "cell_type": "markdown",
   "metadata": {
    "cell_id": "00037-3840af05-40be-41fa-a4f0-f9b00c11a6e8",
    "deepnote_cell_type": "markdown",
    "tags": []
   },
   "source": [
    "## Users with the highest retweets count"
   ]
  },
  {
   "cell_type": "code",
   "execution_count": null,
   "metadata": {
    "cell_id": "00030-fa9ba424-87aa-46a6-83a3-58befd4001ec",
    "deepnote_cell_type": "code",
    "deepnote_to_be_reexecuted": false,
    "execution_millis": 337,
    "execution_start": 1610457219600,
    "source_hash": "dae97f2f",
    "tags": []
   },
   "outputs": [
    {
     "data": {
      "image/png": "[encoded data removed]",
      "text/plain": [
       "<Figure size 720x576 with 1 Axes>"
      ]
     },
     "metadata": {
      "needs_background": "light"
     },
     "output_type": "display_data"
    }
   ],
   "source": [
    "# Barplot of users with the most retweets\n",
    "retweeted_users = groupusers.sort_values('retweet_count', ascending=False)\n",
    "\n",
    "graph2 = retweeted_users.head(20)\n",
    "\n",
    "plt.figure(figsize=(10,8))\n",
    "_=plt.bar(graph2.index,graph2.retweet_count, color='teal')\n",
    "plt.xlabel('Active energy users')\n",
    "plt.ylabel('Number of retweets')\n",
    "_=plt.xticks(graph2.index, rotation=90)"
   ]
  },
  {
   "cell_type": "markdown",
   "metadata": {
    "cell_id": "00031-64b7da32-4fa0-4ede-bd78-3759c4237260",
    "deepnote_cell_type": "markdown",
    "tags": []
   },
   "source": [
    "We notice from the barplot that Mike Hudema has the most highest retweets and favourites from the two barplot. Therefore, we analyse further on other users excluding the outlier."
   ]
  },
  {
   "cell_type": "markdown",
   "metadata": {
    "cell_id": "00040-82d3b4d0-202f-4263-a1df-4856287332d9",
    "deepnote_cell_type": "markdown",
    "tags": []
   },
   "source": [
    "## Users with the highest favourites count without the 'outlier'"
   ]
  },
  {
   "cell_type": "code",
   "execution_count": null,
   "metadata": {
    "cell_id": "00030-ddb3dcaa-7a09-4d38-be12-c8d130350fd6",
    "deepnote_cell_type": "code",
    "deepnote_to_be_reexecuted": false,
    "execution_millis": 290,
    "execution_start": 1610457219958,
    "source_hash": "301f44b2",
    "tags": []
   },
   "outputs": [
    {
     "data": {
      "image/png": "[encoded data removed]",
      "text/plain": [
       "<Figure size 720x576 with 1 Axes>"
      ]
     },
     "metadata": {
      "needs_background": "light"
     },
     "output_type": "display_data"
    }
   ],
   "source": [
    "# Barplot of users with the most favourites after removing Mike Hudema\n",
    "graph1_1 = favorite_users.drop('MikeHudema').head(20)\n",
    "\n",
    "plt.figure(figsize=(10,8))\n",
    "_=plt.bar(graph1_1.index,graph1_1.favorite_count, color='darkmagenta')\n",
    "plt.xlabel('Active energy users')\n",
    "plt.ylabel('Number of favorite')\n",
    "_=plt.xticks(graph1_1.index, rotation=90)"
   ]
  },
  {
   "cell_type": "markdown",
   "metadata": {
    "cell_id": "00042-80077b1b-ee5c-4afc-8359-598e1e2e1b9b",
    "deepnote_cell_type": "markdown",
    "tags": []
   },
   "source": [
    "## Users with the highest retweets count without the 'outlier'"
   ]
  },
  {
   "cell_type": "code",
   "execution_count": null,
   "metadata": {
    "cell_id": "00031-50e867c9-a3ab-46e4-9a37-b04190e0d20b",
    "deepnote_cell_type": "code",
    "deepnote_to_be_reexecuted": false,
    "execution_millis": 298,
    "execution_start": 1610457220273,
    "source_hash": "e6867b92",
    "tags": []
   },
   "outputs": [
    {
     "data": {
      "image/png": "[encoded data removed]",
      "text/plain": [
       "<Figure size 720x576 with 1 Axes>"
      ]
     },
     "metadata": {
      "needs_background": "light"
     },
     "output_type": "display_data"
    }
   ],
   "source": [
    "# Barplot of users with the most retweets after removing Mike Hudema\n",
    "graph2_1 = retweeted_users.drop('MikeHudema').head(20)\n",
    "plt.figure(figsize=(10,8))\n",
    "_=plt.bar(graph2_1.index,graph2_1.retweet_count, color='teal')\n",
    "plt.xlabel('Active energy users')\n",
    "plt.ylabel('Number of retweets')\n",
    "_=plt.xticks(graph2_1.index, rotation=90)"
   ]
  },
  {
   "cell_type": "markdown",
   "metadata": {
    "cell_id": "00044-8ec39c12-a1ef-474c-a9a6-129cce23a255",
    "deepnote_cell_type": "markdown",
    "tags": []
   },
   "source": [
    "## Users with the highest quotes count without the 'outlier'"
   ]
  },
  {
   "cell_type": "code",
   "execution_count": null,
   "metadata": {
    "cell_id": "00032-4807ae1e-9944-43c9-a7bd-1a7dc1034a17",
    "deepnote_cell_type": "code",
    "deepnote_to_be_reexecuted": false,
    "execution_millis": 333,
    "execution_start": 1610459940294,
    "source_hash": "61076262",
    "tags": []
   },
   "outputs": [
    {
     "data": {
      "image/png": "[encoded data removed]",
      "text/plain": [
       "<Figure size 720x576 with 1 Axes>"
      ]
     },
     "metadata": {
      "needs_background": "light"
     },
     "output_type": "display_data"
    }
   ],
   "source": [
    "# Barplot of users with the most quotes / removing Mike Hudema\n",
    "quoted_users = groupusers.sort_values('quoteCount', ascending=False)\n",
    "\n",
    "graph4 = quoted_users.drop('MikeHudema').head(20)\n",
    "plt.figure(figsize=(10,8))\n",
    "_=plt.bar(graph4.index,graph4.quoteCount, color='darkslategrey')\n",
    "plt.xlabel('Active energy users')\n",
    "plt.ylabel('Number of retweets')\n",
    "_=plt.xticks(graph4.index, rotation=90)"
   ]
  },
  {
   "cell_type": "markdown",
   "metadata": {
    "cell_id": "00046-c8288528-df7b-48d7-9c0c-b4896fac81f7",
    "deepnote_cell_type": "markdown",
    "tags": []
   },
   "source": [
    "## Users with the highest replies count without the 'outlier'"
   ]
  },
  {
   "cell_type": "code",
   "execution_count": null,
   "metadata": {
    "cell_id": "00035-d10de720-798e-45c6-804b-d94d82645082",
    "deepnote_cell_type": "code",
    "deepnote_to_be_reexecuted": false,
    "execution_millis": 299,
    "execution_start": 1610459969293,
    "source_hash": "dca88239",
    "tags": []
   },
   "outputs": [
    {
     "data": {
      "image/png": "[encoded data removed]",
      "text/plain": [
       "<Figure size 720x576 with 1 Axes>"
      ]
     },
     "metadata": {
      "needs_background": "light"
     },
     "output_type": "display_data"
    }
   ],
   "source": [
    "# Barplot of users with the most replies / removing Mike Hudema\n",
    "reply_users = groupusers.sort_values('reply_count', ascending=False)\n",
    "\n",
    "graph3 = reply_users.drop('MikeHudema').head(20)\n",
    "plt.figure(figsize=(10,8))\n",
    "_=plt.bar(graph3.index,graph3.reply_count, color='plum')\n",
    "plt.xlabel('Active energy users')\n",
    "plt.ylabel('Number of retweets')\n",
    "_=plt.xticks(graph3.index, rotation=90)"
   ]
  },
  {
   "cell_type": "markdown",
   "metadata": {
    "cell_id": "00048-cc63a53e-e665-4354-8b81-eb66413934fa",
    "deepnote_cell_type": "markdown",
    "tags": []
   },
   "source": [
    "### Correlation Analysis between the 'Tweet interactions' variables"
   ]
  },
  {
   "cell_type": "code",
   "execution_count": null,
   "metadata": {
    "cell_id": "00036-742a57b6-fb63-4497-b3fc-b15bfec6adf7",
    "deepnote_cell_type": "code",
    "deepnote_to_be_reexecuted": false,
    "execution_millis": 1,
    "execution_start": 1610457221386,
    "source_hash": "7b528551",
    "tags": []
   },
   "outputs": [
    {
     "data": {
      "application/vnd.deepnote.dataframe.v2+json": {
       "column_count": 4,
       "columns": [
        {
         "dtype": "float64",
         "name": "reply_count",
         "stats": {
          "histogram": [
           {
            "bin_end": 0.8602552728483559,
            "bin_start": 0.8447280809426176,
            "count": 1
           },
           {
            "bin_end": 0.8757824647540942,
            "bin_start": 0.8602552728483559,
            "count": 0
           },
           {
            "bin_end": 0.8913096566598323,
            "bin_start": 0.8757824647540942,
            "count": 2
           },
           {
            "bin_end": 0.9068368485655706,
            "bin_start": 0.8913096566598323,
            "count": 0
           },
           {
            "bin_end": 0.9223640404713088,
            "bin_start": 0.9068368485655706,
            "count": 0
           },
           {
            "bin_end": 0.9378912323770471,
            "bin_start": 0.9223640404713088,
            "count": 0
           },
           {
            "bin_end": 0.9534184242827853,
            "bin_start": 0.9378912323770471,
            "count": 0
           },
           {
            "bin_end": 0.9689456161885235,
            "bin_start": 0.9534184242827853,
            "count": 0
           },
           {
            "bin_end": 0.9844728080942617,
            "bin_start": 0.9689456161885235,
            "count": 0
           },
           {
            "bin_end": 1,
            "bin_start": 0.9844728080942617,
            "count": 1
           }
          ],
          "max": 1,
          "min": 0.8447280809426176,
          "nan_count": 0,
          "unique_count": 4
         }
        },
        {
         "dtype": "float64",
         "name": "retweet_count",
         "stats": {
          "histogram": [
           {
            "bin_end": 0.8774225457234524,
            "bin_start": 0.8638028285816137,
            "count": 2
           },
           {
            "bin_end": 0.891042262865291,
            "bin_start": 0.8774225457234524,
            "count": 0
           },
           {
            "bin_end": 0.9046619800071296,
            "bin_start": 0.891042262865291,
            "count": 0
           },
           {
            "bin_end": 0.9182816971489682,
            "bin_start": 0.9046619800071296,
            "count": 0
           },
           {
            "bin_end": 0.9319014142908069,
            "bin_start": 0.9182816971489682,
            "count": 0
           },
           {
            "bin_end": 0.9455211314326455,
            "bin_start": 0.9319014142908069,
            "count": 0
           },
           {
            "bin_end": 0.9591408485744841,
            "bin_start": 0.9455211314326455,
            "count": 0
           },
           {
            "bin_end": 0.9727605657163227,
            "bin_start": 0.9591408485744841,
            "count": 0
           },
           {
            "bin_end": 0.9863802828581614,
            "bin_start": 0.9727605657163227,
            "count": 1
           },
           {
            "bin_end": 1,
            "bin_start": 0.9863802828581614,
            "count": 1
           }
          ],
          "max": 1,
          "min": 0.8638028285816137,
          "nan_count": 0,
          "unique_count": 4
         }
        },
        {
         "dtype": "float64",
         "name": "favorite_count",
         "stats": {
          "histogram": [
           {
            "bin_end": 0.8797515109339739,
            "bin_start": 0.8663905677044154,
            "count": 1
           },
           {
            "bin_end": 0.8931124541635322,
            "bin_start": 0.8797515109339739,
            "count": 1
           },
           {
            "bin_end": 0.9064733973930907,
            "bin_start": 0.8931124541635322,
            "count": 0
           },
           {
            "bin_end": 0.9198343406226492,
            "bin_start": 0.9064733973930907,
            "count": 0
           },
           {
            "bin_end": 0.9331952838522077,
            "bin_start": 0.9198343406226492,
            "count": 0
           },
           {
            "bin_end": 0.9465562270817661,
            "bin_start": 0.9331952838522077,
            "count": 0
           },
           {
            "bin_end": 0.9599171703113246,
            "bin_start": 0.9465562270817661,
            "count": 0
           },
           {
            "bin_end": 0.9732781135408831,
            "bin_start": 0.9599171703113246,
            "count": 0
           },
           {
            "bin_end": 0.9866390567704415,
            "bin_start": 0.9732781135408831,
            "count": 1
           },
           {
            "bin_end": 1,
            "bin_start": 0.9866390567704415,
            "count": 1
           }
          ],
          "max": 1,
          "min": 0.8663905677044154,
          "nan_count": 0,
          "unique_count": 4
         }
        },
        {
         "dtype": "float64",
         "name": "quoteCount",
         "stats": {
          "histogram": [
           {
            "bin_end": 0.8602552728483559,
            "bin_start": 0.8447280809426176,
            "count": 1
           },
           {
            "bin_end": 0.8757824647540942,
            "bin_start": 0.8602552728483559,
            "count": 2
           },
           {
            "bin_end": 0.8913096566598323,
            "bin_start": 0.8757824647540942,
            "count": 0
           },
           {
            "bin_end": 0.9068368485655706,
            "bin_start": 0.8913096566598323,
            "count": 0
           },
           {
            "bin_end": 0.9223640404713088,
            "bin_start": 0.9068368485655706,
            "count": 0
           },
           {
            "bin_end": 0.9378912323770471,
            "bin_start": 0.9223640404713088,
            "count": 0
           },
           {
            "bin_end": 0.9534184242827853,
            "bin_start": 0.9378912323770471,
            "count": 0
           },
           {
            "bin_end": 0.9689456161885235,
            "bin_start": 0.9534184242827853,
            "count": 0
           },
           {
            "bin_end": 0.9844728080942617,
            "bin_start": 0.9689456161885235,
            "count": 0
           },
           {
            "bin_end": 1,
            "bin_start": 0.9844728080942617,
            "count": 1
           }
          ],
          "max": 1,
          "min": 0.8447280809426176,
          "nan_count": 0,
          "unique_count": 4
         }
        },
        {
         "dtype": "object",
         "name": "_deepnote_index_column"
        }
       ],
       "row_count": 4,
       "rows_bottom": null,
       "rows_top": [
        {
         "_deepnote_index_column": "reply_count",
         "favorite_count": 0.8817129895909703,
         "quoteCount": 0.8447280809426176,
         "reply_count": 1,
         "retweet_count": 0.8767133514435921
        },
        {
         "_deepnote_index_column": "retweet_count",
         "favorite_count": 0.9744491183234988,
         "quoteCount": 0.8638028285816137,
         "reply_count": 0.8767133514435921,
         "retweet_count": 1
        },
        {
         "_deepnote_index_column": "favorite_count",
         "favorite_count": 1,
         "quoteCount": 0.8663905677044154,
         "reply_count": 0.8817129895909703,
         "retweet_count": 0.9744491183234988
        },
        {
         "_deepnote_index_column": "quoteCount",
         "favorite_count": 0.8663905677044154,
         "quoteCount": 1,
         "reply_count": 0.8447280809426176,
         "retweet_count": 0.8638028285816137
        }
       ]
      },
      "text/html": [
       "<div>\n",
       "<style scoped>\n",
       "    .dataframe tbody tr th:only-of-type {\n",
       "        vertical-align: middle;\n",
       "    }\n",
       "\n",
       "    .dataframe tbody tr th {\n",
       "        vertical-align: top;\n",
       "    }\n",
       "\n",
       "    .dataframe thead th {\n",
       "        text-align: right;\n",
       "    }\n",
       "</style>\n",
       "<table border=\"1\" class=\"dataframe\">\n",
       "  <thead>\n",
       "    <tr style=\"text-align: right;\">\n",
       "      <th></th>\n",
       "      <th>reply_count</th>\n",
       "      <th>retweet_count</th>\n",
       "      <th>favorite_count</th>\n",
       "      <th>quoteCount</th>\n",
       "    </tr>\n",
       "  </thead>\n",
       "  <tbody>\n",
       "    <tr>\n",
       "      <th>reply_count</th>\n",
       "      <td>1.000000</td>\n",
       "      <td>0.876713</td>\n",
       "      <td>0.881713</td>\n",
       "      <td>0.844728</td>\n",
       "    </tr>\n",
       "    <tr>\n",
       "      <th>retweet_count</th>\n",
       "      <td>0.876713</td>\n",
       "      <td>1.000000</td>\n",
       "      <td>0.974449</td>\n",
       "      <td>0.863803</td>\n",
       "    </tr>\n",
       "    <tr>\n",
       "      <th>favorite_count</th>\n",
       "      <td>0.881713</td>\n",
       "      <td>0.974449</td>\n",
       "      <td>1.000000</td>\n",
       "      <td>0.866391</td>\n",
       "    </tr>\n",
       "    <tr>\n",
       "      <th>quoteCount</th>\n",
       "      <td>0.844728</td>\n",
       "      <td>0.863803</td>\n",
       "      <td>0.866391</td>\n",
       "      <td>1.000000</td>\n",
       "    </tr>\n",
       "  </tbody>\n",
       "</table>\n",
       "</div>"
      ],
      "text/plain": [
       "                reply_count  retweet_count  favorite_count  quoteCount\n",
       "reply_count        1.000000       0.876713        0.881713    0.844728\n",
       "retweet_count      0.876713       1.000000        0.974449    0.863803\n",
       "favorite_count     0.881713       0.974449        1.000000    0.866391\n",
       "quoteCount         0.844728       0.863803        0.866391    1.000000"
      ]
     },
     "execution_count": 33,
     "metadata": {},
     "output_type": "execute_result"
    }
   ],
   "source": [
    "corr = users_energy.corr()\n",
    "corr"
   ]
  },
  {
   "cell_type": "markdown",
   "metadata": {
    "cell_id": "00040-3aececb6-663c-4778-a056-8dc3c96c98bb",
    "deepnote_cell_type": "markdown",
    "tags": []
   },
   "source": [
    "# Calculating Ratio of Hashtag engagement\n",
    "According to Twitter, retweets and replies are the highest indicators for user engagement "
   ]
  },
  {
   "cell_type": "markdown",
   "metadata": {
    "cell_id": "00052-e6d3ccee-ace6-4b17-b267-9d97954ab112",
    "deepnote_cell_type": "markdown",
    "tags": []
   },
   "source": [
    "# 1st way"
   ]
  },
  {
   "cell_type": "code",
   "execution_count": null,
   "metadata": {
    "cell_id": "00038-66ee9957-45b7-4338-b3b3-07573c77ef0c",
    "deepnote_cell_type": "code",
    "deepnote_to_be_reexecuted": false,
    "execution_millis": 0,
    "execution_start": 1610457221388,
    "source_hash": "8ca5ce3",
    "tags": []
   },
   "outputs": [],
   "source": [
    "groupusers = groupusers.replace(0, np.nan)\n",
    "groupusers = groupusers.dropna(how='all', axis=0)\n",
    "groupusers = groupusers.replace(np.nan, 0)"
   ]
  },
  {
   "cell_type": "markdown",
   "metadata": {
    "cell_id": "00038-4c4cdad4-09b4-4d84-9a85-51503e9adfdf",
    "deepnote_cell_type": "markdown",
    "tags": []
   },
   "source": [
    "Since Twittter calculates the ration of engagement by **(retweets+replies count / N of followers)*100** \n",
    ">we retrieve manually N of followers from twitter of the top 10 users "
   ]
  },
  {
   "cell_type": "code",
   "execution_count": null,
   "metadata": {
    "cell_id": "00038-ebb92764-0355-4d60-8713-a43cee7b44a6",
    "deepnote_cell_type": "code",
    "deepnote_to_be_reexecuted": false,
    "execution_millis": 0,
    "execution_start": 1610457221389,
    "source_hash": "233b42e2",
    "tags": []
   },
   "outputs": [],
   "source": [
    "groupusers['engagement'] = ((groupusers.reply_count*3) + (groupusers.retweet_count*3) +\n",
    " (groupusers.favorite_count) + (groupusers.quoteCount))/8 "
   ]
  },
  {
   "cell_type": "code",
   "execution_count": null,
   "metadata": {
    "cell_id": "00040-f84b9c49-b223-4b6d-8068-d5ea1e708ba3",
    "deepnote_cell_type": "code",
    "deepnote_to_be_reexecuted": false,
    "execution_millis": 1,
    "execution_start": 1610457221389,
    "source_hash": "5926b512",
    "tags": []
   },
   "outputs": [
    {
     "data": {
      "text/plain": [
       "count      2788.000000\n",
       "mean         53.214805\n",
       "std        2547.776720\n",
       "min           0.125000\n",
       "25%           0.375000\n",
       "50%           1.000000\n",
       "75%           2.875000\n",
       "max      134517.250000\n",
       "Name: engagement, dtype: float64"
      ]
     },
     "execution_count": 36,
     "metadata": {},
     "output_type": "execute_result"
    }
   ],
   "source": [
    "groupusers.engagement.describe()"
   ]
  },
  {
   "cell_type": "markdown",
   "metadata": {
    "cell_id": "00055-4daf5c1d-b43c-4ad6-bd3f-18faf0707f99",
    "deepnote_cell_type": "markdown",
    "tags": []
   },
   "source": [
    "we normalise the scale of ratio since we have  **min 0.125000 and max 134517.250000**\n",
    "\n"
   ]
  },
  {
   "cell_type": "code",
   "execution_count": null,
   "metadata": {
    "cell_id": "00039-3ece57a8-114e-4467-82cc-706d4221c15a",
    "deepnote_cell_type": "code",
    "deepnote_to_be_reexecuted": false,
    "execution_millis": 1,
    "execution_start": 1610457221390,
    "source_hash": "43626fa",
    "tags": []
   },
   "outputs": [],
   "source": [
    "groupusers['engagement'] = round((abs((groupusers.engagement-groupusers.engagement.mean()))/ groupusers.engagement.std()*100),2)"
   ]
  },
  {
   "cell_type": "markdown",
   "metadata": {
    "cell_id": "00057-b4090019-5089-4acc-8310-dfa8a06661ed",
    "deepnote_cell_type": "markdown",
    "tags": []
   },
   "source": [
    "## Visualisation of engagement of top Active users"
   ]
  },
  {
   "cell_type": "code",
   "execution_count": null,
   "metadata": {
    "cell_id": "00058-6c353a09-a7c9-4d74-ac62-298ed7687098",
    "deepnote_cell_type": "code",
    "deepnote_to_be_reexecuted": false,
    "execution_millis": 233,
    "execution_start": 1610468502115,
    "source_hash": "626d7f2",
    "tags": []
   },
   "outputs": [
    {
     "data": {
      "image/png": "[encoded data removed]",
      "text/plain": [
       "<Figure size 864x576 with 1 Axes>"
      ]
     },
     "metadata": {},
     "output_type": "display_data"
    }
   ],
   "source": [
    "graph_en = groupusers.sort_values(by='engagement', ascending=False)\n",
    "graph_en = graph_eng.head(10)\n",
    "\n",
    "plt.figure(figsize=(12,8))\n",
    "_=plt.bar(graph_eng.index,graph_eng.engagement, color='b')\n",
    "plt.xlabel('Active energy users')\n",
    "plt.ylabel('Engegement Ratio')\n",
    "_=plt.xticks(rotation=90)"
   ]
  },
  {
   "cell_type": "markdown",
   "metadata": {
    "cell_id": "00059-eddf878e-67c4-4298-adda-3c9c0274d5be",
    "deepnote_cell_type": "markdown",
    "tags": []
   },
   "source": [
    "## Visualisation of engagement of top Active users without the 'outlier'"
   ]
  },
  {
   "cell_type": "code",
   "execution_count": null,
   "metadata": {
    "cell_id": "00041-0e5134ee-c3ad-468a-a846-39870b81f5a4",
    "deepnote_cell_type": "code",
    "deepnote_to_be_reexecuted": false,
    "execution_millis": 202,
    "execution_start": 1610457221391,
    "source_hash": "e196473d",
    "tags": []
   },
   "outputs": [
    {
     "data": {
      "image/png": "[encoded data removed]",
      "text/plain": [
       "<Figure size 864x576 with 1 Axes>"
      ]
     },
     "metadata": {
      "needs_background": "light"
     },
     "output_type": "display_data"
    }
   ],
   "source": [
    "graph_eng = groupusers.drop('MikeHudema').sort_values(by='engagement', ascending=False)\n",
    "graph_eng = graph_eng.head(10)\n",
    "\n",
    "plt.figure(figsize=(12,8))\n",
    "_=plt.bar(graph_eng.index,graph_eng.engagement, color='b')\n",
    "plt.xlabel('Active energy users')\n",
    "plt.ylabel('Engegement Ratio')\n",
    "_=plt.xticks(rotation=90)"
   ]
  },
  {
   "cell_type": "markdown",
   "metadata": {
    "cell_id": "00062-727f05eb-32be-45d9-a32c-800a13df8b28",
    "deepnote_cell_type": "markdown",
    "tags": []
   },
   "source": [
    "we try to normalise data to see if there is a difference "
   ]
  },
  {
   "cell_type": "code",
   "execution_count": null,
   "metadata": {
    "cell_id": "00043-a3bbce5e-0b51-4f10-9f9f-4033b8db6c7b",
    "deepnote_cell_type": "code",
    "deepnote_to_be_reexecuted": false,
    "execution_millis": 683,
    "execution_start": 1610457221601,
    "source_hash": "12b2a78c",
    "tags": []
   },
   "outputs": [
    {
     "data": {
      "image/png": "[encoded data removed]",
      "text/plain": [
       "<Figure size 864x576 with 1 Axes>"
      ]
     },
     "metadata": {
      "needs_background": "light"
     },
     "output_type": "display_data"
    }
   ],
   "source": [
    "plt.figure(figsize=(12,8))\n",
    "_=plt.bar(graph_eng.index,graph_eng.engagement, color='b')\n",
    "plt.xlabel('Active energy users')\n",
    "plt.ylabel('Engegement Ratio')\n",
    "plt.yscale('log')\n",
    "_=plt.xticks(rotation=90)"
   ]
  },
  {
   "cell_type": "markdown",
   "metadata": {
    "cell_id": "00064-a965f314-0fe2-41ee-95b8-bd9959c35b70",
    "deepnote_cell_type": "markdown",
    "tags": []
   },
   "source": [
    "# 2nd Way"
   ]
  },
  {
   "cell_type": "code",
   "execution_count": null,
   "metadata": {
    "cell_id": "00045-e8fce174-21a5-4d2b-812c-213952aaff7e",
    "deepnote_cell_type": "code",
    "deepnote_to_be_reexecuted": false,
    "execution_millis": 22,
    "execution_start": 1610457222323,
    "source_hash": "420c3d52",
    "tags": []
   },
   "outputs": [
    {
     "data": {
      "application/vnd.deepnote.dataframe.v2+json": {
       "column_count": 5,
       "columns": [
        {
         "dtype": "float64",
         "name": "reply_count",
         "stats": {
          "histogram": [
           {
            "bin_end": 1143.8,
            "bin_start": 1,
            "count": 10
           },
           {
            "bin_end": 2286.6,
            "bin_start": 1143.8,
            "count": 0
           },
           {
            "bin_end": 3429.3999999999996,
            "bin_start": 2286.6,
            "count": 0
           },
           {
            "bin_end": 4572.2,
            "bin_start": 3429.3999999999996,
            "count": 0
           },
           {
            "bin_end": 5715,
            "bin_start": 4572.2,
            "count": 0
           },
           {
            "bin_end": 6857.799999999999,
            "bin_start": 5715,
            "count": 0
           },
           {
            "bin_end": 8000.599999999999,
            "bin_start": 6857.799999999999,
            "count": 0
           },
           {
            "bin_end": 9143.4,
            "bin_start": 8000.599999999999,
            "count": 0
           },
           {
            "bin_end": 10286.199999999999,
            "bin_start": 9143.4,
            "count": 0
           },
           {
            "bin_end": 11429,
            "bin_start": 10286.199999999999,
            "count": 1
           }
          ],
          "max": 11429,
          "min": 1,
          "nan_count": 0,
          "unique_count": 10
         }
        },
        {
         "dtype": "float64",
         "name": "retweet_count",
         "stats": {
          "histogram": [
           {
            "bin_end": 20818.3,
            "bin_start": 190,
            "count": 10
           },
           {
            "bin_end": 41446.6,
            "bin_start": 20818.3,
            "count": 0
           },
           {
            "bin_end": 62074.899999999994,
            "bin_start": 41446.6,
            "count": 0
           },
           {
            "bin_end": 82703.2,
            "bin_start": 62074.899999999994,
            "count": 0
           },
           {
            "bin_end": 103331.5,
            "bin_start": 82703.2,
            "count": 0
           },
           {
            "bin_end": 123959.79999999999,
            "bin_start": 103331.5,
            "count": 0
           },
           {
            "bin_end": 144588.1,
            "bin_start": 123959.79999999999,
            "count": 0
           },
           {
            "bin_end": 165216.4,
            "bin_start": 144588.1,
            "count": 0
           },
           {
            "bin_end": 185844.69999999998,
            "bin_start": 165216.4,
            "count": 0
           },
           {
            "bin_end": 206473,
            "bin_start": 185844.69999999998,
            "count": 1
           }
          ],
          "max": 206473,
          "min": 190,
          "nan_count": 0,
          "unique_count": 11
         }
        },
        {
         "dtype": "float64",
         "name": "favorite_count",
         "stats": {
          "histogram": [
           {
            "bin_end": 40773.7,
            "bin_start": 101,
            "count": 10
           },
           {
            "bin_end": 81446.4,
            "bin_start": 40773.7,
            "count": 0
           },
           {
            "bin_end": 122119.09999999999,
            "bin_start": 81446.4,
            "count": 0
           },
           {
            "bin_end": 162791.8,
            "bin_start": 122119.09999999999,
            "count": 0
           },
           {
            "bin_end": 203464.5,
            "bin_start": 162791.8,
            "count": 0
           },
           {
            "bin_end": 244137.19999999998,
            "bin_start": 203464.5,
            "count": 0
           },
           {
            "bin_end": 284809.89999999997,
            "bin_start": 244137.19999999998,
            "count": 0
           },
           {
            "bin_end": 325482.6,
            "bin_start": 284809.89999999997,
            "count": 0
           },
           {
            "bin_end": 366155.3,
            "bin_start": 325482.6,
            "count": 0
           },
           {
            "bin_end": 406828,
            "bin_start": 366155.3,
            "count": 1
           }
          ],
          "max": 406828,
          "min": 101,
          "nan_count": 0,
          "unique_count": 11
         }
        },
        {
         "dtype": "float64",
         "name": "quoteCount",
         "stats": {
          "histogram": [
           {
            "bin_end": 1560.4,
            "bin_start": 0,
            "count": 10
           },
           {
            "bin_end": 3120.8,
            "bin_start": 1560.4,
            "count": 0
           },
           {
            "bin_end": 4681.200000000001,
            "bin_start": 3120.8,
            "count": 0
           },
           {
            "bin_end": 6241.6,
            "bin_start": 4681.200000000001,
            "count": 0
           },
           {
            "bin_end": 7802,
            "bin_start": 6241.6,
            "count": 0
           },
           {
            "bin_end": 9362.400000000001,
            "bin_start": 7802,
            "count": 0
           },
           {
            "bin_end": 10922.800000000001,
            "bin_start": 9362.400000000001,
            "count": 0
           },
           {
            "bin_end": 12483.2,
            "bin_start": 10922.800000000001,
            "count": 0
           },
           {
            "bin_end": 14043.6,
            "bin_start": 12483.2,
            "count": 0
           },
           {
            "bin_end": 15604,
            "bin_start": 14043.6,
            "count": 1
           }
          ],
          "max": 15604,
          "min": 0,
          "nan_count": 0,
          "unique_count": 11
         }
        },
        {
         "dtype": "float64",
         "name": "engagement",
         "stats": {
          "histogram": [
           {
            "bin_end": 529.066,
            "bin_start": 1.44,
            "count": 10
           },
           {
            "bin_end": 1056.692,
            "bin_start": 529.066,
            "count": 0
           },
           {
            "bin_end": 1584.318,
            "bin_start": 1056.692,
            "count": 0
           },
           {
            "bin_end": 2111.944,
            "bin_start": 1584.318,
            "count": 0
           },
           {
            "bin_end": 2639.57,
            "bin_start": 2111.944,
            "count": 0
           },
           {
            "bin_end": 3167.196,
            "bin_start": 2639.57,
            "count": 0
           },
           {
            "bin_end": 3694.8219999999997,
            "bin_start": 3167.196,
            "count": 0
           },
           {
            "bin_end": 4222.447999999999,
            "bin_start": 3694.8219999999997,
            "count": 0
           },
           {
            "bin_end": 4750.074,
            "bin_start": 4222.447999999999,
            "count": 0
           },
           {
            "bin_end": 5277.7,
            "bin_start": 4750.074,
            "count": 1
           }
          ],
          "max": 5277.7,
          "min": 1.44,
          "nan_count": 0,
          "unique_count": 11
         }
        },
        {
         "dtype": "object",
         "name": "_deepnote_index_column"
        }
       ],
       "row_count": 11,
       "rows_bottom": null,
       "rows_top": [
        {
         "_deepnote_index_column": "MikeHudema",
         "engagement": 5277.7,
         "favorite_count": 406828,
         "quoteCount": 15604,
         "reply_count": 11429,
         "retweet_count": 206473
        },
        {
         "_deepnote_index_column": "mvollmer1",
         "engagement": 65.05,
         "favorite_count": 4530,
         "quoteCount": 196,
         "reply_count": 146,
         "retweet_count": 2840
        },
        {
         "_deepnote_index_column": "SolarPlusLLC1",
         "engagement": 20.66,
         "favorite_count": 1240,
         "quoteCount": 25,
         "reply_count": 31,
         "retweet_count": 1093
        },
        {
         "_deepnote_index_column": "arikring",
         "engagement": 6.99,
         "favorite_count": 463,
         "quoteCount": 13,
         "reply_count": 24,
         "retweet_count": 434
        },
        {
         "_deepnote_index_column": "DarMo68",
         "engagement": 9.37,
         "favorite_count": 1121,
         "quoteCount": 38,
         "reply_count": 56,
         "retweet_count": 336
        },
        {
         "_deepnote_index_column": "cleanenergywire",
         "engagement": 5.87,
         "favorite_count": 519,
         "quoteCount": 47,
         "reply_count": 20,
         "retweet_count": 332
        },
        {
         "_deepnote_index_column": "palmboy4444",
         "engagement": 5.72,
         "favorite_count": 537,
         "quoteCount": 14,
         "reply_count": 26,
         "retweet_count": 321
        },
        {
         "_deepnote_index_column": "mwt2008",
         "engagement": 8.75,
         "favorite_count": 858,
         "quoteCount": 85,
         "reply_count": 109,
         "retweet_count": 313
        },
        {
         "_deepnote_index_column": "carbonchoicesuk",
         "engagement": 3.52,
         "favorite_count": 323,
         "quoteCount": 68,
         "reply_count": 11,
         "retweet_count": 240
        },
        {
         "_deepnote_index_column": "3saitech",
         "engagement": 1.44,
         "favorite_count": 101,
         "quoteCount": 0,
         "reply_count": 1,
         "retweet_count": 205
        },
        {
         "_deepnote_index_column": "Ben_Geman",
         "engagement": 3.99,
         "favorite_count": 447,
         "quoteCount": 53,
         "reply_count": 56,
         "retweet_count": 190
        }
       ]
      },
      "text/html": [
       "<div>\n",
       "<style scoped>\n",
       "    .dataframe tbody tr th:only-of-type {\n",
       "        vertical-align: middle;\n",
       "    }\n",
       "\n",
       "    .dataframe tbody tr th {\n",
       "        vertical-align: top;\n",
       "    }\n",
       "\n",
       "    .dataframe thead th {\n",
       "        text-align: right;\n",
       "    }\n",
       "</style>\n",
       "<table border=\"1\" class=\"dataframe\">\n",
       "  <thead>\n",
       "    <tr style=\"text-align: right;\">\n",
       "      <th></th>\n",
       "      <th>reply_count</th>\n",
       "      <th>retweet_count</th>\n",
       "      <th>favorite_count</th>\n",
       "      <th>quoteCount</th>\n",
       "      <th>engagement</th>\n",
       "    </tr>\n",
       "    <tr>\n",
       "      <th>user_screen_name</th>\n",
       "      <th></th>\n",
       "      <th></th>\n",
       "      <th></th>\n",
       "      <th></th>\n",
       "      <th></th>\n",
       "    </tr>\n",
       "  </thead>\n",
       "  <tbody>\n",
       "    <tr>\n",
       "      <th>MikeHudema</th>\n",
       "      <td>11429.0</td>\n",
       "      <td>206473.0</td>\n",
       "      <td>406828.0</td>\n",
       "      <td>15604.0</td>\n",
       "      <td>5277.70</td>\n",
       "    </tr>\n",
       "    <tr>\n",
       "      <th>mvollmer1</th>\n",
       "      <td>146.0</td>\n",
       "      <td>2840.0</td>\n",
       "      <td>4530.0</td>\n",
       "      <td>196.0</td>\n",
       "      <td>65.05</td>\n",
       "    </tr>\n",
       "    <tr>\n",
       "      <th>SolarPlusLLC1</th>\n",
       "      <td>31.0</td>\n",
       "      <td>1093.0</td>\n",
       "      <td>1240.0</td>\n",
       "      <td>25.0</td>\n",
       "      <td>20.66</td>\n",
       "    </tr>\n",
       "    <tr>\n",
       "      <th>arikring</th>\n",
       "      <td>24.0</td>\n",
       "      <td>434.0</td>\n",
       "      <td>463.0</td>\n",
       "      <td>13.0</td>\n",
       "      <td>6.99</td>\n",
       "    </tr>\n",
       "    <tr>\n",
       "      <th>DarMo68</th>\n",
       "      <td>56.0</td>\n",
       "      <td>336.0</td>\n",
       "      <td>1121.0</td>\n",
       "      <td>38.0</td>\n",
       "      <td>9.37</td>\n",
       "    </tr>\n",
       "    <tr>\n",
       "      <th>cleanenergywire</th>\n",
       "      <td>20.0</td>\n",
       "      <td>332.0</td>\n",
       "      <td>519.0</td>\n",
       "      <td>47.0</td>\n",
       "      <td>5.87</td>\n",
       "    </tr>\n",
       "    <tr>\n",
       "      <th>palmboy4444</th>\n",
       "      <td>26.0</td>\n",
       "      <td>321.0</td>\n",
       "      <td>537.0</td>\n",
       "      <td>14.0</td>\n",
       "      <td>5.72</td>\n",
       "    </tr>\n",
       "    <tr>\n",
       "      <th>mwt2008</th>\n",
       "      <td>109.0</td>\n",
       "      <td>313.0</td>\n",
       "      <td>858.0</td>\n",
       "      <td>85.0</td>\n",
       "      <td>8.75</td>\n",
       "    </tr>\n",
       "    <tr>\n",
       "      <th>carbonchoicesuk</th>\n",
       "      <td>11.0</td>\n",
       "      <td>240.0</td>\n",
       "      <td>323.0</td>\n",
       "      <td>68.0</td>\n",
       "      <td>3.52</td>\n",
       "    </tr>\n",
       "    <tr>\n",
       "      <th>3saitech</th>\n",
       "      <td>1.0</td>\n",
       "      <td>205.0</td>\n",
       "      <td>101.0</td>\n",
       "      <td>0.0</td>\n",
       "      <td>1.44</td>\n",
       "    </tr>\n",
       "    <tr>\n",
       "      <th>Ben_Geman</th>\n",
       "      <td>56.0</td>\n",
       "      <td>190.0</td>\n",
       "      <td>447.0</td>\n",
       "      <td>53.0</td>\n",
       "      <td>3.99</td>\n",
       "    </tr>\n",
       "  </tbody>\n",
       "</table>\n",
       "</div>"
      ],
      "text/plain": [
       "                  reply_count  retweet_count  favorite_count  quoteCount  \\\n",
       "user_screen_name                                                           \n",
       "MikeHudema            11429.0       206473.0        406828.0     15604.0   \n",
       "mvollmer1               146.0         2840.0          4530.0       196.0   \n",
       "SolarPlusLLC1            31.0         1093.0          1240.0        25.0   \n",
       "arikring                 24.0          434.0           463.0        13.0   \n",
       "DarMo68                  56.0          336.0          1121.0        38.0   \n",
       "cleanenergywire          20.0          332.0           519.0        47.0   \n",
       "palmboy4444              26.0          321.0           537.0        14.0   \n",
       "mwt2008                 109.0          313.0           858.0        85.0   \n",
       "carbonchoicesuk          11.0          240.0           323.0        68.0   \n",
       "3saitech                  1.0          205.0           101.0         0.0   \n",
       "Ben_Geman                56.0          190.0           447.0        53.0   \n",
       "\n",
       "                  engagement  \n",
       "user_screen_name              \n",
       "MikeHudema           5277.70  \n",
       "mvollmer1              65.05  \n",
       "SolarPlusLLC1          20.66  \n",
       "arikring                6.99  \n",
       "DarMo68                 9.37  \n",
       "cleanenergywire         5.87  \n",
       "palmboy4444             5.72  \n",
       "mwt2008                 8.75  \n",
       "carbonchoicesuk         3.52  \n",
       "3saitech                1.44  \n",
       "Ben_Geman               3.99  "
      ]
     },
     "execution_count": 41,
     "metadata": {},
     "output_type": "execute_result"
    }
   ],
   "source": [
    "topusers = groupusers.sort_values(by= ['retweet_count','reply_count'], ascending=False).head(11)\n",
    "topusers"
   ]
  },
  {
   "cell_type": "markdown",
   "metadata": {
    "cell_id": "00066-3a1bd32e-4b72-4b74-aaea-94d3294927f6",
    "deepnote_cell_type": "markdown",
    "tags": []
   },
   "source": [
    "- we create file for the top users' followers"
   ]
  },
  {
   "cell_type": "code",
   "execution_count": 22,
   "metadata": {
    "ExecuteTime": {
     "end_time": "2021-02-04T15:02:32.881525Z",
     "start_time": "2021-02-04T15:02:32.864226Z"
    },
    "cell_id": "00048-d7bf816a-259b-4922-b273-86d3d25abc2e",
    "deepnote_cell_type": "code",
    "deepnote_to_be_reexecuted": false,
    "execution_millis": 18,
    "execution_start": 1610457222351,
    "source_hash": "5bd18341",
    "tags": []
   },
   "outputs": [
    {
     "data": {
      "text/html": [
       "<div>\n",
       "<style scoped>\n",
       "    .dataframe tbody tr th:only-of-type {\n",
       "        vertical-align: middle;\n",
       "    }\n",
       "\n",
       "    .dataframe tbody tr th {\n",
       "        vertical-align: top;\n",
       "    }\n",
       "\n",
       "    .dataframe thead th {\n",
       "        text-align: right;\n",
       "    }\n",
       "</style>\n",
       "<table border=\"1\" class=\"dataframe\">\n",
       "  <thead>\n",
       "    <tr style=\"text-align: right;\">\n",
       "      <th></th>\n",
       "      <th>user_screen_name</th>\n",
       "      <th>n_followers</th>\n",
       "    </tr>\n",
       "  </thead>\n",
       "  <tbody>\n",
       "    <tr>\n",
       "      <th>0</th>\n",
       "      <td>mvollmer1</td>\n",
       "      <td>67019</td>\n",
       "    </tr>\n",
       "    <tr>\n",
       "      <th>1</th>\n",
       "      <td>SolarPlusLLC1</td>\n",
       "      <td>781</td>\n",
       "    </tr>\n",
       "    <tr>\n",
       "      <th>2</th>\n",
       "      <td>arikring</td>\n",
       "      <td>87065</td>\n",
       "    </tr>\n",
       "    <tr>\n",
       "      <th>3</th>\n",
       "      <td>mwt2008</td>\n",
       "      <td>5677</td>\n",
       "    </tr>\n",
       "    <tr>\n",
       "      <th>4</th>\n",
       "      <td>DarMo68</td>\n",
       "      <td>508</td>\n",
       "    </tr>\n",
       "    <tr>\n",
       "      <th>5</th>\n",
       "      <td>cleanenergywire</td>\n",
       "      <td>9865</td>\n",
       "    </tr>\n",
       "    <tr>\n",
       "      <th>6</th>\n",
       "      <td>palmboy4444</td>\n",
       "      <td>1132</td>\n",
       "    </tr>\n",
       "    <tr>\n",
       "      <th>7</th>\n",
       "      <td>KenCaldeira</td>\n",
       "      <td>24884</td>\n",
       "    </tr>\n",
       "    <tr>\n",
       "      <th>8</th>\n",
       "      <td>carbonchoicesuk</td>\n",
       "      <td>2127</td>\n",
       "    </tr>\n",
       "    <tr>\n",
       "      <th>9</th>\n",
       "      <td>Ben_Geman</td>\n",
       "      <td>16796</td>\n",
       "    </tr>\n",
       "    <tr>\n",
       "      <th>10</th>\n",
       "      <td>3saitech</td>\n",
       "      <td>420</td>\n",
       "    </tr>\n",
       "    <tr>\n",
       "      <th>11</th>\n",
       "      <td>carbonchoicesuk</td>\n",
       "      <td>2127</td>\n",
       "    </tr>\n",
       "    <tr>\n",
       "      <th>12</th>\n",
       "      <td>MikeHudema</td>\n",
       "      <td>131600</td>\n",
       "    </tr>\n",
       "  </tbody>\n",
       "</table>\n",
       "</div>"
      ],
      "text/plain": [
       "   user_screen_name  n_followers\n",
       "0         mvollmer1        67019\n",
       "1     SolarPlusLLC1          781\n",
       "2          arikring        87065\n",
       "3           mwt2008         5677\n",
       "4           DarMo68          508\n",
       "5   cleanenergywire         9865\n",
       "6       palmboy4444         1132\n",
       "7       KenCaldeira        24884\n",
       "8   carbonchoicesuk         2127\n",
       "9         Ben_Geman        16796\n",
       "10         3saitech          420\n",
       "11  carbonchoicesuk         2127\n",
       "12       MikeHudema       131600"
      ]
     },
     "execution_count": 22,
     "metadata": {},
     "output_type": "execute_result"
    }
   ],
   "source": [
    "top10 = pd.read_csv('top10users.txt')\n",
    "top10"
   ]
  },
  {
   "cell_type": "code",
   "execution_count": null,
   "metadata": {
    "cell_id": "00049-01c41e09-3524-413a-9535-862a582ee6da",
    "deepnote_cell_type": "code",
    "deepnote_to_be_reexecuted": false,
    "execution_millis": 7,
    "execution_start": 1610457222419,
    "source_hash": "17516ede",
    "tags": []
   },
   "outputs": [
    {
     "data": {
      "application/vnd.deepnote.dataframe.v2+json": {
       "column_count": 7,
       "columns": [
        {
         "dtype": "object",
         "name": "user_screen_name",
         "stats": {
          "categories": [
           {
            "count": 2,
            "name": "carbonchoicesuk"
           },
           {
            "count": 1,
            "name": "MikeHudema"
           },
           {
            "count": 9,
            "name": "9 others"
           }
          ],
          "nan_count": 0,
          "unique_count": 11
         }
        },
        {
         "dtype": "float64",
         "name": "reply_count",
         "stats": {
          "histogram": [
           {
            "bin_end": 1143.8,
            "bin_start": 1,
            "count": 11
           },
           {
            "bin_end": 2286.6,
            "bin_start": 1143.8,
            "count": 0
           },
           {
            "bin_end": 3429.3999999999996,
            "bin_start": 2286.6,
            "count": 0
           },
           {
            "bin_end": 4572.2,
            "bin_start": 3429.3999999999996,
            "count": 0
           },
           {
            "bin_end": 5715,
            "bin_start": 4572.2,
            "count": 0
           },
           {
            "bin_end": 6857.799999999999,
            "bin_start": 5715,
            "count": 0
           },
           {
            "bin_end": 8000.599999999999,
            "bin_start": 6857.799999999999,
            "count": 0
           },
           {
            "bin_end": 9143.4,
            "bin_start": 8000.599999999999,
            "count": 0
           },
           {
            "bin_end": 10286.199999999999,
            "bin_start": 9143.4,
            "count": 0
           },
           {
            "bin_end": 11429,
            "bin_start": 10286.199999999999,
            "count": 1
           }
          ],
          "max": 11429,
          "min": 1,
          "nan_count": 0,
          "unique_count": 10
         }
        },
        {
         "dtype": "float64",
         "name": "retweet_count",
         "stats": {
          "histogram": [
           {
            "bin_end": 20818.3,
            "bin_start": 190,
            "count": 11
           },
           {
            "bin_end": 41446.6,
            "bin_start": 20818.3,
            "count": 0
           },
           {
            "bin_end": 62074.899999999994,
            "bin_start": 41446.6,
            "count": 0
           },
           {
            "bin_end": 82703.2,
            "bin_start": 62074.899999999994,
            "count": 0
           },
           {
            "bin_end": 103331.5,
            "bin_start": 82703.2,
            "count": 0
           },
           {
            "bin_end": 123959.79999999999,
            "bin_start": 103331.5,
            "count": 0
           },
           {
            "bin_end": 144588.1,
            "bin_start": 123959.79999999999,
            "count": 0
           },
           {
            "bin_end": 165216.4,
            "bin_start": 144588.1,
            "count": 0
           },
           {
            "bin_end": 185844.69999999998,
            "bin_start": 165216.4,
            "count": 0
           },
           {
            "bin_end": 206473,
            "bin_start": 185844.69999999998,
            "count": 1
           }
          ],
          "max": 206473,
          "min": 190,
          "nan_count": 0,
          "unique_count": 11
         }
        },
        {
         "dtype": "float64",
         "name": "favorite_count",
         "stats": {
          "histogram": [
           {
            "bin_end": 40773.7,
            "bin_start": 101,
            "count": 11
           },
           {
            "bin_end": 81446.4,
            "bin_start": 40773.7,
            "count": 0
           },
           {
            "bin_end": 122119.09999999999,
            "bin_start": 81446.4,
            "count": 0
           },
           {
            "bin_end": 162791.8,
            "bin_start": 122119.09999999999,
            "count": 0
           },
           {
            "bin_end": 203464.5,
            "bin_start": 162791.8,
            "count": 0
           },
           {
            "bin_end": 244137.19999999998,
            "bin_start": 203464.5,
            "count": 0
           },
           {
            "bin_end": 284809.89999999997,
            "bin_start": 244137.19999999998,
            "count": 0
           },
           {
            "bin_end": 325482.6,
            "bin_start": 284809.89999999997,
            "count": 0
           },
           {
            "bin_end": 366155.3,
            "bin_start": 325482.6,
            "count": 0
           },
           {
            "bin_end": 406828,
            "bin_start": 366155.3,
            "count": 1
           }
          ],
          "max": 406828,
          "min": 101,
          "nan_count": 0,
          "unique_count": 11
         }
        },
        {
         "dtype": "float64",
         "name": "quoteCount",
         "stats": {
          "histogram": [
           {
            "bin_end": 1560.4,
            "bin_start": 0,
            "count": 11
           },
           {
            "bin_end": 3120.8,
            "bin_start": 1560.4,
            "count": 0
           },
           {
            "bin_end": 4681.200000000001,
            "bin_start": 3120.8,
            "count": 0
           },
           {
            "bin_end": 6241.6,
            "bin_start": 4681.200000000001,
            "count": 0
           },
           {
            "bin_end": 7802,
            "bin_start": 6241.6,
            "count": 0
           },
           {
            "bin_end": 9362.400000000001,
            "bin_start": 7802,
            "count": 0
           },
           {
            "bin_end": 10922.800000000001,
            "bin_start": 9362.400000000001,
            "count": 0
           },
           {
            "bin_end": 12483.2,
            "bin_start": 10922.800000000001,
            "count": 0
           },
           {
            "bin_end": 14043.6,
            "bin_start": 12483.2,
            "count": 0
           },
           {
            "bin_end": 15604,
            "bin_start": 14043.6,
            "count": 1
           }
          ],
          "max": 15604,
          "min": 0,
          "nan_count": 0,
          "unique_count": 11
         }
        },
        {
         "dtype": "float64",
         "name": "engagement",
         "stats": {
          "histogram": [
           {
            "bin_end": 529.066,
            "bin_start": 1.44,
            "count": 11
           },
           {
            "bin_end": 1056.692,
            "bin_start": 529.066,
            "count": 0
           },
           {
            "bin_end": 1584.318,
            "bin_start": 1056.692,
            "count": 0
           },
           {
            "bin_end": 2111.944,
            "bin_start": 1584.318,
            "count": 0
           },
           {
            "bin_end": 2639.57,
            "bin_start": 2111.944,
            "count": 0
           },
           {
            "bin_end": 3167.196,
            "bin_start": 2639.57,
            "count": 0
           },
           {
            "bin_end": 3694.8219999999997,
            "bin_start": 3167.196,
            "count": 0
           },
           {
            "bin_end": 4222.447999999999,
            "bin_start": 3694.8219999999997,
            "count": 0
           },
           {
            "bin_end": 4750.074,
            "bin_start": 4222.447999999999,
            "count": 0
           },
           {
            "bin_end": 5277.7,
            "bin_start": 4750.074,
            "count": 1
           }
          ],
          "max": 5277.7,
          "min": 1.44,
          "nan_count": 0,
          "unique_count": 11
         }
        },
        {
         "dtype": "int64",
         "name": "n_followers",
         "stats": {
          "histogram": [
           {
            "bin_end": 13538,
            "bin_start": 420,
            "count": 8
           },
           {
            "bin_end": 26656,
            "bin_start": 13538,
            "count": 1
           },
           {
            "bin_end": 39774,
            "bin_start": 26656,
            "count": 0
           },
           {
            "bin_end": 52892,
            "bin_start": 39774,
            "count": 0
           },
           {
            "bin_end": 66010,
            "bin_start": 52892,
            "count": 0
           },
           {
            "bin_end": 79128,
            "bin_start": 66010,
            "count": 1
           },
           {
            "bin_end": 92246,
            "bin_start": 79128,
            "count": 1
           },
           {
            "bin_end": 105364,
            "bin_start": 92246,
            "count": 0
           },
           {
            "bin_end": 118482,
            "bin_start": 105364,
            "count": 0
           },
           {
            "bin_end": 131600,
            "bin_start": 118482,
            "count": 1
           }
          ],
          "max": 131600,
          "min": 420,
          "nan_count": 0,
          "unique_count": 11
         }
        },
        {
         "dtype": "int64",
         "name": "_deepnote_index_column"
        }
       ],
       "row_count": 12,
       "rows_bottom": null,
       "rows_top": [
        {
         "_deepnote_index_column": 0,
         "engagement": 5277.7,
         "favorite_count": 406828,
         "n_followers": 131600,
         "quoteCount": 15604,
         "reply_count": 11429,
         "retweet_count": 206473,
         "user_screen_name": "MikeHudema"
        },
        {
         "_deepnote_index_column": 1,
         "engagement": 65.05,
         "favorite_count": 4530,
         "n_followers": 67019,
         "quoteCount": 196,
         "reply_count": 146,
         "retweet_count": 2840,
         "user_screen_name": "mvollmer1"
        },
        {
         "_deepnote_index_column": 2,
         "engagement": 20.66,
         "favorite_count": 1240,
         "n_followers": 781,
         "quoteCount": 25,
         "reply_count": 31,
         "retweet_count": 1093,
         "user_screen_name": "SolarPlusLLC1"
        },
        {
         "_deepnote_index_column": 3,
         "engagement": 6.99,
         "favorite_count": 463,
         "n_followers": 87065,
         "quoteCount": 13,
         "reply_count": 24,
         "retweet_count": 434,
         "user_screen_name": "arikring"
        },
        {
         "_deepnote_index_column": 4,
         "engagement": 9.37,
         "favorite_count": 1121,
         "n_followers": 508,
         "quoteCount": 38,
         "reply_count": 56,
         "retweet_count": 336,
         "user_screen_name": "DarMo68"
        },
        {
         "_deepnote_index_column": 5,
         "engagement": 5.87,
         "favorite_count": 519,
         "n_followers": 9865,
         "quoteCount": 47,
         "reply_count": 20,
         "retweet_count": 332,
         "user_screen_name": "cleanenergywire"
        },
        {
         "_deepnote_index_column": 6,
         "engagement": 5.72,
         "favorite_count": 537,
         "n_followers": 1132,
         "quoteCount": 14,
         "reply_count": 26,
         "retweet_count": 321,
         "user_screen_name": "palmboy4444"
        },
        {
         "_deepnote_index_column": 7,
         "engagement": 8.75,
         "favorite_count": 858,
         "n_followers": 5677,
         "quoteCount": 85,
         "reply_count": 109,
         "retweet_count": 313,
         "user_screen_name": "mwt2008"
        },
        {
         "_deepnote_index_column": 8,
         "engagement": 3.52,
         "favorite_count": 323,
         "n_followers": 2127,
         "quoteCount": 68,
         "reply_count": 11,
         "retweet_count": 240,
         "user_screen_name": "carbonchoicesuk"
        },
        {
         "_deepnote_index_column": 9,
         "engagement": 3.52,
         "favorite_count": 323,
         "n_followers": 2127,
         "quoteCount": 68,
         "reply_count": 11,
         "retweet_count": 240,
         "user_screen_name": "carbonchoicesuk"
        },
        {
         "_deepnote_index_column": 10,
         "engagement": 1.44,
         "favorite_count": 101,
         "n_followers": 420,
         "quoteCount": 0,
         "reply_count": 1,
         "retweet_count": 205,
         "user_screen_name": "3saitech"
        },
        {
         "_deepnote_index_column": 11,
         "engagement": 3.99,
         "favorite_count": 447,
         "n_followers": 16796,
         "quoteCount": 53,
         "reply_count": 56,
         "retweet_count": 190,
         "user_screen_name": "Ben_Geman"
        }
       ]
      },
      "text/html": [
       "<div>\n",
       "<style scoped>\n",
       "    .dataframe tbody tr th:only-of-type {\n",
       "        vertical-align: middle;\n",
       "    }\n",
       "\n",
       "    .dataframe tbody tr th {\n",
       "        vertical-align: top;\n",
       "    }\n",
       "\n",
       "    .dataframe thead th {\n",
       "        text-align: right;\n",
       "    }\n",
       "</style>\n",
       "<table border=\"1\" class=\"dataframe\">\n",
       "  <thead>\n",
       "    <tr style=\"text-align: right;\">\n",
       "      <th></th>\n",
       "      <th>user_screen_name</th>\n",
       "      <th>reply_count</th>\n",
       "      <th>retweet_count</th>\n",
       "      <th>favorite_count</th>\n",
       "      <th>quoteCount</th>\n",
       "      <th>engagement</th>\n",
       "      <th>n_followers</th>\n",
       "    </tr>\n",
       "  </thead>\n",
       "  <tbody>\n",
       "    <tr>\n",
       "      <th>0</th>\n",
       "      <td>MikeHudema</td>\n",
       "      <td>11429.0</td>\n",
       "      <td>206473.0</td>\n",
       "      <td>406828.0</td>\n",
       "      <td>15604.0</td>\n",
       "      <td>5277.70</td>\n",
       "      <td>131600</td>\n",
       "    </tr>\n",
       "    <tr>\n",
       "      <th>1</th>\n",
       "      <td>mvollmer1</td>\n",
       "      <td>146.0</td>\n",
       "      <td>2840.0</td>\n",
       "      <td>4530.0</td>\n",
       "      <td>196.0</td>\n",
       "      <td>65.05</td>\n",
       "      <td>67019</td>\n",
       "    </tr>\n",
       "    <tr>\n",
       "      <th>2</th>\n",
       "      <td>SolarPlusLLC1</td>\n",
       "      <td>31.0</td>\n",
       "      <td>1093.0</td>\n",
       "      <td>1240.0</td>\n",
       "      <td>25.0</td>\n",
       "      <td>20.66</td>\n",
       "      <td>781</td>\n",
       "    </tr>\n",
       "    <tr>\n",
       "      <th>3</th>\n",
       "      <td>arikring</td>\n",
       "      <td>24.0</td>\n",
       "      <td>434.0</td>\n",
       "      <td>463.0</td>\n",
       "      <td>13.0</td>\n",
       "      <td>6.99</td>\n",
       "      <td>87065</td>\n",
       "    </tr>\n",
       "    <tr>\n",
       "      <th>4</th>\n",
       "      <td>DarMo68</td>\n",
       "      <td>56.0</td>\n",
       "      <td>336.0</td>\n",
       "      <td>1121.0</td>\n",
       "      <td>38.0</td>\n",
       "      <td>9.37</td>\n",
       "      <td>508</td>\n",
       "    </tr>\n",
       "    <tr>\n",
       "      <th>5</th>\n",
       "      <td>cleanenergywire</td>\n",
       "      <td>20.0</td>\n",
       "      <td>332.0</td>\n",
       "      <td>519.0</td>\n",
       "      <td>47.0</td>\n",
       "      <td>5.87</td>\n",
       "      <td>9865</td>\n",
       "    </tr>\n",
       "    <tr>\n",
       "      <th>6</th>\n",
       "      <td>palmboy4444</td>\n",
       "      <td>26.0</td>\n",
       "      <td>321.0</td>\n",
       "      <td>537.0</td>\n",
       "      <td>14.0</td>\n",
       "      <td>5.72</td>\n",
       "      <td>1132</td>\n",
       "    </tr>\n",
       "    <tr>\n",
       "      <th>7</th>\n",
       "      <td>mwt2008</td>\n",
       "      <td>109.0</td>\n",
       "      <td>313.0</td>\n",
       "      <td>858.0</td>\n",
       "      <td>85.0</td>\n",
       "      <td>8.75</td>\n",
       "      <td>5677</td>\n",
       "    </tr>\n",
       "    <tr>\n",
       "      <th>8</th>\n",
       "      <td>carbonchoicesuk</td>\n",
       "      <td>11.0</td>\n",
       "      <td>240.0</td>\n",
       "      <td>323.0</td>\n",
       "      <td>68.0</td>\n",
       "      <td>3.52</td>\n",
       "      <td>2127</td>\n",
       "    </tr>\n",
       "    <tr>\n",
       "      <th>9</th>\n",
       "      <td>carbonchoicesuk</td>\n",
       "      <td>11.0</td>\n",
       "      <td>240.0</td>\n",
       "      <td>323.0</td>\n",
       "      <td>68.0</td>\n",
       "      <td>3.52</td>\n",
       "      <td>2127</td>\n",
       "    </tr>\n",
       "    <tr>\n",
       "      <th>10</th>\n",
       "      <td>3saitech</td>\n",
       "      <td>1.0</td>\n",
       "      <td>205.0</td>\n",
       "      <td>101.0</td>\n",
       "      <td>0.0</td>\n",
       "      <td>1.44</td>\n",
       "      <td>420</td>\n",
       "    </tr>\n",
       "    <tr>\n",
       "      <th>11</th>\n",
       "      <td>Ben_Geman</td>\n",
       "      <td>56.0</td>\n",
       "      <td>190.0</td>\n",
       "      <td>447.0</td>\n",
       "      <td>53.0</td>\n",
       "      <td>3.99</td>\n",
       "      <td>16796</td>\n",
       "    </tr>\n",
       "  </tbody>\n",
       "</table>\n",
       "</div>"
      ],
      "text/plain": [
       "   user_screen_name  reply_count  retweet_count  favorite_count  quoteCount  \\\n",
       "0        MikeHudema      11429.0       206473.0        406828.0     15604.0   \n",
       "1         mvollmer1        146.0         2840.0          4530.0       196.0   \n",
       "2     SolarPlusLLC1         31.0         1093.0          1240.0        25.0   \n",
       "3          arikring         24.0          434.0           463.0        13.0   \n",
       "4           DarMo68         56.0          336.0          1121.0        38.0   \n",
       "5   cleanenergywire         20.0          332.0           519.0        47.0   \n",
       "6       palmboy4444         26.0          321.0           537.0        14.0   \n",
       "7           mwt2008        109.0          313.0           858.0        85.0   \n",
       "8   carbonchoicesuk         11.0          240.0           323.0        68.0   \n",
       "9   carbonchoicesuk         11.0          240.0           323.0        68.0   \n",
       "10         3saitech          1.0          205.0           101.0         0.0   \n",
       "11        Ben_Geman         56.0          190.0           447.0        53.0   \n",
       "\n",
       "    engagement  n_followers  \n",
       "0      5277.70       131600  \n",
       "1        65.05        67019  \n",
       "2        20.66          781  \n",
       "3         6.99        87065  \n",
       "4         9.37          508  \n",
       "5         5.87         9865  \n",
       "6         5.72         1132  \n",
       "7         8.75         5677  \n",
       "8         3.52         2127  \n",
       "9         3.52         2127  \n",
       "10        1.44          420  \n",
       "11        3.99        16796  "
      ]
     },
     "execution_count": 43,
     "metadata": {},
     "output_type": "execute_result"
    }
   ],
   "source": [
    "topusers = topusers.merge(top10, how='left', on=['user_screen_name'])\n",
    "topusers"
   ]
  },
  {
   "cell_type": "markdown",
   "metadata": {
    "cell_id": "00069-fda7244f-8943-4c03-ac0b-d0a79bf905fb",
    "deepnote_cell_type": "markdown",
    "tags": []
   },
   "source": [
    "According to Twitter formula of calculationg engagement"
   ]
  },
  {
   "cell_type": "code",
   "execution_count": null,
   "metadata": {
    "cell_id": "00049-5a49d693-d4d7-46be-9de5-8ffd13fb40c5",
    "deepnote_cell_type": "code",
    "deepnote_to_be_reexecuted": false,
    "execution_millis": 0,
    "execution_start": 1610457222429,
    "source_hash": "a2bb1397",
    "tags": []
   },
   "outputs": [],
   "source": [
    "topusers['engagement'] = \n",
    "(topusers.reply_count + topusers.retweet_count) / topusers.n_followers "
   ]
  },
  {
   "cell_type": "markdown",
   "metadata": {
    "cell_id": "00071-f7f8c361-9f58-4d69-bab2-c562ee2dff70",
    "deepnote_cell_type": "markdown",
    "tags": []
   },
   "source": [
    "## Engagement Ration of most influencial users"
   ]
  },
  {
   "cell_type": "code",
   "execution_count": null,
   "metadata": {
    "cell_id": "00050-1c78ee91-b668-4611-897f-eccf0a5f0a55",
    "deepnote_cell_type": "code",
    "deepnote_to_be_reexecuted": false,
    "execution_millis": 237,
    "execution_start": 1610457222479,
    "source_hash": "fb1ce797",
    "tags": []
   },
   "outputs": [
    {
     "data": {
      "image/png": "[encoded data removed]",
      "text/plain": [
       "<Figure size 864x576 with 1 Axes>"
      ]
     },
     "metadata": {
      "needs_background": "light"
     },
     "output_type": "display_data"
    }
   ],
   "source": [
    "topusers = topusers.sort_values(by='engagement', ascending=False)\n",
    "\n",
    "plt.figure(figsize=(12,8))\n",
    "plt.title('Engagement Ration of most influencial users')\n",
    "_=plt.bar(topusers.user_screen_name,topusers.engagement, color='b')\n",
    "plt.xlabel('Active energy users')\n",
    "plt.ylabel('Engegement Ratio')\n",
    "_=plt.xticks(rotation=90)"
   ]
  },
  {
   "cell_type": "markdown",
   "metadata": {
    "cell_id": "00051-dd643577-27ef-48b1-b67f-7854f422e4a5",
    "deepnote_cell_type": "markdown",
    "tags": []
   },
   "source": [
    "to get a clear picture we take out the two top outliers to analyse better the other users."
   ]
  },
  {
   "cell_type": "code",
   "execution_count": null,
   "metadata": {
    "cell_id": "00051-7bfef8e9-73ce-4f24-96f4-7869ac93a2a8",
    "deepnote_cell_type": "code",
    "deepnote_to_be_reexecuted": false,
    "execution_millis": 0,
    "execution_start": 1610459336851,
    "source_hash": "b85b8fe1",
    "tags": []
   },
   "outputs": [],
   "source": [
    "top_users_wo_outliers = topusers.loc[(topusers[\"user_screen_name\"] != 'MikeHudema') & (topusers[\"user_screen_name\"] != 'mvollmer1')]\n",
    "top_users_wo_outliers = top_users_wo_outliers.sort_values(by='engagement', ascending=False)"
   ]
  },
  {
   "cell_type": "code",
   "execution_count": null,
   "metadata": {
    "cell_id": "00054-570a543e-201b-4a03-a443-425c09be6413",
    "deepnote_cell_type": "code",
    "deepnote_to_be_reexecuted": false,
    "execution_millis": 505,
    "execution_start": 1610469108628,
    "source_hash": "e2c4d562",
    "tags": []
   },
   "outputs": [
    {
     "data": {
      "image/png": "[encoded data removed]",
      "text/plain": [
       "<Figure size 864x576 with 1 Axes>"
      ]
     },
     "metadata": {},
     "output_type": "display_data"
    }
   ],
   "source": [
    "plt.figure(figsize=(12,8))\n",
    "\n",
    "_=plt.bar(top_users_wo_outliers.user_screen_name,top_users_wo_outliers.engagement, color='b')\n",
    "plt.xlabel('Active energy users')\n",
    "plt.ylabel('Logarithmic Engagement Ratio')\n",
    "plt.yscale('log')\n",
    "_=plt.xticks(rotation=90)"
   ]
  },
  {
   "cell_type": "markdown",
   "metadata": {
    "cell_id": "00054-b03f63c2-5380-408d-ac8f-048ee1f720d8",
    "deepnote_cell_type": "markdown",
    "tags": []
   },
   "source": [
    "# Used devices"
   ]
  },
  {
   "cell_type": "code",
   "execution_count": null,
   "metadata": {
    "cell_id": "00054-c1bb90bd-86c8-4aec-98df-8c96bb75f7ef",
    "deepnote_cell_type": "code",
    "deepnote_to_be_reexecuted": false,
    "execution_millis": 3,
    "execution_start": 1610457223256,
    "source_hash": "ecb093c2",
    "tags": []
   },
   "outputs": [
    {
     "data": {
      "text/plain": [
       "<bound method Series.count of Twitter Web App        111472\n",
       "Twitter for iPhone      38134\n",
       "Twitter for Android     23622\n",
       "Hootsuite Inc.          20095\n",
       "TweetDeck               15350\n",
       "IFTTT                    9278\n",
       "Twitter Web Client       9187\n",
       "Twitter for iPad         8426\n",
       "Buffer                   7865\n",
       "eClincher                3757\n",
       "Name: source_name, dtype: int64>"
      ]
     },
     "execution_count": 48,
     "metadata": {},
     "output_type": "execute_result"
    }
   ],
   "source": [
    "plateformes_used = twitter_dataset.source_name.value_counts().head(10)\n",
    "plateformes_used.count"
   ]
  },
  {
   "cell_type": "code",
   "execution_count": null,
   "metadata": {
    "cell_id": "00055-ed2b99eb-d26b-4f71-9cf3-33a17e7f63c9",
    "deepnote_cell_type": "code",
    "deepnote_to_be_reexecuted": false,
    "execution_millis": 103,
    "execution_start": 1610461075937,
    "source_hash": "8d2a75b1",
    "tags": []
   },
   "outputs": [
    {
     "data": {
      "application/vnd.deepnote.dataframe.v2+json": {
       "error": "Traceback (most recent call last):\n  File \"/shared-libs/code/variable_explorer.py\", line 123, in dataframe_formatter\n    return { MIME_TYPE: describe_pd_dataframe(df) }\n  File \"/shared-libs/code/variable_explorer_helpers.py\", line 129, in describe_pd_dataframe\n    'unique_count': column.dropna().nunique(),\n  File \"/opt/venv/lib/python3.7/site-packages/pandas/core/base.py\", line 1284, in nunique\n    uniqs = self.unique()\n  File \"/opt/venv/lib/python3.7/site-packages/pandas/core/series.py\", line 1816, in unique\n    result = super().unique()\n  File \"/opt/venv/lib/python3.7/site-packages/pandas/core/base.py\", line 1246, in unique\n    result = unique1d(values)\n  File \"/opt/venv/lib/python3.7/site-packages/pandas/core/algorithms.py\", line 382, in unique\n    uniques = table.unique(values)\n  File \"pandas/_libs/hashtable_class_helper.pxi\", line 1784, in pandas._libs.hashtable.PyObjectHashTable.unique\n  File \"pandas/_libs/hashtable_class_helper.pxi\", line 1731, in pandas._libs.hashtable.PyObjectHashTable._unique\nTypeError: unhashable type: 'list'\n"
      },
      "text/html": [
       "<div>\n",
       "<style scoped>\n",
       "    .dataframe tbody tr th:only-of-type {\n",
       "        vertical-align: middle;\n",
       "    }\n",
       "\n",
       "    .dataframe tbody tr th {\n",
       "        vertical-align: top;\n",
       "    }\n",
       "\n",
       "    .dataframe thead th {\n",
       "        text-align: right;\n",
       "    }\n",
       "</style>\n",
       "<table border=\"1\" class=\"dataframe\">\n",
       "  <thead>\n",
       "    <tr style=\"text-align: right;\">\n",
       "      <th></th>\n",
       "      <th>index</th>\n",
       "      <th>created_at</th>\n",
       "      <th>text</th>\n",
       "      <th>user_screen_name</th>\n",
       "      <th>reply_count</th>\n",
       "      <th>retweet_count</th>\n",
       "      <th>favorite_count</th>\n",
       "      <th>quoteCount</th>\n",
       "      <th>source_name</th>\n",
       "      <th>hashtags</th>\n",
       "      <th>tokenized_text</th>\n",
       "      <th>energy</th>\n",
       "      <th>date</th>\n",
       "    </tr>\n",
       "  </thead>\n",
       "  <tbody>\n",
       "    <tr>\n",
       "      <th>0</th>\n",
       "      <td>0</td>\n",
       "      <td>2020-01-31 23:57:47+00:00</td>\n",
       "      <td>#Canberra suburbs and hundreds of lives at ris...</td>\n",
       "      <td>LeipzigSyd</td>\n",
       "      <td>2.0</td>\n",
       "      <td>5.0</td>\n",
       "      <td>6.0</td>\n",
       "      <td>0.0</td>\n",
       "      <td>Twitter for Android</td>\n",
       "      <td>canberra|bushfires|nsw|act|victoria|coal|gas|a...</td>\n",
       "      <td>[canberra, bushfires, nsw, act, victoria, coal...</td>\n",
       "      <td>0</td>\n",
       "      <td>2020-01-31</td>\n",
       "    </tr>\n",
       "    <tr>\n",
       "      <th>1</th>\n",
       "      <td>1</td>\n",
       "      <td>2020-01-31 23:55:45+00:00</td>\n",
       "      <td>Another consequence of climate change: Dozens ...</td>\n",
       "      <td>5minofscience</td>\n",
       "      <td>0.0</td>\n",
       "      <td>1.0</td>\n",
       "      <td>0.0</td>\n",
       "      <td>0.0</td>\n",
       "      <td>Twitter for Android</td>\n",
       "      <td>climatechange|climate|environment|coronoraviru...</td>\n",
       "      <td>[climatechange, climate, environment, coronora...</td>\n",
       "      <td>0</td>\n",
       "      <td>2020-01-31</td>\n",
       "    </tr>\n",
       "    <tr>\n",
       "      <th>2</th>\n",
       "      <td>2</td>\n",
       "      <td>2020-01-31 23:49:44+00:00</td>\n",
       "      <td>#Climate breakdown 'is increasing #ViolenceAga...</td>\n",
       "      <td>Cameron_Diver</td>\n",
       "      <td>0.0</td>\n",
       "      <td>2.0</td>\n",
       "      <td>10.0</td>\n",
       "      <td>0.0</td>\n",
       "      <td>Twitter for iPhone</td>\n",
       "      <td>climate|violenceagainstwomen|vawg|climatechang...</td>\n",
       "      <td>[climate, violenceagainstwomen, vawg, climatec...</td>\n",
       "      <td>0</td>\n",
       "      <td>2020-01-31</td>\n",
       "    </tr>\n",
       "    <tr>\n",
       "      <th>3</th>\n",
       "      <td>3</td>\n",
       "      <td>2020-01-31 23:48:01+00:00</td>\n",
       "      <td>'If a private plane is really the most cost-ef...</td>\n",
       "      <td>PlantBasedNews</td>\n",
       "      <td>2.0</td>\n",
       "      <td>5.0</td>\n",
       "      <td>22.0</td>\n",
       "      <td>1.0</td>\n",
       "      <td>Buffer</td>\n",
       "      <td>climate</td>\n",
       "      <td>[climate]</td>\n",
       "      <td>0</td>\n",
       "      <td>2020-01-31</td>\n",
       "    </tr>\n",
       "    <tr>\n",
       "      <th>4</th>\n",
       "      <td>4</td>\n",
       "      <td>2020-01-31 23:35:35+00:00</td>\n",
       "      <td>@TerrySquibb1 @marketmodel @jimcramer @Sameera...</td>\n",
       "      <td>Bec_Carman</td>\n",
       "      <td>3.0</td>\n",
       "      <td>0.0</td>\n",
       "      <td>0.0</td>\n",
       "      <td>0.0</td>\n",
       "      <td>Twitter Web App</td>\n",
       "      <td>fossilfuels|climate</td>\n",
       "      <td>[fossilfuels, climate]</td>\n",
       "      <td>0</td>\n",
       "      <td>2020-01-31</td>\n",
       "    </tr>\n",
       "  </tbody>\n",
       "</table>\n",
       "</div>"
      ],
      "text/plain": [
       "   index                 created_at  \\\n",
       "0      0  2020-01-31 23:57:47+00:00   \n",
       "1      1  2020-01-31 23:55:45+00:00   \n",
       "2      2  2020-01-31 23:49:44+00:00   \n",
       "3      3  2020-01-31 23:48:01+00:00   \n",
       "4      4  2020-01-31 23:35:35+00:00   \n",
       "\n",
       "                                                text user_screen_name  \\\n",
       "0  #Canberra suburbs and hundreds of lives at ris...       LeipzigSyd   \n",
       "1  Another consequence of climate change: Dozens ...    5minofscience   \n",
       "2  #Climate breakdown 'is increasing #ViolenceAga...    Cameron_Diver   \n",
       "3  'If a private plane is really the most cost-ef...   PlantBasedNews   \n",
       "4  @TerrySquibb1 @marketmodel @jimcramer @Sameera...       Bec_Carman   \n",
       "\n",
       "   reply_count  retweet_count  favorite_count  quoteCount  \\\n",
       "0          2.0            5.0             6.0         0.0   \n",
       "1          0.0            1.0             0.0         0.0   \n",
       "2          0.0            2.0            10.0         0.0   \n",
       "3          2.0            5.0            22.0         1.0   \n",
       "4          3.0            0.0             0.0         0.0   \n",
       "\n",
       "           source_name                                           hashtags  \\\n",
       "0  Twitter for Android  canberra|bushfires|nsw|act|victoria|coal|gas|a...   \n",
       "1  Twitter for Android  climatechange|climate|environment|coronoraviru...   \n",
       "2   Twitter for iPhone  climate|violenceagainstwomen|vawg|climatechang...   \n",
       "3               Buffer                                            climate   \n",
       "4      Twitter Web App                                fossilfuels|climate   \n",
       "\n",
       "                                      tokenized_text  energy        date  \n",
       "0  [canberra, bushfires, nsw, act, victoria, coal...       0  2020-01-31  \n",
       "1  [climatechange, climate, environment, coronora...       0  2020-01-31  \n",
       "2  [climate, violenceagainstwomen, vawg, climatec...       0  2020-01-31  \n",
       "3                                          [climate]       0  2020-01-31  \n",
       "4                             [fossilfuels, climate]       0  2020-01-31  "
      ]
     },
     "execution_count": 109,
     "metadata": {},
     "output_type": "execute_result"
    }
   ],
   "source": [
    "tweet_sources = twitter_dataset[twitter_dataset.source_name.isin(plateformes_used.index)]\n",
    "tweet_sources.head()"
   ]
  },
  {
   "cell_type": "markdown",
   "metadata": {
    "cell_id": "00079-ec561bb7-a250-44a6-8670-c17d8515a292",
    "deepnote_cell_type": "markdown",
    "tags": []
   },
   "source": [
    "## Analysing  hashtag engagement throughout the period of 2020"
   ]
  },
  {
   "cell_type": "code",
   "execution_count": null,
   "metadata": {
    "cell_id": "00058-c90c9107-c5ed-453d-b1b4-a6429de484a6",
    "deepnote_cell_type": "code",
    "deepnote_to_be_reexecuted": false,
    "execution_millis": 154,
    "execution_start": 1610457223485,
    "source_hash": "9761e1a6",
    "tags": []
   },
   "outputs": [
    {
     "name": "stderr",
     "output_type": "stream",
     "text": [
      "/shared-libs/python3.7/py-core/lib/python3.7/site-packages/ipykernel_launcher.py:1: SettingWithCopyWarning: \n",
      "A value is trying to be set on a copy of a slice from a DataFrame.\n",
      "Try using .loc[row_indexer,col_indexer] = value instead\n",
      "\n",
      "See the caveats in the documentation: https://pandas.pydata.org/pandas-docs/stable/user_guide/indexing.html#returning-a-view-versus-a-copy\n",
      "  \"\"\"Entry point for launching an IPython kernel.\n"
     ]
    }
   ],
   "source": [
    "tweet_sources['hour'] = pd.to_datetime(tweet_sources['created_at'],format='%Y-%m-%dT%H:%M:%S.%f').dt.hour"
   ]
  },
  {
   "cell_type": "markdown",
   "metadata": {
    "cell_id": "00081-7e0fd34d-bd32-4700-8c0f-975689214966",
    "deepnote_cell_type": "markdown",
    "tags": []
   },
   "source": [
    "to transform from this '2020-01-31 23:49:44+00:00' to get the hour/month for further anaysis"
   ]
  },
  {
   "cell_type": "code",
   "execution_count": null,
   "metadata": {
    "cell_id": "00059-183c9aa9-45b2-4023-b23f-119a6969f8d3",
    "deepnote_cell_type": "code",
    "deepnote_to_be_reexecuted": false,
    "execution_millis": 1,
    "execution_start": 1610457223643,
    "source_hash": "932fab62",
    "tags": []
   },
   "outputs": [
    {
     "data": {
      "text/plain": [
       "0         23\n",
       "1         23\n",
       "2         23\n",
       "3         23\n",
       "4         23\n",
       "          ..\n",
       "288344     0\n",
       "288345     0\n",
       "288346     0\n",
       "288347     0\n",
       "288348     0\n",
       "Name: hour, Length: 247186, dtype: int64"
      ]
     },
     "execution_count": 51,
     "metadata": {},
     "output_type": "execute_result"
    }
   ],
   "source": [
    "tweet_sources['hour']"
   ]
  },
  {
   "cell_type": "code",
   "execution_count": null,
   "metadata": {
    "cell_id": "00060-dc51ce64-5d30-498b-a839-711ab1332408",
    "deepnote_cell_type": "code",
    "deepnote_to_be_reexecuted": false,
    "execution_millis": 303,
    "execution_start": 1610457223691,
    "source_hash": "2def8a47",
    "tags": []
   },
   "outputs": [
    {
     "name": "stderr",
     "output_type": "stream",
     "text": [
      "/shared-libs/python3.7/py-core/lib/python3.7/site-packages/ipykernel_launcher.py:1: SettingWithCopyWarning: \n",
      "A value is trying to be set on a copy of a slice from a DataFrame.\n",
      "Try using .loc[row_indexer,col_indexer] = value instead\n",
      "\n",
      "See the caveats in the documentation: https://pandas.pydata.org/pandas-docs/stable/user_guide/indexing.html#returning-a-view-versus-a-copy\n",
      "  \"\"\"Entry point for launching an IPython kernel.\n"
     ]
    }
   ],
   "source": [
    "twitter_dataset['date'] = pd.to_datetime(twitter_dataset['created_at'],format='%Y-%m-%dT%H:%M:%S.%f').dt.date"
   ]
  },
  {
   "cell_type": "code",
   "execution_count": null,
   "metadata": {
    "cell_id": "00059-e0dc28ba-2d14-49ec-871a-1bc195ccc7b0",
    "deepnote_cell_type": "code",
    "deepnote_to_be_reexecuted": false,
    "execution_millis": 333,
    "execution_start": 1610457223997,
    "source_hash": "9290d84f",
    "tags": []
   },
   "outputs": [],
   "source": [
    "retweets_mike = twitter_dataset[twitter_dataset.text.str.contains('MikeHudema', regex=False) & twitter_dataset.energy == 1]"
   ]
  },
  {
   "cell_type": "code",
   "execution_count": null,
   "metadata": {
    "cell_id": "00061-9372301b-729a-4fe4-ae43-8a35b5516c2c",
    "deepnote_cell_type": "code",
    "deepnote_to_be_reexecuted": false,
    "execution_millis": 8,
    "execution_start": 1610457224357,
    "source_hash": "25403412",
    "tags": []
   },
   "outputs": [],
   "source": [
    "tweets_mike = twitter_dataset[(twitter_dataset[\"user_screen_name\"]== 'MikeHudema') & (twitter_dataset[\"energy\"] == 1)]"
   ]
  },
  {
   "cell_type": "code",
   "execution_count": null,
   "metadata": {
    "cell_id": "00063-2068ad76-80ab-48f8-b1e4-dc41916df538",
    "deepnote_cell_type": "code",
    "deepnote_to_be_reexecuted": false,
    "execution_millis": 1,
    "execution_start": 1610458442878,
    "source_hash": "87ac685d",
    "tags": []
   },
   "outputs": [
    {
     "data": {
      "application/vnd.deepnote.dataframe.v2+json": {
       "error": "Traceback (most recent call last):\n  File \"/shared-libs/code/variable_explorer.py\", line 123, in dataframe_formatter\n    return { MIME_TYPE: describe_pd_dataframe(df) }\n  File \"/shared-libs/code/variable_explorer_helpers.py\", line 129, in describe_pd_dataframe\n    'unique_count': column.dropna().nunique(),\n  File \"/opt/venv/lib/python3.7/site-packages/pandas/core/base.py\", line 1284, in nunique\n    uniqs = self.unique()\n  File \"/opt/venv/lib/python3.7/site-packages/pandas/core/series.py\", line 1816, in unique\n    result = super().unique()\n  File \"/opt/venv/lib/python3.7/site-packages/pandas/core/base.py\", line 1246, in unique\n    result = unique1d(values)\n  File \"/opt/venv/lib/python3.7/site-packages/pandas/core/algorithms.py\", line 382, in unique\n    uniques = table.unique(values)\n  File \"pandas/_libs/hashtable_class_helper.pxi\", line 1784, in pandas._libs.hashtable.PyObjectHashTable.unique\n  File \"pandas/_libs/hashtable_class_helper.pxi\", line 1731, in pandas._libs.hashtable.PyObjectHashTable._unique\nTypeError: unhashable type: 'list'\n"
      },
      "text/html": [
       "<div>\n",
       "<style scoped>\n",
       "    .dataframe tbody tr th:only-of-type {\n",
       "        vertical-align: middle;\n",
       "    }\n",
       "\n",
       "    .dataframe tbody tr th {\n",
       "        vertical-align: top;\n",
       "    }\n",
       "\n",
       "    .dataframe thead th {\n",
       "        text-align: right;\n",
       "    }\n",
       "</style>\n",
       "<table border=\"1\" class=\"dataframe\">\n",
       "  <thead>\n",
       "    <tr style=\"text-align: right;\">\n",
       "      <th></th>\n",
       "      <th>index</th>\n",
       "      <th>created_at</th>\n",
       "      <th>text</th>\n",
       "      <th>user_screen_name</th>\n",
       "      <th>reply_count</th>\n",
       "      <th>retweet_count</th>\n",
       "      <th>favorite_count</th>\n",
       "      <th>quoteCount</th>\n",
       "      <th>source_name</th>\n",
       "      <th>hashtags</th>\n",
       "      <th>tokenized_text</th>\n",
       "      <th>energy</th>\n",
       "      <th>date</th>\n",
       "    </tr>\n",
       "  </thead>\n",
       "  <tbody>\n",
       "    <tr>\n",
       "      <th>532</th>\n",
       "      <td>532</td>\n",
       "      <td>2020-01-31 12:34:27+00:00</td>\n",
       "      <td>\"Right here, right now is where we draw the li...</td>\n",
       "      <td>MikeHudema</td>\n",
       "      <td>17.0</td>\n",
       "      <td>183.0</td>\n",
       "      <td>519.0</td>\n",
       "      <td>12.0</td>\n",
       "      <td>Buffer</td>\n",
       "      <td>actonclimate|greennewdeal|climate|energy|clima...</td>\n",
       "      <td>[actonclimate, greennewdeal, climate, energy, ...</td>\n",
       "      <td>1</td>\n",
       "      <td>2020-01-31</td>\n",
       "    </tr>\n",
       "    <tr>\n",
       "      <th>1886</th>\n",
       "      <td>1886</td>\n",
       "      <td>2020-01-30 05:22:18+00:00</td>\n",
       "      <td>They pay for our inaction. \\n\\nTime to #ActOnC...</td>\n",
       "      <td>MikeHudema</td>\n",
       "      <td>2.0</td>\n",
       "      <td>105.0</td>\n",
       "      <td>266.0</td>\n",
       "      <td>5.0</td>\n",
       "      <td>Buffer</td>\n",
       "      <td>actonclimate|climate|energy|australiafires|cli...</td>\n",
       "      <td>[actonclimate, climate, energy, australiafires...</td>\n",
       "      <td>1</td>\n",
       "      <td>2020-01-30</td>\n",
       "    </tr>\n",
       "    <tr>\n",
       "      <th>2093</th>\n",
       "      <td>2093</td>\n",
       "      <td>2020-01-29 22:18:25+00:00</td>\n",
       "      <td>Ikea put 1 million #solarpanels on their store...</td>\n",
       "      <td>MikeHudema</td>\n",
       "      <td>42.0</td>\n",
       "      <td>848.0</td>\n",
       "      <td>2183.0</td>\n",
       "      <td>53.0</td>\n",
       "      <td>Buffer</td>\n",
       "      <td>solarpanels|solar|actonclimate|climate|energy|...</td>\n",
       "      <td>[solarpanels, solar, actonclimate, climate, en...</td>\n",
       "      <td>1</td>\n",
       "      <td>2020-01-29</td>\n",
       "    </tr>\n",
       "    <tr>\n",
       "      <th>3069</th>\n",
       "      <td>3069</td>\n",
       "      <td>2020-01-29 01:32:23+00:00</td>\n",
       "      <td>New Zealand banned all new oil and gas develop...</td>\n",
       "      <td>MikeHudema</td>\n",
       "      <td>21.0</td>\n",
       "      <td>643.0</td>\n",
       "      <td>1525.0</td>\n",
       "      <td>43.0</td>\n",
       "      <td>Buffer</td>\n",
       "      <td>climatecrisis|actonclimate|climate|energy|go10...</td>\n",
       "      <td>[climatecrisis, actonclimate, climate, energy,...</td>\n",
       "      <td>1</td>\n",
       "      <td>2020-01-29</td>\n",
       "    </tr>\n",
       "    <tr>\n",
       "      <th>4933</th>\n",
       "      <td>4933</td>\n",
       "      <td>2020-01-27 12:22:29+00:00</td>\n",
       "      <td>We need to do better. \\n\\nThere is no planet B...</td>\n",
       "      <td>MikeHudema</td>\n",
       "      <td>36.0</td>\n",
       "      <td>673.0</td>\n",
       "      <td>1033.0</td>\n",
       "      <td>50.0</td>\n",
       "      <td>Buffer</td>\n",
       "      <td>actonclimate|climate|energy|deforestation</td>\n",
       "      <td>[actonclimate, climate, energy, deforestation]</td>\n",
       "      <td>1</td>\n",
       "      <td>2020-01-27</td>\n",
       "    </tr>\n",
       "  </tbody>\n",
       "</table>\n",
       "</div>"
      ],
      "text/plain": [
       "      index                 created_at  \\\n",
       "532     532  2020-01-31 12:34:27+00:00   \n",
       "1886   1886  2020-01-30 05:22:18+00:00   \n",
       "2093   2093  2020-01-29 22:18:25+00:00   \n",
       "3069   3069  2020-01-29 01:32:23+00:00   \n",
       "4933   4933  2020-01-27 12:22:29+00:00   \n",
       "\n",
       "                                                   text user_screen_name  \\\n",
       "532   \"Right here, right now is where we draw the li...       MikeHudema   \n",
       "1886  They pay for our inaction. \\n\\nTime to #ActOnC...       MikeHudema   \n",
       "2093  Ikea put 1 million #solarpanels on their store...       MikeHudema   \n",
       "3069  New Zealand banned all new oil and gas develop...       MikeHudema   \n",
       "4933  We need to do better. \\n\\nThere is no planet B...       MikeHudema   \n",
       "\n",
       "      reply_count  retweet_count  favorite_count  quoteCount source_name  \\\n",
       "532          17.0          183.0           519.0        12.0      Buffer   \n",
       "1886          2.0          105.0           266.0         5.0      Buffer   \n",
       "2093         42.0          848.0          2183.0        53.0      Buffer   \n",
       "3069         21.0          643.0          1525.0        43.0      Buffer   \n",
       "4933         36.0          673.0          1033.0        50.0      Buffer   \n",
       "\n",
       "                                               hashtags  \\\n",
       "532   actonclimate|greennewdeal|climate|energy|clima...   \n",
       "1886  actonclimate|climate|energy|australiafires|cli...   \n",
       "2093  solarpanels|solar|actonclimate|climate|energy|...   \n",
       "3069  climatecrisis|actonclimate|climate|energy|go10...   \n",
       "4933          actonclimate|climate|energy|deforestation   \n",
       "\n",
       "                                         tokenized_text  energy        date  \n",
       "532   [actonclimate, greennewdeal, climate, energy, ...       1  2020-01-31  \n",
       "1886  [actonclimate, climate, energy, australiafires...       1  2020-01-30  \n",
       "2093  [solarpanels, solar, actonclimate, climate, en...       1  2020-01-29  \n",
       "3069  [climatecrisis, actonclimate, climate, energy,...       1  2020-01-29  \n",
       "4933     [actonclimate, climate, energy, deforestation]       1  2020-01-27  "
      ]
     },
     "execution_count": 63,
     "metadata": {},
     "output_type": "execute_result"
    }
   ],
   "source": [
    "tweets_mike.head()"
   ]
  },
  {
   "cell_type": "code",
   "execution_count": null,
   "metadata": {
    "cell_id": "00064-ee7663ea-1d95-49bc-be74-9b0e68a08b9c",
    "deepnote_cell_type": "code",
    "deepnote_to_be_reexecuted": false,
    "execution_millis": 2,
    "execution_start": 1610457224438,
    "source_hash": "e2e93c0b",
    "tags": []
   },
   "outputs": [],
   "source": [
    "graph_retweet = retweets_mike.groupby('date').sum()"
   ]
  },
  {
   "cell_type": "markdown",
   "metadata": {
    "cell_id": "00088-d20ebcf5-ca04-4a9c-8646-254998a12c4c",
    "deepnote_cell_type": "markdown",
    "tags": []
   },
   "source": [
    "## Retweet number concerning posts of the most influencial user of #energy hashtag"
   ]
  },
  {
   "cell_type": "code",
   "execution_count": null,
   "metadata": {
    "cell_id": "00064-87c5ae6a-72f1-44f4-bd0c-4f2cc3f0847c",
    "deepnote_cell_type": "code",
    "deepnote_to_be_reexecuted": false,
    "execution_millis": 213,
    "execution_start": 1610457224448,
    "source_hash": "98ca5824",
    "tags": []
   },
   "outputs": [
    {
     "data": {
      "text/plain": [
       "[<matplotlib.lines.Line2D at 0x7f267d841310>]"
      ]
     },
     "execution_count": 57,
     "metadata": {},
     "output_type": "execute_result"
    },
    {
     "data": {
      "image/png": "[encoded data removed]",
      "text/plain": [
       "<Figure size 864x576 with 1 Axes>"
      ]
     },
     "metadata": {
      "needs_background": "light"
     },
     "output_type": "display_data"
    }
   ],
   "source": [
    "plt.figure(figsize=(12,8))\n",
    "plt.plot(graph_retweet.index,graph_retweet.retweet_count)"
   ]
  },
  {
   "cell_type": "code",
   "execution_count": null,
   "metadata": {
    "cell_id": "00066-93fa3e2c-9fda-4ccb-9800-1ebc735fca8d",
    "deepnote_cell_type": "code",
    "tags": []
   },
   "outputs": [],
   "source": [
    "#add new graph for tweets"
   ]
  },
  {
   "cell_type": "code",
   "execution_count": null,
   "metadata": {
    "cell_id": "00066-42f9d8df-f247-4def-83ca-ae4542d12001",
    "deepnote_cell_type": "code",
    "deepnote_to_be_reexecuted": false,
    "execution_millis": 190,
    "execution_start": 1610459057995,
    "source_hash": "9d519af7",
    "tags": []
   },
   "outputs": [
    {
     "data": {
      "image/png": "[encoded data removed]",
      "text/plain": [
       "<Figure size 864x576 with 1 Axes>"
      ]
     },
     "metadata": {
      "needs_background": "light"
     },
     "output_type": "display_data"
    }
   ],
   "source": [
    "plt.figure(figsize=(12,8))\n",
    "plt.plot(graph_tweet.insns.relplot(x= tweets_mike.index, y= n', data=covid,kind='line',\n",
    "            hue = 'continent', ci=None, height=4, aspect=3).set(title = '')dex,graph_tweet.text, color='darkslategrey')\n",
    "\n",
    "plt.plot(graph_retweet.index,graph_retweet.retweet_count, color='firebrick')\n",
    "\n",
    "plt.show()"
   ]
  },
  {
   "cell_type": "code",
   "execution_count": null,
   "metadata": {
    "cell_id": "00067-dafecf68-db06-475e-9503-b85f849c5a13",
    "deepnote_cell_type": "code",
    "deepnote_to_be_reexecuted": false,
    "execution_millis": 1009,
    "execution_start": 1610461905424,
    "source_hash": "6fe6ae21",
    "tags": []
   },
   "outputs": [
    {
     "data": {
      "text/plain": [
       "index                                                        32951347\n",
       "created_at          2020-01-31 21:31:16+00:002020-01-31 19:29:53+0...\n",
       "text                Want to make sure you never miss a thing from ...\n",
       "user_screen_name    SolarPlusLLC1SolarPlusLLC1MikeHudemaDarMo68Mik...\n",
       "reply_count                                                     11909\n",
       "retweet_count                                                  212777\n",
       "favorite_count                                                 416967\n",
       "quoteCount                                                      16143\n",
       "source_name         Twitter Web AppTwitter Web AppBufferTwitter We...\n",
       "hashtags            nabcep|climate|green|solar|energy|solarpower|r...\n",
       "tokenized_text      [nabcep, climate, green, solar, energy, solarp...\n",
       "energy                                                           2728\n",
       "dtype: object"
      ]
     },
     "execution_count": 139,
     "metadata": {},
     "output_type": "execute_result"
    }
   ],
   "source": [
    "t_users = twitter_dataset[(twitter_dataset.user_screen_name.isin(topusers.user_screen_name.values)) & (t_users[\"energy\"] == 1)]\n",
    "t_users.set_index('date').sum()"
   ]
  },
  {
   "cell_type": "code",
   "execution_count": null,
   "metadata": {
    "cell_id": "00067-7a4b2015-b6dc-4fff-a4dd-40e0b18d8ac6",
    "deepnote_cell_type": "code",
    "deepnote_to_be_reexecuted": false,
    "execution_millis": 1150,
    "execution_start": 1610463873379,
    "source_hash": "8241c33e",
    "tags": []
   },
   "outputs": [
    {
     "data": {
      "text/plain": [
       "<seaborn.axisgrid.FacetGrid at 0x7f266f1c5510>"
      ]
     },
     "execution_count": 160,
     "metadata": {},
     "output_type": "execute_result"
    },
    {
     "data": {
      "image/png": "[encoded data removed]",
      "text/plain": [
       "<Figure size 1284.85x576 with 1 Axes>"
      ]
     },
     "metadata": {},
     "output_type": "display_data"
    }
   ],
   "source": [
    "sns.relplot(x= 'date', y= 'retweet_count', data=t_users,kind='line',\n",
    "            hue = 'user_screen_name', ci=None, height=8, aspect=2).set(title = 'Retweet count by time')\n"
   ]
  },
  {
   "cell_type": "code",
   "execution_count": null,
   "metadata": {
    "cell_id": "00068-f682326c-4d1e-4c72-a8ff-90d15afe8b80",
    "deepnote_cell_type": "code",
    "deepnote_to_be_reexecuted": false,
    "execution_millis": 79,
    "execution_start": 1610462696224,
    "source_hash": "e1ef641c",
    "tags": []
   },
   "outputs": [
    {
     "data": {
      "application/vnd.deepnote.dataframe.v2+json": {
       "column_count": 6,
       "columns": [
        {
         "dtype": "int64",
         "name": "index",
         "stats": {
          "histogram": [
           {
            "bin_end": 7075.4,
            "bin_start": 7070,
            "count": 1
           },
           {
            "bin_end": 7080.8,
            "bin_start": 7075.4,
            "count": 0
           },
           {
            "bin_end": 7086.2,
            "bin_start": 7080.8,
            "count": 0
           },
           {
            "bin_end": 7091.6,
            "bin_start": 7086.2,
            "count": 0
           },
           {
            "bin_end": 7097,
            "bin_start": 7091.6,
            "count": 0
           },
           {
            "bin_end": 7102.4,
            "bin_start": 7097,
            "count": 0
           },
           {
            "bin_end": 7107.8,
            "bin_start": 7102.4,
            "count": 0
           },
           {
            "bin_end": 7113.2,
            "bin_start": 7107.8,
            "count": 0
           },
           {
            "bin_end": 7118.6,
            "bin_start": 7113.2,
            "count": 0
           },
           {
            "bin_end": 7124,
            "bin_start": 7118.6,
            "count": 1
           }
          ],
          "max": 7124,
          "min": 7070,
          "nan_count": 0,
          "unique_count": 2
         }
        },
        {
         "dtype": "float64",
         "name": "reply_count",
         "stats": {
          "histogram": [
           {
            "bin_end": 8,
            "bin_start": 7,
            "count": 1
           },
           {
            "bin_end": 9,
            "bin_start": 8,
            "count": 0
           },
           {
            "bin_end": 10,
            "bin_start": 9,
            "count": 0
           },
           {
            "bin_end": 11,
            "bin_start": 10,
            "count": 0
           },
           {
            "bin_end": 12,
            "bin_start": 11,
            "count": 0
           },
           {
            "bin_end": 13,
            "bin_start": 12,
            "count": 0
           },
           {
            "bin_end": 14,
            "bin_start": 13,
            "count": 0
           },
           {
            "bin_end": 15,
            "bin_start": 14,
            "count": 0
           },
           {
            "bin_end": 16,
            "bin_start": 15,
            "count": 0
           },
           {
            "bin_end": 17,
            "bin_start": 16,
            "count": 1
           }
          ],
          "max": 17,
          "min": 7,
          "nan_count": 0,
          "unique_count": 2
         }
        },
        {
         "dtype": "float64",
         "name": "retweet_count",
         "stats": {
          "histogram": [
           {
            "bin_end": 78.6,
            "bin_start": 44,
            "count": 1
           },
           {
            "bin_end": 113.2,
            "bin_start": 78.6,
            "count": 0
           },
           {
            "bin_end": 147.8,
            "bin_start": 113.2,
            "count": 0
           },
           {
            "bin_end": 182.4,
            "bin_start": 147.8,
            "count": 0
           },
           {
            "bin_end": 217,
            "bin_start": 182.4,
            "count": 0
           },
           {
            "bin_end": 251.60000000000002,
            "bin_start": 217,
            "count": 0
           },
           {
            "bin_end": 286.20000000000005,
            "bin_start": 251.60000000000002,
            "count": 0
           },
           {
            "bin_end": 320.8,
            "bin_start": 286.20000000000005,
            "count": 0
           },
           {
            "bin_end": 355.40000000000003,
            "bin_start": 320.8,
            "count": 0
           },
           {
            "bin_end": 390,
            "bin_start": 355.40000000000003,
            "count": 1
           }
          ],
          "max": 390,
          "min": 44,
          "nan_count": 0,
          "unique_count": 2
         }
        },
        {
         "dtype": "float64",
         "name": "favorite_count",
         "stats": {
          "histogram": [
           {
            "bin_end": 74.3,
            "bin_start": 35,
            "count": 1
           },
           {
            "bin_end": 113.6,
            "bin_start": 74.3,
            "count": 0
           },
           {
            "bin_end": 152.89999999999998,
            "bin_start": 113.6,
            "count": 0
           },
           {
            "bin_end": 192.2,
            "bin_start": 152.89999999999998,
            "count": 0
           },
           {
            "bin_end": 231.5,
            "bin_start": 192.2,
            "count": 0
           },
           {
            "bin_end": 270.79999999999995,
            "bin_start": 231.5,
            "count": 0
           },
           {
            "bin_end": 310.09999999999997,
            "bin_start": 270.79999999999995,
            "count": 0
           },
           {
            "bin_end": 349.4,
            "bin_start": 310.09999999999997,
            "count": 0
           },
           {
            "bin_end": 388.7,
            "bin_start": 349.4,
            "count": 0
           },
           {
            "bin_end": 428,
            "bin_start": 388.7,
            "count": 1
           }
          ],
          "max": 428,
          "min": 35,
          "nan_count": 0,
          "unique_count": 2
         }
        },
        {
         "dtype": "float64",
         "name": "quoteCount",
         "stats": {
          "histogram": [
           {
            "bin_end": 2.1,
            "bin_start": 1,
            "count": 1
           },
           {
            "bin_end": 3.2,
            "bin_start": 2.1,
            "count": 0
           },
           {
            "bin_end": 4.300000000000001,
            "bin_start": 3.2,
            "count": 0
           },
           {
            "bin_end": 5.4,
            "bin_start": 4.300000000000001,
            "count": 0
           },
           {
            "bin_end": 6.5,
            "bin_start": 5.4,
            "count": 0
           },
           {
            "bin_end": 7.6000000000000005,
            "bin_start": 6.5,
            "count": 0
           },
           {
            "bin_end": 8.700000000000001,
            "bin_start": 7.6000000000000005,
            "count": 0
           },
           {
            "bin_end": 9.8,
            "bin_start": 8.700000000000001,
            "count": 0
           },
           {
            "bin_end": 10.9,
            "bin_start": 9.8,
            "count": 0
           },
           {
            "bin_end": 12,
            "bin_start": 10.9,
            "count": 1
           }
          ],
          "max": 12,
          "min": 1,
          "nan_count": 0,
          "unique_count": 2
         }
        },
        {
         "dtype": "int64",
         "name": "energy",
         "stats": {
          "histogram": [
           {
            "bin_end": 0.6,
            "bin_start": 0.5,
            "count": 0
           },
           {
            "bin_end": 0.7,
            "bin_start": 0.6,
            "count": 0
           },
           {
            "bin_end": 0.8,
            "bin_start": 0.7,
            "count": 0
           },
           {
            "bin_end": 0.9,
            "bin_start": 0.8,
            "count": 0
           },
           {
            "bin_end": 1,
            "bin_start": 0.9,
            "count": 0
           },
           {
            "bin_end": 1.1,
            "bin_start": 1,
            "count": 2
           },
           {
            "bin_end": 1.2000000000000002,
            "bin_start": 1.1,
            "count": 0
           },
           {
            "bin_end": 1.3,
            "bin_start": 1.2000000000000002,
            "count": 0
           },
           {
            "bin_end": 1.4,
            "bin_start": 1.3,
            "count": 0
           },
           {
            "bin_end": 1.5,
            "bin_start": 1.4,
            "count": 0
           }
          ],
          "max": 1,
          "min": 1,
          "nan_count": 0,
          "unique_count": 1
         }
        },
        {
         "dtype": "object",
         "name": "_deepnote_index_column"
        }
       ],
       "row_count": 2,
       "rows_bottom": null,
       "rows_top": [
        {
         "_deepnote_index_column": "2020-08-20",
         "energy": 1,
         "favorite_count": 428,
         "index": 7124,
         "quoteCount": 12,
         "reply_count": 17,
         "retweet_count": 390
        },
        {
         "_deepnote_index_column": "2020-12-18",
         "energy": 1,
         "favorite_count": 35,
         "index": 7070,
         "quoteCount": 1,
         "reply_count": 7,
         "retweet_count": 44
        }
       ]
      },
      "text/html": [
       "<div>\n",
       "<style scoped>\n",
       "    .dataframe tbody tr th:only-of-type {\n",
       "        vertical-align: middle;\n",
       "    }\n",
       "\n",
       "    .dataframe tbody tr th {\n",
       "        vertical-align: top;\n",
       "    }\n",
       "\n",
       "    .dataframe thead th {\n",
       "        text-align: right;\n",
       "    }\n",
       "</style>\n",
       "<table border=\"1\" class=\"dataframe\">\n",
       "  <thead>\n",
       "    <tr style=\"text-align: right;\">\n",
       "      <th></th>\n",
       "      <th>index</th>\n",
       "      <th>reply_count</th>\n",
       "      <th>retweet_count</th>\n",
       "      <th>favorite_count</th>\n",
       "      <th>quoteCount</th>\n",
       "      <th>energy</th>\n",
       "    </tr>\n",
       "    <tr>\n",
       "      <th>date</th>\n",
       "      <th></th>\n",
       "      <th></th>\n",
       "      <th></th>\n",
       "      <th></th>\n",
       "      <th></th>\n",
       "      <th></th>\n",
       "    </tr>\n",
       "  </thead>\n",
       "  <tbody>\n",
       "    <tr>\n",
       "      <th>2020-08-20</th>\n",
       "      <td>7124</td>\n",
       "      <td>17.0</td>\n",
       "      <td>390.0</td>\n",
       "      <td>428.0</td>\n",
       "      <td>12.0</td>\n",
       "      <td>1</td>\n",
       "    </tr>\n",
       "    <tr>\n",
       "      <th>2020-12-18</th>\n",
       "      <td>7070</td>\n",
       "      <td>7.0</td>\n",
       "      <td>44.0</td>\n",
       "      <td>35.0</td>\n",
       "      <td>1.0</td>\n",
       "      <td>1</td>\n",
       "    </tr>\n",
       "  </tbody>\n",
       "</table>\n",
       "</div>"
      ],
      "text/plain": [
       "            index  reply_count  retweet_count  favorite_count  quoteCount  \\\n",
       "date                                                                        \n",
       "2020-08-20   7124         17.0          390.0           428.0        12.0   \n",
       "2020-12-18   7070          7.0           44.0            35.0         1.0   \n",
       "\n",
       "            energy  \n",
       "date                \n",
       "2020-08-20       1  \n",
       "2020-12-18       1  "
      ]
     },
     "execution_count": 156,
     "metadata": {},
     "output_type": "execute_result"
    }
   ],
   "source": [
    "user = twitter_dataset[(twitter_dataset.user_screen_name.isin(topusers.user_screen_name.values)) & (twitter_dataset[\"energy\"] == 1) & \n",
    "(twitter_dataset[\"user_screen_name\"]== 'arikring')]\n",
    "user.groupby('date').sum()"
   ]
  },
  {
   "cell_type": "markdown",
   "metadata": {
    "cell_id": "00069-b345ed1d-1121-4240-88c1-20c10ef581fb",
    "deepnote_cell_type": "markdown",
    "tags": []
   },
   "source": [
    "we take out the users that have the highest retweet count in order to analyse other's users trend throughtout the time"
   ]
  },
  {
   "cell_type": "code",
   "execution_count": null,
   "metadata": {
    "cell_id": "00069-cbe48a6c-223e-46fe-8fb4-3d42e9a154e2",
    "deepnote_cell_type": "code",
    "deepnote_to_be_reexecuted": false,
    "execution_millis": 873,
    "execution_start": 1610461729295,
    "source_hash": "53019c7a",
    "tags": []
   },
   "outputs": [
    {
     "data": {
      "text/plain": [
       "index                                                        21881391\n",
       "created_at          2020-01-31 21:31:16+00:002020-01-31 19:29:53+0...\n",
       "text                Want to make sure you never miss a thing from ...\n",
       "user_screen_name    SolarPlusLLC1SolarPlusLLC1DarMo68SolarPlusLLC1...\n",
       "reply_count                                                       254\n",
       "retweet_count                                                    2840\n",
       "favorite_count                                                   4699\n",
       "quoteCount                                                        277\n",
       "source_name         Twitter Web AppTwitter Web AppTwitter Web AppT...\n",
       "hashtags            nabcep|climate|green|solar|energy|solarpower|r...\n",
       "tokenized_text      [nabcep, climate, green, solar, energy, solarp...\n",
       "energy                                                           1809\n",
       "dtype: object"
      ]
     },
     "execution_count": 130,
     "metadata": {},
     "output_type": "execute_result"
    }
   ],
   "source": [
    "t_users_wo_outliers = twitter_dataset[(twitter_dataset.user_screen_name.isin(topusers.user_screen_name.values)) & (t_users[\"energy\"] == 1) &\n",
    " (t_users[\"user_screen_name\"]!= 'MikeHudema')& (t_users[\"energy\"] == 1) & (t_users[\"user_screen_name\"]!= 'mvollmer1') & (t_users[\"user_screen_name\"]!= 'arikring')\n",
    " & (t_users[\"user_screen_name\"]!= 'Ben_Geman')]\n",
    "t_users_wo_outliers.set_index('date').sum()"
   ]
  },
  {
   "cell_type": "code",
   "execution_count": null,
   "metadata": {
    "cell_id": "00070-c56b70f8-3b35-457e-8612-bf72eae6916f",
    "deepnote_cell_type": "code",
    "deepnote_to_be_reexecuted": false,
    "execution_millis": 1039,
    "execution_start": 1610463947783,
    "source_hash": "4d4c4ba",
    "tags": []
   },
   "outputs": [
    {
     "data": {
      "text/plain": [
       "<seaborn.axisgrid.FacetGrid at 0x7f266f745450>"
      ]
     },
     "execution_count": 163,
     "metadata": {},
     "output_type": "execute_result"
    },
    {
     "data": {
      "image/png": "[encoded data removed]",
      "text/plain": [
       "<Figure size 1140.85x504 with 1 Axes>"
      ]
     },
     "metadata": {},
     "output_type": "display_data"
    }
   ],
   "source": [
    "x = sns.relplot(x= 'date', y= 'retweet_count', data=t_users_wo_outliers,kind='line',\n",
    "            hue = 'user_screen_name',ci=None, height=7, aspect=2).set(title = 'Retweet count by time')\n",
    "#sns.axisgrid.FacetGrid\n",
    "x.set(ylim=(0, 35))\n"
   ]
  },
  {
   "cell_type": "code",
   "execution_count": null,
   "metadata": {
    "cell_id": "00072-97ed879e-7012-4314-a5e6-5af3d25a3d52",
    "deepnote_cell_type": "code",
    "deepnote_to_be_reexecuted": false,
    "execution_millis": 49,
    "execution_start": 1610462903099,
    "source_hash": "b34dd045",
    "tags": []
   },
   "outputs": [
    {
     "data": {
      "application/vnd.deepnote.dataframe.v2+json": {
       "error": "Traceback (most recent call last):\n  File \"/shared-libs/code/variable_explorer.py\", line 123, in dataframe_formatter\n    return { MIME_TYPE: describe_pd_dataframe(df) }\n  File \"/shared-libs/code/variable_explorer_helpers.py\", line 129, in describe_pd_dataframe\n    'unique_count': column.dropna().nunique(),\n  File \"/opt/venv/lib/python3.7/site-packages/pandas/core/base.py\", line 1284, in nunique\n    uniqs = self.unique()\n  File \"/opt/venv/lib/python3.7/site-packages/pandas/core/series.py\", line 1816, in unique\n    result = super().unique()\n  File \"/opt/venv/lib/python3.7/site-packages/pandas/core/base.py\", line 1246, in unique\n    result = unique1d(values)\n  File \"/opt/venv/lib/python3.7/site-packages/pandas/core/algorithms.py\", line 382, in unique\n    uniques = table.unique(values)\n  File \"pandas/_libs/hashtable_class_helper.pxi\", line 1784, in pandas._libs.hashtable.PyObjectHashTable.unique\n  File \"pandas/_libs/hashtable_class_helper.pxi\", line 1731, in pandas._libs.hashtable.PyObjectHashTable._unique\nTypeError: unhashable type: 'list'\n"
      },
      "text/html": [
       "<div>\n",
       "<style scoped>\n",
       "    .dataframe tbody tr th:only-of-type {\n",
       "        vertical-align: middle;\n",
       "    }\n",
       "\n",
       "    .dataframe tbody tr th {\n",
       "        vertical-align: top;\n",
       "    }\n",
       "\n",
       "    .dataframe thead th {\n",
       "        text-align: right;\n",
       "    }\n",
       "</style>\n",
       "<table border=\"1\" class=\"dataframe\">\n",
       "  <thead>\n",
       "    <tr style=\"text-align: right;\">\n",
       "      <th></th>\n",
       "      <th>index</th>\n",
       "      <th>created_at</th>\n",
       "      <th>text</th>\n",
       "      <th>user_screen_name</th>\n",
       "      <th>reply_count</th>\n",
       "      <th>retweet_count</th>\n",
       "      <th>favorite_count</th>\n",
       "      <th>quoteCount</th>\n",
       "      <th>source_name</th>\n",
       "      <th>hashtags</th>\n",
       "      <th>tokenized_text</th>\n",
       "      <th>energy</th>\n",
       "      <th>date</th>\n",
       "    </tr>\n",
       "  </thead>\n",
       "  <tbody>\n",
       "    <tr>\n",
       "      <th>13238</th>\n",
       "      <td>13238</td>\n",
       "      <td>2020-01-19 23:05:52+00:00</td>\n",
       "      <td>@HansLak @TXsharon @RisePDX @Jackthelad1947 @s...</td>\n",
       "      <td>arikring</td>\n",
       "      <td>10.0</td>\n",
       "      <td>185.0</td>\n",
       "      <td>184.0</td>\n",
       "      <td>4.0</td>\n",
       "      <td>Twitter Web App</td>\n",
       "      <td>coal|us|energytransition|solar|wind|geothermal...</td>\n",
       "      <td>[coal, us, energytransition, solar, wind, geot...</td>\n",
       "      <td>0</td>\n",
       "      <td>2020-01-19</td>\n",
       "    </tr>\n",
       "    <tr>\n",
       "      <th>54474</th>\n",
       "      <td>23220</td>\n",
       "      <td>2020-02-06 22:31:08+00:00</td>\n",
       "      <td>@Zalmodegicos @RuthPtn @DawnRoseTurner @ToddMc...</td>\n",
       "      <td>arikring</td>\n",
       "      <td>85.0</td>\n",
       "      <td>736.0</td>\n",
       "      <td>493.0</td>\n",
       "      <td>33.0</td>\n",
       "      <td>Twitter for Android</td>\n",
       "      <td>co2|actonclimate|fridaysforfuture|climatestrik...</td>\n",
       "      <td>[co2, actonclimate, fridaysforfuture, climates...</td>\n",
       "      <td>0</td>\n",
       "      <td>2020-02-06</td>\n",
       "    </tr>\n",
       "    <tr>\n",
       "      <th>62393</th>\n",
       "      <td>2186</td>\n",
       "      <td>2020-03-27 22:05:59+00:00</td>\n",
       "      <td>@GeraldKutney @CailinasEirinn @seth_leitman @C...</td>\n",
       "      <td>arikring</td>\n",
       "      <td>5.0</td>\n",
       "      <td>140.0</td>\n",
       "      <td>90.0</td>\n",
       "      <td>6.0</td>\n",
       "      <td>Twitter Web App</td>\n",
       "      <td>methane|climate|climatechange|ghg|climatestrik...</td>\n",
       "      <td>[methane, climate, climatechange, ghg, climate...</td>\n",
       "      <td>0</td>\n",
       "      <td>2020-03-27</td>\n",
       "    </tr>\n",
       "    <tr>\n",
       "      <th>84938</th>\n",
       "      <td>3612</td>\n",
       "      <td>2020-04-25 22:51:38+00:00</td>\n",
       "      <td>@climateguyw @Hazloe3 @ProfStrachan @ECOWARRIO...</td>\n",
       "      <td>arikring</td>\n",
       "      <td>7.0</td>\n",
       "      <td>259.0</td>\n",
       "      <td>225.0</td>\n",
       "      <td>9.0</td>\n",
       "      <td>Twitter Web App</td>\n",
       "      <td>climateaction|climate|fridaysforfuture|climate...</td>\n",
       "      <td>[climateaction, climate, fridaysforfuture, cli...</td>\n",
       "      <td>0</td>\n",
       "      <td>2020-04-25</td>\n",
       "    </tr>\n",
       "    <tr>\n",
       "      <th>156184</th>\n",
       "      <td>15951</td>\n",
       "      <td>2020-07-09 21:07:21+00:00</td>\n",
       "      <td>@Jackthelad1947 @ristori20 @kashthefuturist @A...</td>\n",
       "      <td>arikring</td>\n",
       "      <td>22.0</td>\n",
       "      <td>652.0</td>\n",
       "      <td>388.0</td>\n",
       "      <td>40.0</td>\n",
       "      <td>Twitter for Android</td>\n",
       "      <td>arctic|climatecrisis|climateaction|climate|car...</td>\n",
       "      <td>[arctic, climatecrisis, climateaction, climate...</td>\n",
       "      <td>0</td>\n",
       "      <td>2020-07-09</td>\n",
       "    </tr>\n",
       "    <tr>\n",
       "      <th>169392</th>\n",
       "      <td>7124</td>\n",
       "      <td>2020-08-20 20:00:23+00:00</td>\n",
       "      <td>@Hazloe3 @ProfStrachan @ECOWARRIORSS @MsFowler...</td>\n",
       "      <td>arikring</td>\n",
       "      <td>17.0</td>\n",
       "      <td>390.0</td>\n",
       "      <td>428.0</td>\n",
       "      <td>12.0</td>\n",
       "      <td>Twitter Web App</td>\n",
       "      <td>climatecrisis|climateaction|fridaysforfuture|c...</td>\n",
       "      <td>[climatecrisis, climateaction, fridaysforfutur...</td>\n",
       "      <td>1</td>\n",
       "      <td>2020-08-20</td>\n",
       "    </tr>\n",
       "    <tr>\n",
       "      <th>206357</th>\n",
       "      <td>24708</td>\n",
       "      <td>2020-09-05 22:01:55+00:00</td>\n",
       "      <td>@Jackthelad1947 @ristori20 @kashthefuturist @A...</td>\n",
       "      <td>arikring</td>\n",
       "      <td>9.0</td>\n",
       "      <td>454.0</td>\n",
       "      <td>461.0</td>\n",
       "      <td>21.0</td>\n",
       "      <td>Twitter Web App</td>\n",
       "      <td>estonian|volunteers|climatecrisis|climateactio...</td>\n",
       "      <td>[estonian, volunteers, climatecrisis, climatea...</td>\n",
       "      <td>0</td>\n",
       "      <td>2020-09-05</td>\n",
       "    </tr>\n",
       "    <tr>\n",
       "      <th>271008</th>\n",
       "      <td>7070</td>\n",
       "      <td>2020-12-18 20:37:27+00:00</td>\n",
       "      <td>@RisePDX @mzjacobson @Jackthelad1947 @HansLak ...</td>\n",
       "      <td>arikring</td>\n",
       "      <td>7.0</td>\n",
       "      <td>44.0</td>\n",
       "      <td>35.0</td>\n",
       "      <td>1.0</td>\n",
       "      <td>Twitter Web App</td>\n",
       "      <td>emobility|ev|climateaction|fridaysforfuture|ca...</td>\n",
       "      <td>[emobility, ev, climateaction, fridaysforfutur...</td>\n",
       "      <td>1</td>\n",
       "      <td>2020-12-18</td>\n",
       "    </tr>\n",
       "  </tbody>\n",
       "</table>\n",
       "</div>"
      ],
      "text/plain": [
       "        index                 created_at  \\\n",
       "13238   13238  2020-01-19 23:05:52+00:00   \n",
       "54474   23220  2020-02-06 22:31:08+00:00   \n",
       "62393    2186  2020-03-27 22:05:59+00:00   \n",
       "84938    3612  2020-04-25 22:51:38+00:00   \n",
       "156184  15951  2020-07-09 21:07:21+00:00   \n",
       "169392   7124  2020-08-20 20:00:23+00:00   \n",
       "206357  24708  2020-09-05 22:01:55+00:00   \n",
       "271008   7070  2020-12-18 20:37:27+00:00   \n",
       "\n",
       "                                                     text user_screen_name  \\\n",
       "13238   @HansLak @TXsharon @RisePDX @Jackthelad1947 @s...         arikring   \n",
       "54474   @Zalmodegicos @RuthPtn @DawnRoseTurner @ToddMc...         arikring   \n",
       "62393   @GeraldKutney @CailinasEirinn @seth_leitman @C...         arikring   \n",
       "84938   @climateguyw @Hazloe3 @ProfStrachan @ECOWARRIO...         arikring   \n",
       "156184  @Jackthelad1947 @ristori20 @kashthefuturist @A...         arikring   \n",
       "169392  @Hazloe3 @ProfStrachan @ECOWARRIORSS @MsFowler...         arikring   \n",
       "206357  @Jackthelad1947 @ristori20 @kashthefuturist @A...         arikring   \n",
       "271008  @RisePDX @mzjacobson @Jackthelad1947 @HansLak ...         arikring   \n",
       "\n",
       "        reply_count  retweet_count  favorite_count  quoteCount  \\\n",
       "13238          10.0          185.0           184.0         4.0   \n",
       "54474          85.0          736.0           493.0        33.0   \n",
       "62393           5.0          140.0            90.0         6.0   \n",
       "84938           7.0          259.0           225.0         9.0   \n",
       "156184         22.0          652.0           388.0        40.0   \n",
       "169392         17.0          390.0           428.0        12.0   \n",
       "206357          9.0          454.0           461.0        21.0   \n",
       "271008          7.0           44.0            35.0         1.0   \n",
       "\n",
       "                source_name  \\\n",
       "13238       Twitter Web App   \n",
       "54474   Twitter for Android   \n",
       "62393       Twitter Web App   \n",
       "84938       Twitter Web App   \n",
       "156184  Twitter for Android   \n",
       "169392      Twitter Web App   \n",
       "206357      Twitter Web App   \n",
       "271008      Twitter Web App   \n",
       "\n",
       "                                                 hashtags  \\\n",
       "13238   coal|us|energytransition|solar|wind|geothermal...   \n",
       "54474   co2|actonclimate|fridaysforfuture|climatestrik...   \n",
       "62393   methane|climate|climatechange|ghg|climatestrik...   \n",
       "84938   climateaction|climate|fridaysforfuture|climate...   \n",
       "156184  arctic|climatecrisis|climateaction|climate|car...   \n",
       "169392  climatecrisis|climateaction|fridaysforfuture|c...   \n",
       "206357  estonian|volunteers|climatecrisis|climateactio...   \n",
       "271008  emobility|ev|climateaction|fridaysforfuture|ca...   \n",
       "\n",
       "                                           tokenized_text  energy        date  \n",
       "13238   [coal, us, energytransition, solar, wind, geot...       0  2020-01-19  \n",
       "54474   [co2, actonclimate, fridaysforfuture, climates...       0  2020-02-06  \n",
       "62393   [methane, climate, climatechange, ghg, climate...       0  2020-03-27  \n",
       "84938   [climateaction, climate, fridaysforfuture, cli...       0  2020-04-25  \n",
       "156184  [arctic, climatecrisis, climateaction, climate...       0  2020-07-09  \n",
       "169392  [climatecrisis, climateaction, fridaysforfutur...       1  2020-08-20  \n",
       "206357  [estonian, volunteers, climatecrisis, climatea...       0  2020-09-05  \n",
       "271008  [emobility, ev, climateaction, fridaysforfutur...       1  2020-12-18  "
      ]
     },
     "execution_count": 159,
     "metadata": {},
     "output_type": "execute_result"
    }
   ],
   "source": [
    "twitter_dataset[twitter_dataset.user_screen_name.isin(['arikring']) & ]"
   ]
  },
  {
   "cell_type": "code",
   "execution_count": null,
   "metadata": {
    "cell_id": "00073-d9ec025d-9dad-4bcf-aac4-6c9ca3cdfd80",
    "deepnote_cell_type": "code",
    "tags": []
   },
   "outputs": [],
   "source": []
  }
 ],
 "metadata": {
  "deepnote_execution_queue": [],
  "deepnote_notebook_id": "6b562bc3-bd51-422d-bd8a-729c550bdd56",
  "kernelspec": {
   "display_name": "Python 3",
   "language": "python",
   "name": "python3"
  },
  "language_info": {
   "codemirror_mode": {
    "name": "ipython",
    "version": 3
   },
   "file_extension": ".py",
   "mimetype": "text/x-python",
   "name": "python",
   "nbconvert_exporter": "python",
   "pygments_lexer": "ipython3",
   "version": "3.7.4"
  }
 },
 "nbformat": 4,
 "nbformat_minor": 2
}
